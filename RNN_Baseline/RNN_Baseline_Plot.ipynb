{
 "cells": [
  {
   "cell_type": "markdown",
   "id": "952a8e9a",
   "metadata": {},
   "source": [
    "# Library"
   ]
  },
  {
   "cell_type": "code",
   "execution_count": 1,
   "id": "db7d2b33",
   "metadata": {},
   "outputs": [],
   "source": [
    "import numpy as np\n",
    "import pandas as pd\n",
    "\n",
    "from sklearn.preprocessing import LabelEncoder\n",
    "from sklearn.model_selection import train_test_split\n",
    "from sklearn.metrics import classification_report, confusion_matrix, accuracy_score, precision_score, recall_score, f1_score\n",
    "\n",
    "from keras.utils.np_utils import to_categorical\n",
    "from keras.models import load_model, Model, Sequential\n",
    "from keras.callbacks import EarlyStopping, ModelCheckpoint\n",
    "from keras.layers import Dense, Embedding, SimpleRNN, Dropout\n",
    "\n",
    "import tensorflow as tf\n",
    "from tensorflow.keras.preprocessing.text import Tokenizer\n",
    "from tensorflow.keras.preprocessing.sequence import pad_sequences"
   ]
  },
  {
   "cell_type": "markdown",
   "id": "51221a6e",
   "metadata": {},
   "source": [
    "# Preprocessing\n",
    "### Load Data"
   ]
  },
  {
   "cell_type": "code",
   "execution_count": 2,
   "id": "39a1552b",
   "metadata": {},
   "outputs": [
    {
     "data": {
      "text/html": [
       "<div>\n",
       "<style scoped>\n",
       "    .dataframe tbody tr th:only-of-type {\n",
       "        vertical-align: middle;\n",
       "    }\n",
       "\n",
       "    .dataframe tbody tr th {\n",
       "        vertical-align: top;\n",
       "    }\n",
       "\n",
       "    .dataframe thead th {\n",
       "        text-align: right;\n",
       "    }\n",
       "</style>\n",
       "<table border=\"1\" class=\"dataframe\">\n",
       "  <thead>\n",
       "    <tr style=\"text-align: right;\">\n",
       "      <th></th>\n",
       "      <th>detokenize</th>\n",
       "      <th>plot</th>\n",
       "    </tr>\n",
       "  </thead>\n",
       "  <tbody>\n",
       "    <tr>\n",
       "      <th>0</th>\n",
       "      <td>the desperate hour lakewood salah cerita suara...</td>\n",
       "      <td>1</td>\n",
       "    </tr>\n",
       "    <tr>\n",
       "      <th>1</th>\n",
       "      <td>edisi males review singkat tonton libur dp des...</td>\n",
       "      <td>1</td>\n",
       "    </tr>\n",
       "    <tr>\n",
       "      <th>2</th>\n",
       "      <td>plot utama orang deserter pursuit buru wamil j...</td>\n",
       "      <td>1</td>\n",
       "    </tr>\n",
       "    <tr>\n",
       "      <th>3</th>\n",
       "      <td>film hereditary horror thrill midsommar gatau ...</td>\n",
       "      <td>0</td>\n",
       "    </tr>\n",
       "    <tr>\n",
       "      <th>4</th>\n",
       "      <td>batman manusiawi tarung nya sadis scene pursui...</td>\n",
       "      <td>1</td>\n",
       "    </tr>\n",
       "  </tbody>\n",
       "</table>\n",
       "</div>"
      ],
      "text/plain": [
       "                                          detokenize  plot\n",
       "0  the desperate hour lakewood salah cerita suara...     1\n",
       "1  edisi males review singkat tonton libur dp des...     1\n",
       "2  plot utama orang deserter pursuit buru wamil j...     1\n",
       "3  film hereditary horror thrill midsommar gatau ...     0\n",
       "4  batman manusiawi tarung nya sadis scene pursui...     1"
      ]
     },
     "execution_count": 2,
     "metadata": {},
     "output_type": "execute_result"
    }
   ],
   "source": [
    "df = pd.read_pickle('preprocessed_df.pkl')\n",
    "df = pd.DataFrame(df[['detokenize','plot']])\n",
    "df.head()"
   ]
  },
  {
   "cell_type": "markdown",
   "id": "5120385c",
   "metadata": {},
   "source": [
    "### Vectorize"
   ]
  },
  {
   "cell_type": "code",
   "execution_count": 3,
   "id": "b19bee52",
   "metadata": {},
   "outputs": [
    {
     "data": {
      "text/plain": [
       "32"
      ]
     },
     "execution_count": 3,
     "metadata": {},
     "output_type": "execute_result"
    }
   ],
   "source": [
    "df['sent_len'] = df['detokenize'].apply(lambda x: len(x.split(\" \")))\n",
    "max_sequence_length = np.round(df['sent_len'].mean() + 2 * df['sent_len'].std()).astype(int)\n",
    "max_sequence_length"
   ]
  },
  {
   "cell_type": "code",
   "execution_count": 4,
   "id": "022b1db7",
   "metadata": {},
   "outputs": [
    {
     "name": "stdout",
     "output_type": "stream",
     "text": [
      "Dictionary Size\t: 17718\n",
      "Example Label\t:\n",
      "[[0. 0. 1.]\n",
      " [0. 0. 1.]\n",
      " [0. 0. 1.]\n",
      " [0. 1. 0.]\n",
      " [0. 0. 1.]]\n"
     ]
    }
   ],
   "source": [
    "MAX_NB_WORDS = 1e5\n",
    "le = LabelEncoder()\n",
    "\n",
    "reviews = df[\"detokenize\"]\n",
    "label = le.fit_transform(df['plot'])\n",
    "label = np.asarray(to_categorical(label))\n",
    "\n",
    "tokenizer = Tokenizer(num_words=MAX_NB_WORDS)\n",
    "tokenizer.fit_on_texts(reviews)\n",
    "review_seq = np.array(tokenizer.texts_to_sequences(reviews), dtype=object)\n",
    "review_seq = pad_sequences(review_seq, padding='post', maxlen=max_sequence_length)\n",
    "\n",
    "word_index = tokenizer.word_index\n",
    "print(f'Dictionary Size\\t: {len(word_index)}')\n",
    "print(f'Example Label\\t:\\n{label[:5]}')"
   ]
  },
  {
   "cell_type": "markdown",
   "id": "12ff6732",
   "metadata": {},
   "source": [
    "# Variables"
   ]
  },
  {
   "cell_type": "code",
   "execution_count": 5,
   "id": "46d427b6",
   "metadata": {},
   "outputs": [],
   "source": [
    "embedding_dim = 300\n",
    "vocab_size = min(MAX_NB_WORDS, len(word_index) + 1)\n",
    "test_size_split = 0.1"
   ]
  },
  {
   "cell_type": "markdown",
   "id": "83e39ee4",
   "metadata": {},
   "source": [
    "# Split Data"
   ]
  },
  {
   "cell_type": "code",
   "execution_count": 6,
   "id": "3a3db659",
   "metadata": {},
   "outputs": [
    {
     "name": "stdout",
     "output_type": "stream",
     "text": [
      "Train\t| X shape: (15522, 32)\tY shape: (15522, 3)\n",
      "Test\t| X shape: (1725, 32)\tY shape: (1725, 3)\n"
     ]
    }
   ],
   "source": [
    "x_train, x_test, y_train, y_test = (\n",
    "    train_test_split(review_seq, \n",
    "                     label, \n",
    "                     test_size=test_size_split, \n",
    "                     stratify = label, \n",
    "                     random_state=42)\n",
    ")\n",
    "\n",
    "x_train = tf.constant(x_train)\n",
    "x_test = tf.constant(x_test)\n",
    "\n",
    "y_train = tf.constant(y_train)\n",
    "y_test = tf.constant(y_test)\n",
    "\n",
    "print(f'Train\\t| X shape: {x_train.shape}\\tY shape: {y_train.shape}')\n",
    "print(f'Test\\t| X shape: {x_test.shape}\\tY shape: {y_test.shape}')"
   ]
  },
  {
   "cell_type": "markdown",
   "id": "0f45e08d",
   "metadata": {},
   "source": [
    "# Model RNN"
   ]
  },
  {
   "cell_type": "code",
   "execution_count": 7,
   "id": "4f1135a4",
   "metadata": {},
   "outputs": [],
   "source": [
    "def RNN(x_train_c, y_train_c, x_test_c, y_test_c):\n",
    "    rnn = Sequential()\n",
    "    rnn.add(Embedding(vocab_size, \n",
    "                      embedding_dim, \n",
    "                      input_length=max_sequence_length,\n",
    "                      trainable=False))\n",
    "    rnn.add(SimpleRNN(units=256, activation='relu', recurrent_dropout=0.2, return_sequences=True))\n",
    "    rnn.add(Dropout(0.2))\n",
    "    rnn.add(SimpleRNN(units=128, activation='relu', return_sequences=True))\n",
    "    rnn.add(Dropout(0.2))\n",
    "    rnn.add(SimpleRNN(units=64, activation='relu'))\n",
    "    rnn.add(Dropout(0.2))\n",
    "    rnn.add(Dense(units=3, activation='softmax'))\n",
    "    \n",
    "    rnn.compile(loss='categorical_crossentropy', optimizer='adam', metrics=['accuracy'])\n",
    "    \n",
    "    early_stopping = EarlyStopping(monitor='val_loss', mode = 'min', verbose = 1, patience=3, min_delta=0.0001)\n",
    "    model_checkpoint = ModelCheckpoint('rnn_baseline_plot.h5', monitor = 'val_accuracy', mode = 'max', verbose = 1, save_best_only = True)\n",
    "    \n",
    "    history = rnn.fit(x_train_c, y_train_c, epochs= 10, batch_size=128, \n",
    "                      validation_data=(x_test_c, y_test_c), verbose = 1,\n",
    "                      callbacks=[early_stopping, model_checkpoint])\n",
    "    \n",
    "    model = load_model('rnn_baseline_plot.h5')\n",
    "    y_pred = model.predict(x_test_c)\n",
    "    y_pred_cat = y_pred.argmax(axis=1)\n",
    "    y_test_cat = np.argmax(y_test_c, axis=1)\n",
    "   \n",
    "    cm = confusion_matrix(y_test_cat, y_pred_cat)\n",
    "    classreport = classification_report(y_test_cat, y_pred_cat)\n",
    "    f1 = f1_score(y_test_cat, y_pred_cat,  average=\"macro\")\n",
    "    recall = recall_score(y_test_cat, y_pred_cat, average=\"macro\")\n",
    "    precision = precision_score(y_test_cat, y_pred_cat, average=\"macro\")\n",
    "    accuracy = accuracy_score(y_test_cat, y_pred_cat)\n",
    "\n",
    "    print(classreport)\n",
    "    print(\"F1 Score : \", f1)\n",
    "    print(\"Precision : \", precision)\n",
    "    print(\"Recall : \", recall)\n",
    "    print(\"Accuracy : \", accuracy)\n",
    "\n",
    "    return [f1, precision, recall, accuracy, cm]"
   ]
  },
  {
   "cell_type": "markdown",
   "id": "e2d00b03",
   "metadata": {},
   "source": [
    "# Running"
   ]
  },
  {
   "cell_type": "code",
   "execution_count": 8,
   "id": "3e1c419c",
   "metadata": {},
   "outputs": [
    {
     "name": "stdout",
     "output_type": "stream",
     "text": [
      "Epoch 1/10\n",
      "122/122 [==============================] - ETA: 0s - loss: 1.0688 - accuracy: 0.3963\n",
      "Epoch 1: val_accuracy improved from -inf to 0.40580, saving model to rnn_baseline_plot.h5\n",
      "122/122 [==============================] - 27s 181ms/step - loss: 1.0688 - accuracy: 0.3963 - val_loss: 1.0646 - val_accuracy: 0.4058\n",
      "Epoch 2/10\n",
      "122/122 [==============================] - ETA: 0s - loss: 1.0655 - accuracy: 0.3984\n",
      "Epoch 2: val_accuracy did not improve from 0.40580\n",
      "122/122 [==============================] - 24s 200ms/step - loss: 1.0655 - accuracy: 0.3984 - val_loss: 1.0632 - val_accuracy: 0.4058\n",
      "Epoch 3/10\n",
      "122/122 [==============================] - ETA: 0s - loss: 1.0630 - accuracy: 0.4026\n",
      "Epoch 3: val_accuracy did not improve from 0.40580\n",
      "122/122 [==============================] - 26s 210ms/step - loss: 1.0630 - accuracy: 0.4026 - val_loss: 1.0634 - val_accuracy: 0.3971\n",
      "Epoch 4/10\n",
      "122/122 [==============================] - ETA: 0s - loss: 1.0615 - accuracy: 0.4031\n",
      "Epoch 4: val_accuracy improved from 0.40580 to 0.44058, saving model to rnn_baseline_plot.h5\n",
      "122/122 [==============================] - 26s 212ms/step - loss: 1.0615 - accuracy: 0.4031 - val_loss: 1.0587 - val_accuracy: 0.4406\n",
      "Epoch 5/10\n",
      "122/122 [==============================] - ETA: 0s - loss: 1.0648 - accuracy: 0.4023\n",
      "Epoch 5: val_accuracy did not improve from 0.44058\n",
      "122/122 [==============================] - 28s 232ms/step - loss: 1.0648 - accuracy: 0.4023 - val_loss: 1.0628 - val_accuracy: 0.4058\n",
      "Epoch 6/10\n",
      "122/122 [==============================] - ETA: 0s - loss: 1.0617 - accuracy: 0.4059\n",
      "Epoch 6: val_accuracy did not improve from 0.44058\n",
      "122/122 [==============================] - 25s 208ms/step - loss: 1.0617 - accuracy: 0.4059 - val_loss: 1.0622 - val_accuracy: 0.4058\n",
      "Epoch 7/10\n",
      "122/122 [==============================] - ETA: 0s - loss: 1.0599 - accuracy: 0.4078\n",
      "Epoch 7: val_accuracy did not improve from 0.44058\n",
      "122/122 [==============================] - 25s 209ms/step - loss: 1.0599 - accuracy: 0.4078 - val_loss: 1.0664 - val_accuracy: 0.3814\n",
      "Epoch 7: early stopping\n",
      "54/54 [==============================] - 3s 36ms/step\n",
      "              precision    recall  f1-score   support\n",
      "\n",
      "           0       0.00      0.00      0.00       368\n",
      "           1       0.47      0.83      0.60       657\n",
      "           2       0.67      0.55      0.60       700\n",
      "\n",
      "    accuracy                           0.54      1725\n",
      "   macro avg       0.38      0.46      0.40      1725\n",
      "weighted avg       0.45      0.54      0.47      1725\n",
      "\n",
      "F1 Score :  0.4015990331104013\n",
      "Precision :  0.382002477664938\n",
      "Recall :  0.4589215046749293\n",
      "Accuracy :  0.5379710144927536\n"
     ]
    },
    {
     "name": "stderr",
     "output_type": "stream",
     "text": [
      "C:\\Users\\Alienware 15R2\\anaconda3\\lib\\site-packages\\sklearn\\metrics\\_classification.py:1344: UndefinedMetricWarning: Precision and F-score are ill-defined and being set to 0.0 in labels with no predicted samples. Use `zero_division` parameter to control this behavior.\n",
      "  _warn_prf(average, modifier, msg_start, len(result))\n",
      "C:\\Users\\Alienware 15R2\\anaconda3\\lib\\site-packages\\sklearn\\metrics\\_classification.py:1344: UndefinedMetricWarning: Precision and F-score are ill-defined and being set to 0.0 in labels with no predicted samples. Use `zero_division` parameter to control this behavior.\n",
      "  _warn_prf(average, modifier, msg_start, len(result))\n",
      "C:\\Users\\Alienware 15R2\\anaconda3\\lib\\site-packages\\sklearn\\metrics\\_classification.py:1344: UndefinedMetricWarning: Precision and F-score are ill-defined and being set to 0.0 in labels with no predicted samples. Use `zero_division` parameter to control this behavior.\n",
      "  _warn_prf(average, modifier, msg_start, len(result))\n",
      "C:\\Users\\Alienware 15R2\\anaconda3\\lib\\site-packages\\sklearn\\metrics\\_classification.py:1344: UndefinedMetricWarning: Precision is ill-defined and being set to 0.0 in labels with no predicted samples. Use `zero_division` parameter to control this behavior.\n",
      "  _warn_prf(average, modifier, msg_start, len(result))\n"
     ]
    },
    {
     "name": "stdout",
     "output_type": "stream",
     "text": [
      "Epoch 1/10\n",
      "122/122 [==============================] - ETA: 0s - loss: 1.0675 - accuracy: 0.3965\n",
      "Epoch 1: val_accuracy improved from -inf to 0.40580, saving model to rnn_baseline_plot.h5\n",
      "122/122 [==============================] - 37s 231ms/step - loss: 1.0675 - accuracy: 0.3965 - val_loss: 1.0644 - val_accuracy: 0.4058\n",
      "Epoch 2/10\n",
      "122/122 [==============================] - ETA: 0s - loss: 1.0651 - accuracy: 0.4040\n",
      "Epoch 2: val_accuracy did not improve from 0.40580\n",
      "122/122 [==============================] - 25s 203ms/step - loss: 1.0651 - accuracy: 0.4040 - val_loss: 1.0628 - val_accuracy: 0.4058\n",
      "Epoch 3/10\n",
      "122/122 [==============================] - ETA: 0s - loss: 1.0624 - accuracy: 0.4036\n",
      "Epoch 3: val_accuracy did not improve from 0.40580\n",
      "122/122 [==============================] - 22s 177ms/step - loss: 1.0624 - accuracy: 0.4036 - val_loss: 1.0598 - val_accuracy: 0.4058\n",
      "Epoch 4/10\n",
      "122/122 [==============================] - ETA: 0s - loss: 1.0636 - accuracy: 0.4011\n",
      "Epoch 4: val_accuracy did not improve from 0.40580\n",
      "122/122 [==============================] - 26s 216ms/step - loss: 1.0636 - accuracy: 0.4011 - val_loss: 1.0620 - val_accuracy: 0.4058\n",
      "Epoch 5/10\n",
      "122/122 [==============================] - ETA: 0s - loss: 1.0578 - accuracy: 0.4137\n",
      "Epoch 5: val_accuracy improved from 0.40580 to 0.46435, saving model to rnn_baseline_plot.h5\n",
      "122/122 [==============================] - 28s 230ms/step - loss: 1.0578 - accuracy: 0.4137 - val_loss: 1.0429 - val_accuracy: 0.4643\n",
      "Epoch 6/10\n",
      "122/122 [==============================] - ETA: 0s - loss: 1.0170 - accuracy: 0.5177\n",
      "Epoch 6: val_accuracy improved from 0.46435 to 0.53507, saving model to rnn_baseline_plot.h5\n",
      "122/122 [==============================] - 24s 193ms/step - loss: 1.0170 - accuracy: 0.5177 - val_loss: 1.0198 - val_accuracy: 0.5351\n",
      "Epoch 7/10\n",
      "122/122 [==============================] - ETA: 0s - loss: 1.0065 - accuracy: 0.5231\n",
      "Epoch 7: val_accuracy did not improve from 0.53507\n",
      "122/122 [==============================] - 27s 220ms/step - loss: 1.0065 - accuracy: 0.5231 - val_loss: 0.9872 - val_accuracy: 0.5049\n",
      "Epoch 8/10\n",
      "122/122 [==============================] - ETA: 0s - loss: 0.9953 - accuracy: 0.5233\n",
      "Epoch 8: val_accuracy did not improve from 0.53507\n",
      "122/122 [==============================] - 25s 208ms/step - loss: 0.9953 - accuracy: 0.5233 - val_loss: 1.0081 - val_accuracy: 0.5299\n",
      "Epoch 9/10\n",
      "122/122 [==============================] - ETA: 0s - loss: 0.9734 - accuracy: 0.5403\n",
      "Epoch 9: val_accuracy improved from 0.53507 to 0.54899, saving model to rnn_baseline_plot.h5\n",
      "122/122 [==============================] - 25s 209ms/step - loss: 0.9734 - accuracy: 0.5403 - val_loss: 0.9448 - val_accuracy: 0.5490\n",
      "Epoch 10/10\n",
      "122/122 [==============================] - ETA: 0s - loss: 0.9503 - accuracy: 0.5666\n",
      "Epoch 10: val_accuracy improved from 0.54899 to 0.56870, saving model to rnn_baseline_plot.h5\n",
      "122/122 [==============================] - 25s 205ms/step - loss: 0.9503 - accuracy: 0.5666 - val_loss: 0.9588 - val_accuracy: 0.5687\n",
      "54/54 [==============================] - 3s 35ms/step\n"
     ]
    },
    {
     "name": "stderr",
     "output_type": "stream",
     "text": [
      "C:\\Users\\Alienware 15R2\\anaconda3\\lib\\site-packages\\sklearn\\metrics\\_classification.py:1344: UndefinedMetricWarning: Precision and F-score are ill-defined and being set to 0.0 in labels with no predicted samples. Use `zero_division` parameter to control this behavior.\n",
      "  _warn_prf(average, modifier, msg_start, len(result))\n",
      "C:\\Users\\Alienware 15R2\\anaconda3\\lib\\site-packages\\sklearn\\metrics\\_classification.py:1344: UndefinedMetricWarning: Precision and F-score are ill-defined and being set to 0.0 in labels with no predicted samples. Use `zero_division` parameter to control this behavior.\n",
      "  _warn_prf(average, modifier, msg_start, len(result))\n",
      "C:\\Users\\Alienware 15R2\\anaconda3\\lib\\site-packages\\sklearn\\metrics\\_classification.py:1344: UndefinedMetricWarning: Precision and F-score are ill-defined and being set to 0.0 in labels with no predicted samples. Use `zero_division` parameter to control this behavior.\n",
      "  _warn_prf(average, modifier, msg_start, len(result))\n",
      "C:\\Users\\Alienware 15R2\\anaconda3\\lib\\site-packages\\sklearn\\metrics\\_classification.py:1344: UndefinedMetricWarning: Precision is ill-defined and being set to 0.0 in labels with no predicted samples. Use `zero_division` parameter to control this behavior.\n",
      "  _warn_prf(average, modifier, msg_start, len(result))\n"
     ]
    },
    {
     "name": "stdout",
     "output_type": "stream",
     "text": [
      "              precision    recall  f1-score   support\n",
      "\n",
      "           0       0.00      0.00      0.00       368\n",
      "           1       0.53      0.75      0.62       657\n",
      "           2       0.61      0.70      0.65       700\n",
      "\n",
      "    accuracy                           0.57      1725\n",
      "   macro avg       0.38      0.48      0.42      1725\n",
      "weighted avg       0.45      0.57      0.50      1725\n",
      "\n",
      "F1 Score :  0.42471189773844636\n",
      "Precision :  0.3811599099099099\n",
      "Recall :  0.48241429296223814\n",
      "Accuracy :  0.568695652173913\n",
      "Epoch 1/10\n",
      "122/122 [==============================] - ETA: 0s - loss: 1.0689 - accuracy: 0.3967\n",
      "Epoch 1: val_accuracy improved from -inf to 0.40638, saving model to rnn_baseline_plot.h5\n",
      "122/122 [==============================] - 36s 219ms/step - loss: 1.0689 - accuracy: 0.3967 - val_loss: 1.0694 - val_accuracy: 0.4064\n",
      "Epoch 2/10\n",
      "122/122 [==============================] - ETA: 0s - loss: 1.0657 - accuracy: 0.3967\n",
      "Epoch 2: val_accuracy did not improve from 0.40638\n",
      "122/122 [==============================] - 27s 223ms/step - loss: 1.0657 - accuracy: 0.3967 - val_loss: 1.0627 - val_accuracy: 0.4058\n",
      "Epoch 3/10\n",
      "122/122 [==============================] - ETA: 0s - loss: 1.0638 - accuracy: 0.4030\n",
      "Epoch 3: val_accuracy did not improve from 0.40638\n",
      "122/122 [==============================] - 25s 205ms/step - loss: 1.0638 - accuracy: 0.4030 - val_loss: 1.0620 - val_accuracy: 0.4058\n",
      "Epoch 4/10\n",
      "122/122 [==============================] - ETA: 0s - loss: 1.0619 - accuracy: 0.4046\n",
      "Epoch 4: val_accuracy did not improve from 0.40638\n",
      "122/122 [==============================] - 21s 172ms/step - loss: 1.0619 - accuracy: 0.4046 - val_loss: 1.0640 - val_accuracy: 0.4046\n",
      "Epoch 5/10\n",
      "122/122 [==============================] - ETA: 0s - loss: 1.0599 - accuracy: 0.4081\n",
      "Epoch 5: val_accuracy did not improve from 0.40638\n",
      "122/122 [==============================] - 24s 200ms/step - loss: 1.0599 - accuracy: 0.4081 - val_loss: 1.0634 - val_accuracy: 0.4046\n",
      "Epoch 6/10\n",
      "122/122 [==============================] - ETA: 0s - loss: 1.0571 - accuracy: 0.4068\n",
      "Epoch 6: val_accuracy did not improve from 0.40638\n",
      "122/122 [==============================] - 24s 199ms/step - loss: 1.0571 - accuracy: 0.4068 - val_loss: 1.0677 - val_accuracy: 0.4041\n",
      "Epoch 6: early stopping\n",
      "54/54 [==============================] - 4s 53ms/step\n",
      "              precision    recall  f1-score   support\n",
      "\n",
      "           0       0.00      0.00      0.00       368\n",
      "           1       0.40      0.84      0.54       657\n",
      "           2       0.54      0.25      0.35       700\n",
      "\n",
      "    accuracy                           0.42      1725\n",
      "   macro avg       0.31      0.36      0.29      1725\n",
      "weighted avg       0.37      0.42      0.35      1725\n",
      "\n",
      "F1 Score :  0.29457219763093695\n",
      "Precision :  0.31214963580994187\n",
      "Recall :  0.3648227875625136\n",
      "Accuracy :  0.42318840579710143\n"
     ]
    },
    {
     "name": "stderr",
     "output_type": "stream",
     "text": [
      "C:\\Users\\Alienware 15R2\\anaconda3\\lib\\site-packages\\sklearn\\metrics\\_classification.py:1344: UndefinedMetricWarning: Precision and F-score are ill-defined and being set to 0.0 in labels with no predicted samples. Use `zero_division` parameter to control this behavior.\n",
      "  _warn_prf(average, modifier, msg_start, len(result))\n",
      "C:\\Users\\Alienware 15R2\\anaconda3\\lib\\site-packages\\sklearn\\metrics\\_classification.py:1344: UndefinedMetricWarning: Precision and F-score are ill-defined and being set to 0.0 in labels with no predicted samples. Use `zero_division` parameter to control this behavior.\n",
      "  _warn_prf(average, modifier, msg_start, len(result))\n",
      "C:\\Users\\Alienware 15R2\\anaconda3\\lib\\site-packages\\sklearn\\metrics\\_classification.py:1344: UndefinedMetricWarning: Precision and F-score are ill-defined and being set to 0.0 in labels with no predicted samples. Use `zero_division` parameter to control this behavior.\n",
      "  _warn_prf(average, modifier, msg_start, len(result))\n",
      "C:\\Users\\Alienware 15R2\\anaconda3\\lib\\site-packages\\sklearn\\metrics\\_classification.py:1344: UndefinedMetricWarning: Precision is ill-defined and being set to 0.0 in labels with no predicted samples. Use `zero_division` parameter to control this behavior.\n",
      "  _warn_prf(average, modifier, msg_start, len(result))\n"
     ]
    },
    {
     "name": "stdout",
     "output_type": "stream",
     "text": [
      "Epoch 1/10\n",
      "122/122 [==============================] - ETA: 0s - loss: 1.0689 - accuracy: 0.3985\n",
      "Epoch 1: val_accuracy improved from -inf to 0.40580, saving model to rnn_baseline_plot.h5\n",
      "122/122 [==============================] - 39s 240ms/step - loss: 1.0689 - accuracy: 0.3985 - val_loss: 1.0633 - val_accuracy: 0.4058\n",
      "Epoch 2/10\n",
      "122/122 [==============================] - ETA: 0s - loss: 1.0650 - accuracy: 0.4023\n",
      "Epoch 2: val_accuracy did not improve from 0.40580\n",
      "122/122 [==============================] - 21s 173ms/step - loss: 1.0650 - accuracy: 0.4023 - val_loss: 1.0626 - val_accuracy: 0.4058\n",
      "Epoch 3/10\n",
      "122/122 [==============================] - ETA: 0s - loss: 1.0632 - accuracy: 0.4058\n",
      "Epoch 3: val_accuracy did not improve from 0.40580\n",
      "122/122 [==============================] - 21s 174ms/step - loss: 1.0632 - accuracy: 0.4058 - val_loss: 1.0644 - val_accuracy: 0.4058\n",
      "Epoch 4/10\n",
      "122/122 [==============================] - ETA: 0s - loss: 1.0621 - accuracy: 0.4052\n",
      "Epoch 4: val_accuracy did not improve from 0.40580\n",
      "122/122 [==============================] - 18s 146ms/step - loss: 1.0621 - accuracy: 0.4052 - val_loss: 1.0598 - val_accuracy: 0.4058\n",
      "Epoch 5/10\n",
      "122/122 [==============================] - ETA: 0s - loss: 1.0611 - accuracy: 0.4015\n",
      "Epoch 5: val_accuracy did not improve from 0.40580\n",
      "122/122 [==============================] - 18s 144ms/step - loss: 1.0611 - accuracy: 0.4015 - val_loss: 1.0623 - val_accuracy: 0.4058\n",
      "Epoch 6/10\n",
      "122/122 [==============================] - ETA: 0s - loss: 1.0590 - accuracy: 0.4047\n",
      "Epoch 6: val_accuracy did not improve from 0.40580\n",
      "122/122 [==============================] - 20s 165ms/step - loss: 1.0590 - accuracy: 0.4047 - val_loss: 1.0652 - val_accuracy: 0.3843\n",
      "Epoch 7/10\n",
      "122/122 [==============================] - ETA: 0s - loss: 1.0558 - accuracy: 0.4137\n",
      "Epoch 7: val_accuracy improved from 0.40580 to 0.52116, saving model to rnn_baseline_plot.h5\n",
      "122/122 [==============================] - 18s 146ms/step - loss: 1.0558 - accuracy: 0.4137 - val_loss: 1.0211 - val_accuracy: 0.5212\n",
      "Epoch 8/10\n",
      "122/122 [==============================] - ETA: 0s - loss: 1.0233 - accuracy: 0.4951\n",
      "Epoch 8: val_accuracy improved from 0.52116 to 0.53507, saving model to rnn_baseline_plot.h5\n",
      "122/122 [==============================] - 14s 113ms/step - loss: 1.0233 - accuracy: 0.4951 - val_loss: 0.9755 - val_accuracy: 0.5351\n",
      "Epoch 9/10\n",
      "122/122 [==============================] - ETA: 0s - loss: 0.9654 - accuracy: 0.5643\n",
      "Epoch 9: val_accuracy did not improve from 0.53507\n",
      "122/122 [==============================] - 16s 133ms/step - loss: 0.9654 - accuracy: 0.5643 - val_loss: 0.9866 - val_accuracy: 0.5194\n",
      "Epoch 10/10\n",
      "122/122 [==============================] - ETA: 0s - loss: 0.9256 - accuracy: 0.5927\n",
      "Epoch 10: val_accuracy improved from 0.53507 to 0.55130, saving model to rnn_baseline_plot.h5\n",
      "122/122 [==============================] - 19s 157ms/step - loss: 0.9256 - accuracy: 0.5927 - val_loss: 0.9414 - val_accuracy: 0.5513\n",
      "54/54 [==============================] - 3s 30ms/step\n",
      "              precision    recall  f1-score   support\n",
      "\n",
      "           0       0.00      0.00      0.00       368\n",
      "           1       0.66      0.46      0.54       657\n",
      "           2       0.51      0.93      0.66       700\n",
      "\n",
      "    accuracy                           0.55      1725\n",
      "   macro avg       0.39      0.46      0.40      1725\n",
      "weighted avg       0.46      0.55      0.47      1725\n",
      "\n",
      "F1 Score :  0.3998505739835981\n",
      "Precision :  0.3898307135055921\n",
      "Recall :  0.46217583532652023\n",
      "Accuracy :  0.551304347826087\n"
     ]
    },
    {
     "name": "stderr",
     "output_type": "stream",
     "text": [
      "C:\\Users\\Alienware 15R2\\anaconda3\\lib\\site-packages\\sklearn\\metrics\\_classification.py:1344: UndefinedMetricWarning: Precision and F-score are ill-defined and being set to 0.0 in labels with no predicted samples. Use `zero_division` parameter to control this behavior.\n",
      "  _warn_prf(average, modifier, msg_start, len(result))\n",
      "C:\\Users\\Alienware 15R2\\anaconda3\\lib\\site-packages\\sklearn\\metrics\\_classification.py:1344: UndefinedMetricWarning: Precision and F-score are ill-defined and being set to 0.0 in labels with no predicted samples. Use `zero_division` parameter to control this behavior.\n",
      "  _warn_prf(average, modifier, msg_start, len(result))\n",
      "C:\\Users\\Alienware 15R2\\anaconda3\\lib\\site-packages\\sklearn\\metrics\\_classification.py:1344: UndefinedMetricWarning: Precision and F-score are ill-defined and being set to 0.0 in labels with no predicted samples. Use `zero_division` parameter to control this behavior.\n",
      "  _warn_prf(average, modifier, msg_start, len(result))\n",
      "C:\\Users\\Alienware 15R2\\anaconda3\\lib\\site-packages\\sklearn\\metrics\\_classification.py:1344: UndefinedMetricWarning: Precision is ill-defined and being set to 0.0 in labels with no predicted samples. Use `zero_division` parameter to control this behavior.\n",
      "  _warn_prf(average, modifier, msg_start, len(result))\n"
     ]
    },
    {
     "name": "stdout",
     "output_type": "stream",
     "text": [
      "Epoch 1/10\n",
      "122/122 [==============================] - ETA: 0s - loss: 1.0700 - accuracy: 0.3970\n",
      "Epoch 1: val_accuracy improved from -inf to 0.40580, saving model to rnn_baseline_plot.h5\n",
      "122/122 [==============================] - 29s 167ms/step - loss: 1.0700 - accuracy: 0.3970 - val_loss: 1.0651 - val_accuracy: 0.4058\n",
      "Epoch 2/10\n",
      "122/122 [==============================] - ETA: 0s - loss: 1.0641 - accuracy: 0.4021\n",
      "Epoch 2: val_accuracy did not improve from 0.40580\n",
      "122/122 [==============================] - 18s 149ms/step - loss: 1.0641 - accuracy: 0.4021 - val_loss: 1.0694 - val_accuracy: 0.4058\n",
      "Epoch 3/10\n",
      "122/122 [==============================] - ETA: 0s - loss: 1.0633 - accuracy: 0.4037\n",
      "Epoch 3: val_accuracy did not improve from 0.40580\n",
      "122/122 [==============================] - 17s 143ms/step - loss: 1.0633 - accuracy: 0.4037 - val_loss: 1.0631 - val_accuracy: 0.4058\n",
      "Epoch 4/10\n",
      "122/122 [==============================] - ETA: 0s - loss: 1.0612 - accuracy: 0.4083\n",
      "Epoch 4: val_accuracy did not improve from 0.40580\n",
      "122/122 [==============================] - 13s 107ms/step - loss: 1.0612 - accuracy: 0.4083 - val_loss: 1.0615 - val_accuracy: 0.4058\n",
      "Epoch 5/10\n",
      "122/122 [==============================] - ETA: 0s - loss: 1.0583 - accuracy: 0.4077\n",
      "Epoch 5: val_accuracy did not improve from 0.40580\n",
      "122/122 [==============================] - 15s 119ms/step - loss: 1.0583 - accuracy: 0.4077 - val_loss: 1.0591 - val_accuracy: 0.4046\n",
      "Epoch 6/10\n",
      "122/122 [==============================] - ETA: 0s - loss: 1.0556 - accuracy: 0.4177\n",
      "Epoch 6: val_accuracy did not improve from 0.40580\n",
      "122/122 [==============================] - 12s 101ms/step - loss: 1.0556 - accuracy: 0.4177 - val_loss: 1.0639 - val_accuracy: 0.4035\n",
      "Epoch 7/10\n",
      "122/122 [==============================] - ETA: 0s - loss: 1.0615 - accuracy: 0.3972\n",
      "Epoch 7: val_accuracy did not improve from 0.40580\n",
      "122/122 [==============================] - 12s 102ms/step - loss: 1.0615 - accuracy: 0.3972 - val_loss: 1.0629 - val_accuracy: 0.4023\n",
      "Epoch 8/10\n",
      "122/122 [==============================] - ETA: 0s - loss: 1.0554 - accuracy: 0.4118\n",
      "Epoch 8: val_accuracy improved from 0.40580 to 0.40638, saving model to rnn_baseline_plot.h5\n",
      "122/122 [==============================] - 13s 103ms/step - loss: 1.0554 - accuracy: 0.4118 - val_loss: 1.0633 - val_accuracy: 0.4064\n",
      "Epoch 8: early stopping\n",
      "54/54 [==============================] - 2s 15ms/step\n",
      "              precision    recall  f1-score   support\n",
      "\n",
      "           0       0.00      0.00      0.00       368\n",
      "           1       0.46      0.04      0.07       657\n",
      "           2       0.40      0.97      0.57       700\n",
      "\n",
      "    accuracy                           0.41      1725\n",
      "   macro avg       0.29      0.33      0.21      1725\n",
      "weighted avg       0.34      0.41      0.26      1725\n",
      "\n",
      "F1 Score :  0.21200367254770588\n",
      "Precision :  0.28825870646766166\n",
      "Recall :  0.3345263463071682\n",
      "Accuracy :  0.4063768115942029\n"
     ]
    },
    {
     "name": "stderr",
     "output_type": "stream",
     "text": [
      "C:\\Users\\Alienware 15R2\\anaconda3\\lib\\site-packages\\sklearn\\metrics\\_classification.py:1344: UndefinedMetricWarning: Precision and F-score are ill-defined and being set to 0.0 in labels with no predicted samples. Use `zero_division` parameter to control this behavior.\n",
      "  _warn_prf(average, modifier, msg_start, len(result))\n",
      "C:\\Users\\Alienware 15R2\\anaconda3\\lib\\site-packages\\sklearn\\metrics\\_classification.py:1344: UndefinedMetricWarning: Precision and F-score are ill-defined and being set to 0.0 in labels with no predicted samples. Use `zero_division` parameter to control this behavior.\n",
      "  _warn_prf(average, modifier, msg_start, len(result))\n",
      "C:\\Users\\Alienware 15R2\\anaconda3\\lib\\site-packages\\sklearn\\metrics\\_classification.py:1344: UndefinedMetricWarning: Precision and F-score are ill-defined and being set to 0.0 in labels with no predicted samples. Use `zero_division` parameter to control this behavior.\n",
      "  _warn_prf(average, modifier, msg_start, len(result))\n",
      "C:\\Users\\Alienware 15R2\\anaconda3\\lib\\site-packages\\sklearn\\metrics\\_classification.py:1344: UndefinedMetricWarning: Precision is ill-defined and being set to 0.0 in labels with no predicted samples. Use `zero_division` parameter to control this behavior.\n",
      "  _warn_prf(average, modifier, msg_start, len(result))\n"
     ]
    }
   ],
   "source": [
    "hasil = []\n",
    "\n",
    "for i in range(1, 6):\n",
    "    hasil.append([str(i)] + RNN(x_train, y_train, x_test, y_test))"
   ]
  },
  {
   "cell_type": "markdown",
   "id": "fca41e89",
   "metadata": {},
   "source": [
    "# Save Output"
   ]
  },
  {
   "cell_type": "code",
   "execution_count": 9,
   "id": "5bf3ea00",
   "metadata": {},
   "outputs": [
    {
     "name": "stdout",
     "output_type": "stream",
     "text": [
      "0.3465474750022177\n",
      "0.49750724637681154\n"
     ]
    },
    {
     "data": {
      "text/html": [
       "<div>\n",
       "<style scoped>\n",
       "    .dataframe tbody tr th:only-of-type {\n",
       "        vertical-align: middle;\n",
       "    }\n",
       "\n",
       "    .dataframe tbody tr th {\n",
       "        vertical-align: top;\n",
       "    }\n",
       "\n",
       "    .dataframe thead th {\n",
       "        text-align: right;\n",
       "    }\n",
       "</style>\n",
       "<table border=\"1\" class=\"dataframe\">\n",
       "  <thead>\n",
       "    <tr style=\"text-align: right;\">\n",
       "      <th></th>\n",
       "      <th>iterasi</th>\n",
       "      <th>f1</th>\n",
       "      <th>precision</th>\n",
       "      <th>recall</th>\n",
       "      <th>accuracy</th>\n",
       "      <th>cm</th>\n",
       "    </tr>\n",
       "  </thead>\n",
       "  <tbody>\n",
       "    <tr>\n",
       "      <th>0</th>\n",
       "      <td>1</td>\n",
       "      <td>0.401599</td>\n",
       "      <td>0.382002</td>\n",
       "      <td>0.458922</td>\n",
       "      <td>0.537971</td>\n",
       "      <td>[[0, 295, 73], [0, 546, 111], [0, 318, 382]]</td>\n",
       "    </tr>\n",
       "    <tr>\n",
       "      <th>1</th>\n",
       "      <td>2</td>\n",
       "      <td>0.424712</td>\n",
       "      <td>0.381160</td>\n",
       "      <td>0.482414</td>\n",
       "      <td>0.568696</td>\n",
       "      <td>[[0, 226, 142], [0, 490, 167], [0, 209, 491]]</td>\n",
       "    </tr>\n",
       "    <tr>\n",
       "      <th>2</th>\n",
       "      <td>3</td>\n",
       "      <td>0.294572</td>\n",
       "      <td>0.312150</td>\n",
       "      <td>0.364823</td>\n",
       "      <td>0.423188</td>\n",
       "      <td>[[0, 322, 46], [0, 552, 105], [0, 522, 178]]</td>\n",
       "    </tr>\n",
       "    <tr>\n",
       "      <th>3</th>\n",
       "      <td>4</td>\n",
       "      <td>0.399851</td>\n",
       "      <td>0.389831</td>\n",
       "      <td>0.462176</td>\n",
       "      <td>0.551304</td>\n",
       "      <td>[[0, 109, 259], [0, 299, 358], [0, 48, 652]]</td>\n",
       "    </tr>\n",
       "    <tr>\n",
       "      <th>4</th>\n",
       "      <td>5</td>\n",
       "      <td>0.212004</td>\n",
       "      <td>0.288259</td>\n",
       "      <td>0.334526</td>\n",
       "      <td>0.406377</td>\n",
       "      <td>[[0, 5, 363], [0, 23, 634], [0, 22, 678]]</td>\n",
       "    </tr>\n",
       "  </tbody>\n",
       "</table>\n",
       "</div>"
      ],
      "text/plain": [
       "  iterasi        f1  precision    recall  accuracy  \\\n",
       "0       1  0.401599   0.382002  0.458922  0.537971   \n",
       "1       2  0.424712   0.381160  0.482414  0.568696   \n",
       "2       3  0.294572   0.312150  0.364823  0.423188   \n",
       "3       4  0.399851   0.389831  0.462176  0.551304   \n",
       "4       5  0.212004   0.288259  0.334526  0.406377   \n",
       "\n",
       "                                              cm  \n",
       "0   [[0, 295, 73], [0, 546, 111], [0, 318, 382]]  \n",
       "1  [[0, 226, 142], [0, 490, 167], [0, 209, 491]]  \n",
       "2   [[0, 322, 46], [0, 552, 105], [0, 522, 178]]  \n",
       "3   [[0, 109, 259], [0, 299, 358], [0, 48, 652]]  \n",
       "4      [[0, 5, 363], [0, 23, 634], [0, 22, 678]]  "
      ]
     },
     "execution_count": 9,
     "metadata": {},
     "output_type": "execute_result"
    }
   ],
   "source": [
    "df = pd.DataFrame(hasil, columns =['iterasi', 'f1', 'precision', 'recall', 'accuracy', 'cm'])\n",
    "#df.to_excel('rnn_baseline_plot.xlsx')\n",
    "print(df['f1'].mean())\n",
    "print(df['accuracy'].mean())\n",
    "df.head()"
   ]
  },
  {
   "cell_type": "code",
   "execution_count": null,
   "id": "75f11eb0",
   "metadata": {},
   "outputs": [],
   "source": []
  }
 ],
 "metadata": {
  "kernelspec": {
   "display_name": "Python 3 (ipykernel)",
   "language": "python",
   "name": "python3"
  },
  "language_info": {
   "codemirror_mode": {
    "name": "ipython",
    "version": 3
   },
   "file_extension": ".py",
   "mimetype": "text/x-python",
   "name": "python",
   "nbconvert_exporter": "python",
   "pygments_lexer": "ipython3",
   "version": "3.10.9"
  }
 },
 "nbformat": 4,
 "nbformat_minor": 5
}
