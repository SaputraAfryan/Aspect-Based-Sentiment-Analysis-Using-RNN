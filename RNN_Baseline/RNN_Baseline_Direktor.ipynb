{
 "cells": [
  {
   "cell_type": "markdown",
   "id": "952a8e9a",
   "metadata": {},
   "source": [
    "# Library"
   ]
  },
  {
   "cell_type": "code",
   "execution_count": 1,
   "id": "db7d2b33",
   "metadata": {},
   "outputs": [],
   "source": [
    "import numpy as np\n",
    "import pandas as pd\n",
    "\n",
    "from sklearn.preprocessing import LabelEncoder\n",
    "from sklearn.model_selection import train_test_split\n",
    "from sklearn.metrics import classification_report, confusion_matrix, accuracy_score, precision_score, recall_score, f1_score\n",
    "\n",
    "from keras.utils.np_utils import to_categorical\n",
    "from keras.models import load_model, Model, Sequential\n",
    "from keras.callbacks import EarlyStopping, ModelCheckpoint\n",
    "from keras.layers import Dense, Embedding, SimpleRNN, Dropout\n",
    "\n",
    "import tensorflow as tf\n",
    "from tensorflow.keras.preprocessing.text import Tokenizer\n",
    "from tensorflow.keras.preprocessing.sequence import pad_sequences"
   ]
  },
  {
   "cell_type": "markdown",
   "id": "51221a6e",
   "metadata": {},
   "source": [
    "# Preprocessing\n",
    "### Load Data"
   ]
  },
  {
   "cell_type": "code",
   "execution_count": 2,
   "id": "39a1552b",
   "metadata": {},
   "outputs": [
    {
     "data": {
      "text/html": [
       "<div>\n",
       "<style scoped>\n",
       "    .dataframe tbody tr th:only-of-type {\n",
       "        vertical-align: middle;\n",
       "    }\n",
       "\n",
       "    .dataframe tbody tr th {\n",
       "        vertical-align: top;\n",
       "    }\n",
       "\n",
       "    .dataframe thead th {\n",
       "        text-align: right;\n",
       "    }\n",
       "</style>\n",
       "<table border=\"1\" class=\"dataframe\">\n",
       "  <thead>\n",
       "    <tr style=\"text-align: right;\">\n",
       "      <th></th>\n",
       "      <th>detokenize</th>\n",
       "      <th>direktor</th>\n",
       "    </tr>\n",
       "  </thead>\n",
       "  <tbody>\n",
       "    <tr>\n",
       "      <th>0</th>\n",
       "      <td>the desperate hour lakewood salah cerita suara...</td>\n",
       "      <td>1</td>\n",
       "    </tr>\n",
       "    <tr>\n",
       "      <th>1</th>\n",
       "      <td>edisi males review singkat tonton libur dp des...</td>\n",
       "      <td>0</td>\n",
       "    </tr>\n",
       "    <tr>\n",
       "      <th>2</th>\n",
       "      <td>plot utama orang deserter pursuit buru wamil j...</td>\n",
       "      <td>0</td>\n",
       "    </tr>\n",
       "    <tr>\n",
       "      <th>3</th>\n",
       "      <td>film hereditary horror thrill midsommar gatau ...</td>\n",
       "      <td>0</td>\n",
       "    </tr>\n",
       "    <tr>\n",
       "      <th>4</th>\n",
       "      <td>batman manusiawi tarung nya sadis scene pursui...</td>\n",
       "      <td>0</td>\n",
       "    </tr>\n",
       "  </tbody>\n",
       "</table>\n",
       "</div>"
      ],
      "text/plain": [
       "                                          detokenize  direktor\n",
       "0  the desperate hour lakewood salah cerita suara...         1\n",
       "1  edisi males review singkat tonton libur dp des...         0\n",
       "2  plot utama orang deserter pursuit buru wamil j...         0\n",
       "3  film hereditary horror thrill midsommar gatau ...         0\n",
       "4  batman manusiawi tarung nya sadis scene pursui...         0"
      ]
     },
     "execution_count": 2,
     "metadata": {},
     "output_type": "execute_result"
    }
   ],
   "source": [
    "df = pd.read_pickle('preprocessed_df.pkl')\n",
    "df = pd.DataFrame(df[['detokenize','direktor']])\n",
    "df.head()"
   ]
  },
  {
   "cell_type": "markdown",
   "id": "5120385c",
   "metadata": {},
   "source": [
    "### Vectorize"
   ]
  },
  {
   "cell_type": "code",
   "execution_count": 3,
   "id": "b19bee52",
   "metadata": {},
   "outputs": [
    {
     "data": {
      "text/plain": [
       "32"
      ]
     },
     "execution_count": 3,
     "metadata": {},
     "output_type": "execute_result"
    }
   ],
   "source": [
    "df['sent_len'] = df['detokenize'].apply(lambda x: len(x.split(\" \")))\n",
    "max_sequence_length = np.round(df['sent_len'].mean() + 2 * df['sent_len'].std()).astype(int)\n",
    "max_sequence_length"
   ]
  },
  {
   "cell_type": "code",
   "execution_count": 4,
   "id": "022b1db7",
   "metadata": {},
   "outputs": [
    {
     "name": "stdout",
     "output_type": "stream",
     "text": [
      "Dictionary Size\t: 17718\n",
      "Example Label\t:\n",
      "[[0. 0. 1.]\n",
      " [0. 1. 0.]\n",
      " [0. 1. 0.]\n",
      " [0. 1. 0.]\n",
      " [0. 1. 0.]]\n"
     ]
    }
   ],
   "source": [
    "MAX_NB_WORDS = 1e5\n",
    "le = LabelEncoder()\n",
    "\n",
    "reviews = df[\"detokenize\"]\n",
    "label = le.fit_transform(df['direktor'])\n",
    "label = np.asarray(to_categorical(label))\n",
    "\n",
    "tokenizer = Tokenizer(num_words=MAX_NB_WORDS)\n",
    "tokenizer.fit_on_texts(reviews)\n",
    "review_seq = np.array(tokenizer.texts_to_sequences(reviews), dtype=object)\n",
    "review_seq = pad_sequences(review_seq, padding='post', maxlen=max_sequence_length)\n",
    "\n",
    "word_index = tokenizer.word_index\n",
    "print(f'Dictionary Size\\t: {len(word_index)}')\n",
    "print(f'Example Label\\t:\\n{label[:5]}')"
   ]
  },
  {
   "cell_type": "markdown",
   "id": "12ff6732",
   "metadata": {},
   "source": [
    "# Variables"
   ]
  },
  {
   "cell_type": "code",
   "execution_count": 5,
   "id": "46d427b6",
   "metadata": {},
   "outputs": [],
   "source": [
    "embedding_dim = 300\n",
    "vocab_size = min(MAX_NB_WORDS, len(word_index) + 1)\n",
    "test_size_split = 0.1"
   ]
  },
  {
   "cell_type": "markdown",
   "id": "83e39ee4",
   "metadata": {},
   "source": [
    "# Split Data"
   ]
  },
  {
   "cell_type": "code",
   "execution_count": 6,
   "id": "3a3db659",
   "metadata": {},
   "outputs": [
    {
     "name": "stdout",
     "output_type": "stream",
     "text": [
      "Train\t| X shape: (15522, 32)\tY shape: (15522, 3)\n",
      "Test\t| X shape: (1725, 32)\tY shape: (1725, 3)\n"
     ]
    }
   ],
   "source": [
    "x_train, x_test, y_train, y_test = (\n",
    "    train_test_split(review_seq, \n",
    "                     label, \n",
    "                     test_size=test_size_split, \n",
    "                     stratify = label, \n",
    "                     random_state=42)\n",
    ")\n",
    "\n",
    "x_train = tf.constant(x_train)\n",
    "x_test = tf.constant(x_test)\n",
    "\n",
    "y_train = tf.constant(y_train)\n",
    "y_test = tf.constant(y_test)\n",
    "\n",
    "print(f'Train\\t| X shape: {x_train.shape}\\tY shape: {y_train.shape}')\n",
    "print(f'Test\\t| X shape: {x_test.shape}\\tY shape: {y_test.shape}')"
   ]
  },
  {
   "cell_type": "markdown",
   "id": "0f45e08d",
   "metadata": {},
   "source": [
    "# Model RNN"
   ]
  },
  {
   "cell_type": "code",
   "execution_count": 7,
   "id": "4f1135a4",
   "metadata": {},
   "outputs": [],
   "source": [
    "def RNN(x_train_c, y_train_c, x_test_c, y_test_c):\n",
    "    rnn = Sequential()\n",
    "    rnn.add(Embedding(vocab_size, \n",
    "                      embedding_dim, \n",
    "                      input_length=max_sequence_length,\n",
    "                      trainable=False))\n",
    "    rnn.add(SimpleRNN(units=256, activation='relu', recurrent_dropout=0.2, return_sequences=True))\n",
    "    rnn.add(Dropout(0.2))\n",
    "    rnn.add(SimpleRNN(units=128, activation='relu', return_sequences=True))\n",
    "    rnn.add(Dropout(0.2))\n",
    "    rnn.add(SimpleRNN(units=64, activation='relu'))\n",
    "    rnn.add(Dropout(0.2))\n",
    "    rnn.add(Dense(units=3, activation='softmax'))\n",
    "    \n",
    "    rnn.compile(loss='categorical_crossentropy', optimizer='adam', metrics=['accuracy'])\n",
    "    \n",
    "    early_stopping = EarlyStopping(monitor='val_loss', mode = 'min', verbose = 1, patience=3, min_delta=0.0001)\n",
    "    model_checkpoint = ModelCheckpoint('rnn_baseline_direktor.h5', monitor = 'val_accuracy', mode = 'max', verbose = 1, save_best_only = True)\n",
    "    \n",
    "    history = rnn.fit(x_train_c, y_train_c, epochs= 10, batch_size=128, \n",
    "                      validation_data=(x_test_c, y_test_c), verbose = 1,\n",
    "                      callbacks=[early_stopping, model_checkpoint])\n",
    "    \n",
    "    model = load_model('rnn_baseline_direktor.h5')\n",
    "    y_pred = model.predict(x_test_c)\n",
    "    y_pred_cat = y_pred.argmax(axis=1)\n",
    "    y_test_cat = np.argmax(y_test_c, axis=1)\n",
    "   \n",
    "    cm = confusion_matrix(y_test_cat, y_pred_cat)\n",
    "    classreport = classification_report(y_test_cat, y_pred_cat)\n",
    "    f1 = f1_score(y_test_cat, y_pred_cat,  average=\"macro\")\n",
    "    recall = recall_score(y_test_cat, y_pred_cat, average=\"macro\")\n",
    "    precision = precision_score(y_test_cat, y_pred_cat, average=\"macro\")\n",
    "    accuracy = accuracy_score(y_test_cat, y_pred_cat)\n",
    "\n",
    "    print(classreport)\n",
    "    print(\"F1 Score : \", f1)\n",
    "    print(\"Precision : \", precision)\n",
    "    print(\"Recall : \", recall)\n",
    "    print(\"Accuracy : \", accuracy)\n",
    "\n",
    "    return [f1, precision, recall, accuracy, cm]"
   ]
  },
  {
   "cell_type": "markdown",
   "id": "e2d00b03",
   "metadata": {},
   "source": [
    "# Running"
   ]
  },
  {
   "cell_type": "code",
   "execution_count": 8,
   "id": "3e1c419c",
   "metadata": {},
   "outputs": [
    {
     "name": "stdout",
     "output_type": "stream",
     "text": [
      "Epoch 1/10\n",
      "122/122 [==============================] - ETA: 0s - loss: 0.5271 - accuracy: 0.8477\n",
      "Epoch 1: val_accuracy improved from -inf to 0.85507, saving model to rnn_baseline_direktor.h5\n",
      "122/122 [==============================] - 30s 165ms/step - loss: 0.5271 - accuracy: 0.8477 - val_loss: 0.4918 - val_accuracy: 0.8551\n",
      "Epoch 2/10\n",
      "122/122 [==============================] - ETA: 0s - loss: 0.4951 - accuracy: 0.8554\n",
      "Epoch 2: val_accuracy did not improve from 0.85507\n",
      "122/122 [==============================] - 18s 150ms/step - loss: 0.4951 - accuracy: 0.8554 - val_loss: 0.5143 - val_accuracy: 0.8551\n",
      "Epoch 3/10\n",
      "122/122 [==============================] - ETA: 0s - loss: 0.4920 - accuracy: 0.8554\n",
      "Epoch 3: val_accuracy did not improve from 0.85507\n",
      "122/122 [==============================] - 19s 152ms/step - loss: 0.4920 - accuracy: 0.8554 - val_loss: 0.4833 - val_accuracy: 0.8551\n",
      "Epoch 4/10\n",
      "122/122 [==============================] - ETA: 0s - loss: 0.4841 - accuracy: 0.8554\n",
      "Epoch 4: val_accuracy did not improve from 0.85507\n",
      "122/122 [==============================] - 19s 152ms/step - loss: 0.4841 - accuracy: 0.8554 - val_loss: 0.4999 - val_accuracy: 0.8551\n",
      "Epoch 5/10\n",
      "122/122 [==============================] - ETA: 0s - loss: 0.4648 - accuracy: 0.8554\n",
      "Epoch 5: val_accuracy did not improve from 0.85507\n",
      "122/122 [==============================] - 14s 116ms/step - loss: 0.4648 - accuracy: 0.8554 - val_loss: 0.4434 - val_accuracy: 0.8551\n",
      "Epoch 6/10\n",
      "122/122 [==============================] - ETA: 0s - loss: 0.4384 - accuracy: 0.8557\n",
      "Epoch 6: val_accuracy improved from 0.85507 to 0.86609, saving model to rnn_baseline_direktor.h5\n",
      "122/122 [==============================] - 19s 159ms/step - loss: 0.4384 - accuracy: 0.8557 - val_loss: 0.4501 - val_accuracy: 0.8661\n",
      "Epoch 7/10\n",
      "122/122 [==============================] - ETA: 0s - loss: 0.4058 - accuracy: 0.8664\n",
      "Epoch 7: val_accuracy did not improve from 0.86609\n",
      "122/122 [==============================] - 19s 155ms/step - loss: 0.4058 - accuracy: 0.8664 - val_loss: 0.4147 - val_accuracy: 0.8614\n",
      "Epoch 8/10\n",
      "122/122 [==============================] - ETA: 0s - loss: 0.3687 - accuracy: 0.8737\n",
      "Epoch 8: val_accuracy improved from 0.86609 to 0.87768, saving model to rnn_baseline_direktor.h5\n",
      "122/122 [==============================] - 20s 166ms/step - loss: 0.3687 - accuracy: 0.8737 - val_loss: 0.4243 - val_accuracy: 0.8777\n",
      "Epoch 9/10\n",
      "122/122 [==============================] - ETA: 0s - loss: 0.3388 - accuracy: 0.8873\n",
      "Epoch 9: val_accuracy did not improve from 0.87768\n",
      "122/122 [==============================] - 18s 146ms/step - loss: 0.3388 - accuracy: 0.8873 - val_loss: 0.4162 - val_accuracy: 0.8777\n",
      "Epoch 10/10\n",
      "122/122 [==============================] - ETA: 0s - loss: 0.3098 - accuracy: 0.8913\n",
      "Epoch 10: val_accuracy did not improve from 0.87768\n",
      "122/122 [==============================] - 18s 151ms/step - loss: 0.3098 - accuracy: 0.8913 - val_loss: 0.3983 - val_accuracy: 0.8730\n",
      "54/54 [==============================] - 3s 33ms/step\n",
      "              precision    recall  f1-score   support\n",
      "\n",
      "           0       0.00      0.00      0.00        59\n",
      "           1       0.86      1.00      0.93      1475\n",
      "           2       0.73      0.08      0.15       191\n",
      "\n",
      "    accuracy                           0.86      1725\n",
      "   macro avg       0.53      0.36      0.36      1725\n",
      "weighted avg       0.82      0.86      0.81      1725\n",
      "\n",
      "F1 Score :  0.3586580668543813\n",
      "Precision :  0.5303475150803395\n",
      "Recall :  0.36035258970035794\n",
      "Accuracy :  0.8620289855072464\n"
     ]
    },
    {
     "name": "stderr",
     "output_type": "stream",
     "text": [
      "C:\\Users\\Alienware 15R2\\anaconda3\\lib\\site-packages\\sklearn\\metrics\\_classification.py:1344: UndefinedMetricWarning: Precision and F-score are ill-defined and being set to 0.0 in labels with no predicted samples. Use `zero_division` parameter to control this behavior.\n",
      "  _warn_prf(average, modifier, msg_start, len(result))\n",
      "C:\\Users\\Alienware 15R2\\anaconda3\\lib\\site-packages\\sklearn\\metrics\\_classification.py:1344: UndefinedMetricWarning: Precision and F-score are ill-defined and being set to 0.0 in labels with no predicted samples. Use `zero_division` parameter to control this behavior.\n",
      "  _warn_prf(average, modifier, msg_start, len(result))\n",
      "C:\\Users\\Alienware 15R2\\anaconda3\\lib\\site-packages\\sklearn\\metrics\\_classification.py:1344: UndefinedMetricWarning: Precision and F-score are ill-defined and being set to 0.0 in labels with no predicted samples. Use `zero_division` parameter to control this behavior.\n",
      "  _warn_prf(average, modifier, msg_start, len(result))\n",
      "C:\\Users\\Alienware 15R2\\anaconda3\\lib\\site-packages\\sklearn\\metrics\\_classification.py:1344: UndefinedMetricWarning: Precision is ill-defined and being set to 0.0 in labels with no predicted samples. Use `zero_division` parameter to control this behavior.\n",
      "  _warn_prf(average, modifier, msg_start, len(result))\n"
     ]
    },
    {
     "name": "stdout",
     "output_type": "stream",
     "text": [
      "Epoch 1/10\n",
      "122/122 [==============================] - ETA: 0s - loss: 0.5256 - accuracy: 0.8496\n",
      "Epoch 1: val_accuracy improved from -inf to 0.85507, saving model to rnn_baseline_direktor.h5\n",
      "122/122 [==============================] - 33s 187ms/step - loss: 0.5256 - accuracy: 0.8496 - val_loss: 0.5005 - val_accuracy: 0.8551\n",
      "Epoch 2/10\n",
      "122/122 [==============================] - ETA: 0s - loss: 0.4981 - accuracy: 0.8554\n",
      "Epoch 2: val_accuracy did not improve from 0.85507\n",
      "122/122 [==============================] - 18s 149ms/step - loss: 0.4981 - accuracy: 0.8554 - val_loss: 0.4867 - val_accuracy: 0.8551\n",
      "Epoch 3/10\n",
      "122/122 [==============================] - ETA: 0s - loss: 0.4906 - accuracy: 0.8554\n",
      "Epoch 3: val_accuracy did not improve from 0.85507\n",
      "122/122 [==============================] - 17s 135ms/step - loss: 0.4906 - accuracy: 0.8554 - val_loss: 0.4843 - val_accuracy: 0.8551\n",
      "Epoch 4/10\n",
      "122/122 [==============================] - ETA: 0s - loss: 0.4872 - accuracy: 0.8554\n",
      "Epoch 4: val_accuracy did not improve from 0.85507\n",
      "122/122 [==============================] - 15s 125ms/step - loss: 0.4872 - accuracy: 0.8554 - val_loss: 0.4800 - val_accuracy: 0.8551\n",
      "Epoch 5/10\n",
      "122/122 [==============================] - ETA: 0s - loss: 0.4821 - accuracy: 0.8554\n",
      "Epoch 5: val_accuracy did not improve from 0.85507\n",
      "122/122 [==============================] - 18s 145ms/step - loss: 0.4821 - accuracy: 0.8554 - val_loss: 0.4772 - val_accuracy: 0.8551\n",
      "Epoch 6/10\n",
      "122/122 [==============================] - ETA: 0s - loss: 0.4507 - accuracy: 0.8621\n",
      "Epoch 6: val_accuracy improved from 0.85507 to 0.87710, saving model to rnn_baseline_direktor.h5\n",
      "122/122 [==============================] - 23s 186ms/step - loss: 0.4507 - accuracy: 0.8621 - val_loss: 0.4181 - val_accuracy: 0.8771\n",
      "Epoch 7/10\n",
      "122/122 [==============================] - ETA: 0s - loss: 0.3864 - accuracy: 0.8810\n",
      "Epoch 7: val_accuracy improved from 0.87710 to 0.87768, saving model to rnn_baseline_direktor.h5\n",
      "122/122 [==============================] - 20s 162ms/step - loss: 0.3864 - accuracy: 0.8810 - val_loss: 0.3946 - val_accuracy: 0.8777\n",
      "Epoch 8/10\n",
      "122/122 [==============================] - ETA: 0s - loss: 0.3527 - accuracy: 0.8862\n",
      "Epoch 8: val_accuracy improved from 0.87768 to 0.88522, saving model to rnn_baseline_direktor.h5\n",
      "122/122 [==============================] - 19s 153ms/step - loss: 0.3527 - accuracy: 0.8862 - val_loss: 0.3874 - val_accuracy: 0.8852\n",
      "Epoch 9/10\n",
      "122/122 [==============================] - ETA: 0s - loss: 0.3400 - accuracy: 0.8877\n",
      "Epoch 9: val_accuracy improved from 0.88522 to 0.88696, saving model to rnn_baseline_direktor.h5\n",
      "122/122 [==============================] - 19s 157ms/step - loss: 0.3400 - accuracy: 0.8877 - val_loss: 0.4307 - val_accuracy: 0.8870\n",
      "Epoch 10/10\n",
      "122/122 [==============================] - ETA: 0s - loss: 0.2903 - accuracy: 0.8977\n",
      "Epoch 10: val_accuracy did not improve from 0.88696\n",
      "122/122 [==============================] - 21s 169ms/step - loss: 0.2903 - accuracy: 0.8977 - val_loss: 0.4245 - val_accuracy: 0.8800\n",
      "54/54 [==============================] - 5s 78ms/step\n",
      "              precision    recall  f1-score   support\n",
      "\n",
      "           0       0.00      0.00      0.00        59\n",
      "           1       0.89      0.99      0.93      1475\n",
      "           2       0.69      0.29      0.41       191\n",
      "\n",
      "    accuracy                           0.88      1725\n",
      "   macro avg       0.53      0.43      0.45      1725\n",
      "weighted avg       0.83      0.88      0.84      1725\n",
      "\n",
      "F1 Score :  0.4484657601418253\n",
      "Precision :  0.5256675978492685\n",
      "Recall :  0.4267707871150945\n",
      "Accuracy :  0.8765217391304347\n"
     ]
    },
    {
     "name": "stderr",
     "output_type": "stream",
     "text": [
      "C:\\Users\\Alienware 15R2\\anaconda3\\lib\\site-packages\\sklearn\\metrics\\_classification.py:1344: UndefinedMetricWarning: Precision and F-score are ill-defined and being set to 0.0 in labels with no predicted samples. Use `zero_division` parameter to control this behavior.\n",
      "  _warn_prf(average, modifier, msg_start, len(result))\n",
      "C:\\Users\\Alienware 15R2\\anaconda3\\lib\\site-packages\\sklearn\\metrics\\_classification.py:1344: UndefinedMetricWarning: Precision and F-score are ill-defined and being set to 0.0 in labels with no predicted samples. Use `zero_division` parameter to control this behavior.\n",
      "  _warn_prf(average, modifier, msg_start, len(result))\n",
      "C:\\Users\\Alienware 15R2\\anaconda3\\lib\\site-packages\\sklearn\\metrics\\_classification.py:1344: UndefinedMetricWarning: Precision and F-score are ill-defined and being set to 0.0 in labels with no predicted samples. Use `zero_division` parameter to control this behavior.\n",
      "  _warn_prf(average, modifier, msg_start, len(result))\n",
      "C:\\Users\\Alienware 15R2\\anaconda3\\lib\\site-packages\\sklearn\\metrics\\_classification.py:1344: UndefinedMetricWarning: Precision is ill-defined and being set to 0.0 in labels with no predicted samples. Use `zero_division` parameter to control this behavior.\n",
      "  _warn_prf(average, modifier, msg_start, len(result))\n"
     ]
    },
    {
     "name": "stdout",
     "output_type": "stream",
     "text": [
      "Epoch 1/10\n",
      "122/122 [==============================] - ETA: 0s - loss: 0.5260 - accuracy: 0.8517\n",
      "Epoch 1: val_accuracy improved from -inf to 0.85507, saving model to rnn_baseline_direktor.h5\n",
      "122/122 [==============================] - 34s 205ms/step - loss: 0.5260 - accuracy: 0.8517 - val_loss: 0.4852 - val_accuracy: 0.8551\n",
      "Epoch 2/10\n",
      "122/122 [==============================] - ETA: 0s - loss: 0.4952 - accuracy: 0.8554\n",
      "Epoch 2: val_accuracy did not improve from 0.85507\n",
      "122/122 [==============================] - 22s 183ms/step - loss: 0.4952 - accuracy: 0.8554 - val_loss: 0.4845 - val_accuracy: 0.8551\n",
      "Epoch 3/10\n",
      "122/122 [==============================] - ETA: 0s - loss: 0.4940 - accuracy: 0.8554\n",
      "Epoch 3: val_accuracy did not improve from 0.85507\n",
      "122/122 [==============================] - 27s 219ms/step - loss: 0.4940 - accuracy: 0.8554 - val_loss: 0.4839 - val_accuracy: 0.8551\n",
      "Epoch 4/10\n",
      "122/122 [==============================] - ETA: 0s - loss: 0.4842 - accuracy: 0.8554\n",
      "Epoch 4: val_accuracy did not improve from 0.85507\n",
      "122/122 [==============================] - 25s 207ms/step - loss: 0.4842 - accuracy: 0.8554 - val_loss: 0.4920 - val_accuracy: 0.8551\n",
      "Epoch 5/10\n",
      "122/122 [==============================] - ETA: 0s - loss: 0.4785 - accuracy: 0.8554\n",
      "Epoch 5: val_accuracy did not improve from 0.85507\n",
      "122/122 [==============================] - 26s 215ms/step - loss: 0.4785 - accuracy: 0.8554 - val_loss: 0.4747 - val_accuracy: 0.8551\n",
      "Epoch 6/10\n",
      "122/122 [==============================] - ETA: 0s - loss: 0.4605 - accuracy: 0.8554\n",
      "Epoch 6: val_accuracy did not improve from 0.85507\n",
      "122/122 [==============================] - 29s 241ms/step - loss: 0.4605 - accuracy: 0.8554 - val_loss: 0.4803 - val_accuracy: 0.8551\n",
      "Epoch 7/10\n",
      "122/122 [==============================] - ETA: 0s - loss: 0.4328 - accuracy: 0.8573\n",
      "Epoch 7: val_accuracy did not improve from 0.85507\n",
      "122/122 [==============================] - 33s 271ms/step - loss: 0.4328 - accuracy: 0.8573 - val_loss: 0.4287 - val_accuracy: 0.8545\n",
      "Epoch 8/10\n",
      "122/122 [==============================] - ETA: 0s - loss: 0.3750 - accuracy: 0.8782\n",
      "Epoch 8: val_accuracy improved from 0.85507 to 0.87768, saving model to rnn_baseline_direktor.h5\n",
      "122/122 [==============================] - 29s 235ms/step - loss: 0.3750 - accuracy: 0.8782 - val_loss: 0.3978 - val_accuracy: 0.8777\n",
      "Epoch 9/10\n",
      "122/122 [==============================] - ETA: 0s - loss: 0.3458 - accuracy: 0.8843\n",
      "Epoch 9: val_accuracy did not improve from 0.87768\n",
      "122/122 [==============================] - 25s 205ms/step - loss: 0.3458 - accuracy: 0.8843 - val_loss: 0.4410 - val_accuracy: 0.8765\n",
      "Epoch 10/10\n",
      "122/122 [==============================] - ETA: 0s - loss: 0.3100 - accuracy: 0.8910\n",
      "Epoch 10: val_accuracy did not improve from 0.87768\n",
      "122/122 [==============================] - 23s 189ms/step - loss: 0.3100 - accuracy: 0.8910 - val_loss: 0.3900 - val_accuracy: 0.8736\n",
      "54/54 [==============================] - 5s 61ms/step\n",
      "              precision    recall  f1-score   support\n",
      "\n",
      "           0       0.00      0.00      0.00        59\n",
      "           1       0.89      0.99      0.94      1475\n",
      "           2       0.67      0.34      0.45       191\n",
      "\n",
      "    accuracy                           0.88      1725\n",
      "   macro avg       0.52      0.44      0.46      1725\n",
      "weighted avg       0.84      0.88      0.85      1725\n",
      "\n",
      "F1 Score :  0.461583505061766\n",
      "Precision :  0.5221074157787106\n",
      "Recall :  0.4405064039991718\n",
      "Accuracy :  0.8805797101449275\n"
     ]
    },
    {
     "name": "stderr",
     "output_type": "stream",
     "text": [
      "C:\\Users\\Alienware 15R2\\anaconda3\\lib\\site-packages\\sklearn\\metrics\\_classification.py:1344: UndefinedMetricWarning: Precision and F-score are ill-defined and being set to 0.0 in labels with no predicted samples. Use `zero_division` parameter to control this behavior.\n",
      "  _warn_prf(average, modifier, msg_start, len(result))\n",
      "C:\\Users\\Alienware 15R2\\anaconda3\\lib\\site-packages\\sklearn\\metrics\\_classification.py:1344: UndefinedMetricWarning: Precision and F-score are ill-defined and being set to 0.0 in labels with no predicted samples. Use `zero_division` parameter to control this behavior.\n",
      "  _warn_prf(average, modifier, msg_start, len(result))\n",
      "C:\\Users\\Alienware 15R2\\anaconda3\\lib\\site-packages\\sklearn\\metrics\\_classification.py:1344: UndefinedMetricWarning: Precision and F-score are ill-defined and being set to 0.0 in labels with no predicted samples. Use `zero_division` parameter to control this behavior.\n",
      "  _warn_prf(average, modifier, msg_start, len(result))\n",
      "C:\\Users\\Alienware 15R2\\anaconda3\\lib\\site-packages\\sklearn\\metrics\\_classification.py:1344: UndefinedMetricWarning: Precision is ill-defined and being set to 0.0 in labels with no predicted samples. Use `zero_division` parameter to control this behavior.\n",
      "  _warn_prf(average, modifier, msg_start, len(result))\n"
     ]
    },
    {
     "name": "stdout",
     "output_type": "stream",
     "text": [
      "Epoch 1/10\n",
      "122/122 [==============================] - ETA: 0s - loss: 0.5279 - accuracy: 0.8521\n",
      "Epoch 1: val_accuracy improved from -inf to 0.85507, saving model to rnn_baseline_direktor.h5\n",
      "122/122 [==============================] - 31s 182ms/step - loss: 0.5279 - accuracy: 0.8521 - val_loss: 0.5023 - val_accuracy: 0.8551\n",
      "Epoch 2/10\n",
      "122/122 [==============================] - ETA: 0s - loss: 0.4966 - accuracy: 0.8554\n",
      "Epoch 2: val_accuracy did not improve from 0.85507\n",
      "122/122 [==============================] - 19s 152ms/step - loss: 0.4966 - accuracy: 0.8554 - val_loss: 0.5272 - val_accuracy: 0.8551\n",
      "Epoch 3/10\n",
      "122/122 [==============================] - ETA: 0s - loss: 0.4911 - accuracy: 0.8554\n",
      "Epoch 3: val_accuracy did not improve from 0.85507\n",
      "122/122 [==============================] - 20s 163ms/step - loss: 0.4911 - accuracy: 0.8554 - val_loss: 0.4797 - val_accuracy: 0.8551\n",
      "Epoch 4/10\n",
      "122/122 [==============================] - ETA: 0s - loss: 0.4851 - accuracy: 0.8554\n",
      "Epoch 4: val_accuracy did not improve from 0.85507\n",
      "122/122 [==============================] - 19s 155ms/step - loss: 0.4851 - accuracy: 0.8554 - val_loss: 0.4887 - val_accuracy: 0.8551\n",
      "Epoch 5/10\n",
      "122/122 [==============================] - ETA: 0s - loss: 0.4660 - accuracy: 0.8555\n",
      "Epoch 5: val_accuracy improved from 0.85507 to 0.85797, saving model to rnn_baseline_direktor.h5\n",
      "122/122 [==============================] - 22s 178ms/step - loss: 0.4660 - accuracy: 0.8555 - val_loss: 0.4356 - val_accuracy: 0.8580\n",
      "Epoch 6/10\n",
      "122/122 [==============================] - ETA: 0s - loss: 0.4102 - accuracy: 0.8712\n",
      "Epoch 6: val_accuracy improved from 0.85797 to 0.88058, saving model to rnn_baseline_direktor.h5\n",
      "122/122 [==============================] - 19s 154ms/step - loss: 0.4102 - accuracy: 0.8712 - val_loss: 0.3916 - val_accuracy: 0.8806\n",
      "Epoch 7/10\n",
      "122/122 [==============================] - ETA: 0s - loss: 0.3636 - accuracy: 0.8853\n",
      "Epoch 7: val_accuracy improved from 0.88058 to 0.88464, saving model to rnn_baseline_direktor.h5\n",
      "122/122 [==============================] - 17s 139ms/step - loss: 0.3636 - accuracy: 0.8853 - val_loss: 0.3851 - val_accuracy: 0.8846\n",
      "Epoch 8/10\n",
      "122/122 [==============================] - ETA: 0s - loss: 0.3399 - accuracy: 0.8898\n",
      "Epoch 8: val_accuracy did not improve from 0.88464\n",
      "122/122 [==============================] - 15s 120ms/step - loss: 0.3399 - accuracy: 0.8898 - val_loss: 0.3920 - val_accuracy: 0.8817\n",
      "Epoch 9/10\n",
      "122/122 [==============================] - ETA: 0s - loss: 0.2997 - accuracy: 0.8974\n",
      "Epoch 9: val_accuracy did not improve from 0.88464\n",
      "122/122 [==============================] - 20s 167ms/step - loss: 0.2997 - accuracy: 0.8974 - val_loss: 0.3800 - val_accuracy: 0.8812\n",
      "Epoch 10/10\n",
      "122/122 [==============================] - ETA: 0s - loss: 0.2812 - accuracy: 0.9000\n",
      "Epoch 10: val_accuracy did not improve from 0.88464\n",
      "122/122 [==============================] - 20s 166ms/step - loss: 0.2812 - accuracy: 0.9000 - val_loss: 0.4059 - val_accuracy: 0.8794\n",
      "54/54 [==============================] - 3s 31ms/step\n",
      "              precision    recall  f1-score   support\n",
      "\n",
      "           0       0.00      0.00      0.00        59\n",
      "           1       0.86      1.00      0.92      1475\n",
      "           2       0.00      0.00      0.00       191\n",
      "\n",
      "    accuracy                           0.86      1725\n",
      "   macro avg       0.29      0.33      0.31      1725\n",
      "weighted avg       0.73      0.86      0.79      1725\n",
      "\n",
      "F1 Score :  0.3072916666666667\n",
      "Precision :  0.28502415458937197\n",
      "Recall :  0.3333333333333333\n",
      "Accuracy :  0.855072463768116\n"
     ]
    },
    {
     "name": "stderr",
     "output_type": "stream",
     "text": [
      "C:\\Users\\Alienware 15R2\\anaconda3\\lib\\site-packages\\sklearn\\metrics\\_classification.py:1344: UndefinedMetricWarning: Precision and F-score are ill-defined and being set to 0.0 in labels with no predicted samples. Use `zero_division` parameter to control this behavior.\n",
      "  _warn_prf(average, modifier, msg_start, len(result))\n",
      "C:\\Users\\Alienware 15R2\\anaconda3\\lib\\site-packages\\sklearn\\metrics\\_classification.py:1344: UndefinedMetricWarning: Precision and F-score are ill-defined and being set to 0.0 in labels with no predicted samples. Use `zero_division` parameter to control this behavior.\n",
      "  _warn_prf(average, modifier, msg_start, len(result))\n",
      "C:\\Users\\Alienware 15R2\\anaconda3\\lib\\site-packages\\sklearn\\metrics\\_classification.py:1344: UndefinedMetricWarning: Precision and F-score are ill-defined and being set to 0.0 in labels with no predicted samples. Use `zero_division` parameter to control this behavior.\n",
      "  _warn_prf(average, modifier, msg_start, len(result))\n",
      "C:\\Users\\Alienware 15R2\\anaconda3\\lib\\site-packages\\sklearn\\metrics\\_classification.py:1344: UndefinedMetricWarning: Precision is ill-defined and being set to 0.0 in labels with no predicted samples. Use `zero_division` parameter to control this behavior.\n",
      "  _warn_prf(average, modifier, msg_start, len(result))\n"
     ]
    },
    {
     "name": "stdout",
     "output_type": "stream",
     "text": [
      "Epoch 1/10\n",
      "122/122 [==============================] - ETA: 0s - loss: 0.5246 - accuracy: 0.8512\n",
      "Epoch 1: val_accuracy improved from -inf to 0.85507, saving model to rnn_baseline_direktor.h5\n",
      "122/122 [==============================] - 33s 197ms/step - loss: 0.5246 - accuracy: 0.8512 - val_loss: 0.4927 - val_accuracy: 0.8551\n",
      "Epoch 2/10\n",
      "122/122 [==============================] - ETA: 0s - loss: 0.5029 - accuracy: 0.8554\n",
      "Epoch 2: val_accuracy did not improve from 0.85507\n",
      "122/122 [==============================] - 21s 168ms/step - loss: 0.5029 - accuracy: 0.8554 - val_loss: 0.4854 - val_accuracy: 0.8551\n",
      "Epoch 3/10\n",
      "122/122 [==============================] - ETA: 0s - loss: 0.4989 - accuracy: 0.8554\n",
      "Epoch 3: val_accuracy did not improve from 0.85507\n",
      "122/122 [==============================] - 20s 162ms/step - loss: 0.4989 - accuracy: 0.8554 - val_loss: 0.4897 - val_accuracy: 0.8551\n",
      "Epoch 4/10\n",
      "122/122 [==============================] - ETA: 0s - loss: 0.5013 - accuracy: 0.8554\n",
      "Epoch 4: val_accuracy did not improve from 0.85507\n",
      "122/122 [==============================] - 20s 167ms/step - loss: 0.5013 - accuracy: 0.8554 - val_loss: 0.4909 - val_accuracy: 0.8551\n",
      "Epoch 5/10\n",
      "122/122 [==============================] - ETA: 0s - loss: 0.4927 - accuracy: 0.8554\n",
      "Epoch 5: val_accuracy did not improve from 0.85507\n",
      "122/122 [==============================] - 21s 171ms/step - loss: 0.4927 - accuracy: 0.8554 - val_loss: 0.4845 - val_accuracy: 0.8551\n",
      "Epoch 6/10\n",
      "122/122 [==============================] - ETA: 0s - loss: 0.4829 - accuracy: 0.8554\n",
      "Epoch 6: val_accuracy did not improve from 0.85507\n",
      "122/122 [==============================] - 19s 157ms/step - loss: 0.4829 - accuracy: 0.8554 - val_loss: 0.4830 - val_accuracy: 0.8551\n",
      "Epoch 7/10\n",
      "122/122 [==============================] - ETA: 0s - loss: 0.4703 - accuracy: 0.8554\n",
      "Epoch 7: val_accuracy improved from 0.85507 to 0.86319, saving model to rnn_baseline_direktor.h5\n",
      "122/122 [==============================] - 14s 117ms/step - loss: 0.4703 - accuracy: 0.8554 - val_loss: 0.4574 - val_accuracy: 0.8632\n",
      "Epoch 8/10\n",
      "122/122 [==============================] - ETA: 0s - loss: 0.4250 - accuracy: 0.8724\n",
      "Epoch 8: val_accuracy improved from 0.86319 to 0.87362, saving model to rnn_baseline_direktor.h5\n",
      "122/122 [==============================] - 18s 146ms/step - loss: 0.4250 - accuracy: 0.8724 - val_loss: 0.4189 - val_accuracy: 0.8736\n",
      "Epoch 9/10\n",
      "122/122 [==============================] - ETA: 0s - loss: 0.3885 - accuracy: 0.8795\n",
      "Epoch 9: val_accuracy improved from 0.87362 to 0.88290, saving model to rnn_baseline_direktor.h5\n",
      "122/122 [==============================] - 20s 165ms/step - loss: 0.3885 - accuracy: 0.8795 - val_loss: 0.4248 - val_accuracy: 0.8829\n",
      "Epoch 10/10\n",
      "122/122 [==============================] - ETA: 0s - loss: 0.3676 - accuracy: 0.8843\n",
      "Epoch 10: val_accuracy did not improve from 0.88290\n",
      "122/122 [==============================] - 19s 152ms/step - loss: 0.3676 - accuracy: 0.8843 - val_loss: 0.3829 - val_accuracy: 0.8823\n",
      "54/54 [==============================] - 3s 32ms/step\n",
      "              precision    recall  f1-score   support\n",
      "\n",
      "           0       0.00      0.00      0.00        59\n",
      "           1       0.89      0.99      0.94      1475\n",
      "           2       0.71      0.34      0.46       191\n",
      "\n",
      "    accuracy                           0.88      1725\n",
      "   macro avg       0.53      0.44      0.47      1725\n",
      "weighted avg       0.84      0.88      0.85      1725\n",
      "\n",
      "F1 Score :  0.4658626319403704\n",
      "Precision :  0.5331190038783425\n",
      "Recall :  0.44292957079894696\n",
      "Accuracy :  0.8828985507246376\n"
     ]
    },
    {
     "name": "stderr",
     "output_type": "stream",
     "text": [
      "C:\\Users\\Alienware 15R2\\anaconda3\\lib\\site-packages\\sklearn\\metrics\\_classification.py:1344: UndefinedMetricWarning: Precision and F-score are ill-defined and being set to 0.0 in labels with no predicted samples. Use `zero_division` parameter to control this behavior.\n",
      "  _warn_prf(average, modifier, msg_start, len(result))\n",
      "C:\\Users\\Alienware 15R2\\anaconda3\\lib\\site-packages\\sklearn\\metrics\\_classification.py:1344: UndefinedMetricWarning: Precision and F-score are ill-defined and being set to 0.0 in labels with no predicted samples. Use `zero_division` parameter to control this behavior.\n",
      "  _warn_prf(average, modifier, msg_start, len(result))\n",
      "C:\\Users\\Alienware 15R2\\anaconda3\\lib\\site-packages\\sklearn\\metrics\\_classification.py:1344: UndefinedMetricWarning: Precision and F-score are ill-defined and being set to 0.0 in labels with no predicted samples. Use `zero_division` parameter to control this behavior.\n",
      "  _warn_prf(average, modifier, msg_start, len(result))\n",
      "C:\\Users\\Alienware 15R2\\anaconda3\\lib\\site-packages\\sklearn\\metrics\\_classification.py:1344: UndefinedMetricWarning: Precision is ill-defined and being set to 0.0 in labels with no predicted samples. Use `zero_division` parameter to control this behavior.\n",
      "  _warn_prf(average, modifier, msg_start, len(result))\n"
     ]
    }
   ],
   "source": [
    "hasil = []\n",
    "\n",
    "for i in range(1, 6):\n",
    "    hasil.append([str(i)] + RNN(x_train, y_train, x_test, y_test))"
   ]
  },
  {
   "cell_type": "markdown",
   "id": "fca41e89",
   "metadata": {},
   "source": [
    "# Save Output"
   ]
  },
  {
   "cell_type": "code",
   "execution_count": 9,
   "id": "5bf3ea00",
   "metadata": {},
   "outputs": [
    {
     "data": {
      "text/html": [
       "<div>\n",
       "<style scoped>\n",
       "    .dataframe tbody tr th:only-of-type {\n",
       "        vertical-align: middle;\n",
       "    }\n",
       "\n",
       "    .dataframe tbody tr th {\n",
       "        vertical-align: top;\n",
       "    }\n",
       "\n",
       "    .dataframe thead th {\n",
       "        text-align: right;\n",
       "    }\n",
       "</style>\n",
       "<table border=\"1\" class=\"dataframe\">\n",
       "  <thead>\n",
       "    <tr style=\"text-align: right;\">\n",
       "      <th></th>\n",
       "      <th>iterasi</th>\n",
       "      <th>f1</th>\n",
       "      <th>precision</th>\n",
       "      <th>recall</th>\n",
       "      <th>accuracy</th>\n",
       "      <th>cm</th>\n",
       "    </tr>\n",
       "  </thead>\n",
       "  <tbody>\n",
       "    <tr>\n",
       "      <th>0</th>\n",
       "      <td>1</td>\n",
       "      <td>0.358658</td>\n",
       "      <td>0.530348</td>\n",
       "      <td>0.360353</td>\n",
       "      <td>0.862029</td>\n",
       "      <td>[[0, 57, 2], [0, 1471, 4], [0, 175, 16]]</td>\n",
       "    </tr>\n",
       "    <tr>\n",
       "      <th>1</th>\n",
       "      <td>2</td>\n",
       "      <td>0.448466</td>\n",
       "      <td>0.525668</td>\n",
       "      <td>0.426771</td>\n",
       "      <td>0.876522</td>\n",
       "      <td>[[0, 53, 6], [0, 1456, 19], [0, 135, 56]]</td>\n",
       "    </tr>\n",
       "    <tr>\n",
       "      <th>2</th>\n",
       "      <td>3</td>\n",
       "      <td>0.461584</td>\n",
       "      <td>0.522107</td>\n",
       "      <td>0.440506</td>\n",
       "      <td>0.880580</td>\n",
       "      <td>[[0, 48, 11], [0, 1455, 20], [0, 127, 64]]</td>\n",
       "    </tr>\n",
       "    <tr>\n",
       "      <th>3</th>\n",
       "      <td>4</td>\n",
       "      <td>0.307292</td>\n",
       "      <td>0.285024</td>\n",
       "      <td>0.333333</td>\n",
       "      <td>0.855072</td>\n",
       "      <td>[[0, 59, 0], [0, 1475, 0], [0, 191, 0]]</td>\n",
       "    </tr>\n",
       "    <tr>\n",
       "      <th>4</th>\n",
       "      <td>5</td>\n",
       "      <td>0.465863</td>\n",
       "      <td>0.533119</td>\n",
       "      <td>0.442930</td>\n",
       "      <td>0.882899</td>\n",
       "      <td>[[0, 49, 10], [0, 1458, 17], [0, 126, 65]]</td>\n",
       "    </tr>\n",
       "  </tbody>\n",
       "</table>\n",
       "</div>"
      ],
      "text/plain": [
       "  iterasi        f1  precision    recall  accuracy  \\\n",
       "0       1  0.358658   0.530348  0.360353  0.862029   \n",
       "1       2  0.448466   0.525668  0.426771  0.876522   \n",
       "2       3  0.461584   0.522107  0.440506  0.880580   \n",
       "3       4  0.307292   0.285024  0.333333  0.855072   \n",
       "4       5  0.465863   0.533119  0.442930  0.882899   \n",
       "\n",
       "                                           cm  \n",
       "0    [[0, 57, 2], [0, 1471, 4], [0, 175, 16]]  \n",
       "1   [[0, 53, 6], [0, 1456, 19], [0, 135, 56]]  \n",
       "2  [[0, 48, 11], [0, 1455, 20], [0, 127, 64]]  \n",
       "3     [[0, 59, 0], [0, 1475, 0], [0, 191, 0]]  \n",
       "4  [[0, 49, 10], [0, 1458, 17], [0, 126, 65]]  "
      ]
     },
     "execution_count": 9,
     "metadata": {},
     "output_type": "execute_result"
    }
   ],
   "source": [
    "df = pd.DataFrame(hasil, columns =['iterasi', 'f1', 'precision', 'recall', 'accuracy', 'cm'])\n",
    "#df.to_excel('rnn_baseline_direktor.xlsx')\n",
    "df.head()"
   ]
  },
  {
   "cell_type": "code",
   "execution_count": 12,
   "id": "3255ff8f",
   "metadata": {},
   "outputs": [
    {
     "data": {
      "text/plain": [
       "0.408372326133002"
      ]
     },
     "execution_count": 12,
     "metadata": {},
     "output_type": "execute_result"
    }
   ],
   "source": [
    "df['f1'].mean()"
   ]
  },
  {
   "cell_type": "code",
   "execution_count": 13,
   "id": "c38c823c",
   "metadata": {},
   "outputs": [
    {
     "data": {
      "text/plain": [
       "0.8714202898550724"
      ]
     },
     "execution_count": 13,
     "metadata": {},
     "output_type": "execute_result"
    }
   ],
   "source": [
    "df['accuracy'].mean()"
   ]
  },
  {
   "cell_type": "code",
   "execution_count": null,
   "id": "94c238bb",
   "metadata": {},
   "outputs": [],
   "source": []
  }
 ],
 "metadata": {
  "kernelspec": {
   "display_name": "Python 3 (ipykernel)",
   "language": "python",
   "name": "python3"
  },
  "language_info": {
   "codemirror_mode": {
    "name": "ipython",
    "version": 3
   },
   "file_extension": ".py",
   "mimetype": "text/x-python",
   "name": "python",
   "nbconvert_exporter": "python",
   "pygments_lexer": "ipython3",
   "version": "3.10.9"
  }
 },
 "nbformat": 4,
 "nbformat_minor": 5
}
