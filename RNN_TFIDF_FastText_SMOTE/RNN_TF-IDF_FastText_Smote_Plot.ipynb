{
 "cells": [
  {
   "cell_type": "markdown",
   "id": "952a8e9a",
   "metadata": {},
   "source": [
    "# Library"
   ]
  },
  {
   "cell_type": "code",
   "execution_count": 1,
   "id": "db7d2b33",
   "metadata": {},
   "outputs": [],
   "source": [
    "import numpy as np\n",
    "import pandas as pd\n",
    "from tqdm import tqdm\n",
    "from gensim.models import FastText\n",
    "from imblearn.over_sampling import SMOTE\n",
    "\n",
    "from sklearn.preprocessing import LabelEncoder\n",
    "from sklearn.model_selection import train_test_split\n",
    "from sklearn.feature_extraction.text import TfidfVectorizer\n",
    "from sklearn.metrics import classification_report, confusion_matrix, accuracy_score, precision_score, recall_score, f1_score\n",
    "\n",
    "from keras.utils.np_utils import to_categorical\n",
    "from keras.models import load_model, Model, Sequential\n",
    "from keras.callbacks import EarlyStopping, ModelCheckpoint\n",
    "from keras.layers import Dense, Embedding, SimpleRNN, Dropout\n",
    "\n",
    "import tensorflow as tf\n",
    "from tensorflow.keras.preprocessing.text import Tokenizer\n",
    "from tensorflow.keras.preprocessing.sequence import pad_sequences"
   ]
  },
  {
   "cell_type": "markdown",
   "id": "51221a6e",
   "metadata": {},
   "source": [
    "# Preprocessing\n",
    "### Load Data"
   ]
  },
  {
   "cell_type": "code",
   "execution_count": 2,
   "id": "39a1552b",
   "metadata": {},
   "outputs": [
    {
     "data": {
      "text/html": [
       "<div>\n",
       "<style scoped>\n",
       "    .dataframe tbody tr th:only-of-type {\n",
       "        vertical-align: middle;\n",
       "    }\n",
       "\n",
       "    .dataframe tbody tr th {\n",
       "        vertical-align: top;\n",
       "    }\n",
       "\n",
       "    .dataframe thead th {\n",
       "        text-align: right;\n",
       "    }\n",
       "</style>\n",
       "<table border=\"1\" class=\"dataframe\">\n",
       "  <thead>\n",
       "    <tr style=\"text-align: right;\">\n",
       "      <th></th>\n",
       "      <th>detokenize</th>\n",
       "      <th>plot</th>\n",
       "    </tr>\n",
       "  </thead>\n",
       "  <tbody>\n",
       "    <tr>\n",
       "      <th>0</th>\n",
       "      <td>the desperate hour lakewood salah cerita suara...</td>\n",
       "      <td>1</td>\n",
       "    </tr>\n",
       "    <tr>\n",
       "      <th>1</th>\n",
       "      <td>edisi males review singkat tonton libur dp des...</td>\n",
       "      <td>1</td>\n",
       "    </tr>\n",
       "    <tr>\n",
       "      <th>2</th>\n",
       "      <td>plot utama orang deserter pursuit buru wamil j...</td>\n",
       "      <td>1</td>\n",
       "    </tr>\n",
       "    <tr>\n",
       "      <th>3</th>\n",
       "      <td>film hereditary horror thrill midsommar gatau ...</td>\n",
       "      <td>0</td>\n",
       "    </tr>\n",
       "    <tr>\n",
       "      <th>4</th>\n",
       "      <td>batman manusiawi tarung nya sadis scene pursui...</td>\n",
       "      <td>1</td>\n",
       "    </tr>\n",
       "  </tbody>\n",
       "</table>\n",
       "</div>"
      ],
      "text/plain": [
       "                                          detokenize  plot\n",
       "0  the desperate hour lakewood salah cerita suara...     1\n",
       "1  edisi males review singkat tonton libur dp des...     1\n",
       "2  plot utama orang deserter pursuit buru wamil j...     1\n",
       "3  film hereditary horror thrill midsommar gatau ...     0\n",
       "4  batman manusiawi tarung nya sadis scene pursui...     1"
      ]
     },
     "execution_count": 2,
     "metadata": {},
     "output_type": "execute_result"
    }
   ],
   "source": [
    "df = pd.read_pickle('preprocessed_df.pkl')\n",
    "df = pd.DataFrame(df[['detokenize','plot']])\n",
    "df.head()"
   ]
  },
  {
   "cell_type": "code",
   "execution_count": 3,
   "id": "ce595ce1",
   "metadata": {},
   "outputs": [],
   "source": [
    "reviews = df['detokenize']\n",
    "label = df['plot']"
   ]
  },
  {
   "cell_type": "markdown",
   "id": "12ff6732",
   "metadata": {},
   "source": [
    "# Variables"
   ]
  },
  {
   "cell_type": "code",
   "execution_count": 4,
   "id": "46d427b6",
   "metadata": {},
   "outputs": [],
   "source": [
    "MAX_FEATURES = 10000\n",
    "test_size_split = 0.1"
   ]
  },
  {
   "cell_type": "markdown",
   "id": "daee34c2",
   "metadata": {},
   "source": [
    "# Feature Extraction"
   ]
  },
  {
   "cell_type": "code",
   "execution_count": 5,
   "id": "88442453",
   "metadata": {},
   "outputs": [],
   "source": [
    "vectorizer = TfidfVectorizer(ngram_range=(1,2), max_features = MAX_FEATURES)\n",
    "\n",
    "tfidf = vectorizer.fit_transform(reviews.astype(str))"
   ]
  },
  {
   "cell_type": "markdown",
   "id": "7f73c9b9",
   "metadata": {},
   "source": [
    "# SMOTE"
   ]
  },
  {
   "cell_type": "code",
   "execution_count": 6,
   "id": "b5ae8853",
   "metadata": {},
   "outputs": [],
   "source": [
    "smote = SMOTE()\n",
    "\n",
    "x_smote, y_smote = smote.fit_resample(tfidf, label)"
   ]
  },
  {
   "cell_type": "markdown",
   "id": "83e39ee4",
   "metadata": {},
   "source": [
    "# Split Data"
   ]
  },
  {
   "cell_type": "code",
   "execution_count": 7,
   "id": "3a3db659",
   "metadata": {},
   "outputs": [
    {
     "name": "stdout",
     "output_type": "stream",
     "text": [
      "Train\t| X shape: (18897, 10000)\tY shape: (18897,)\n",
      "Test\t| X shape: (2100, 10000)\tY shape: (2100,)\n"
     ]
    }
   ],
   "source": [
    "x_train, x_test, y_train, y_test = (\n",
    "    train_test_split(x_smote, \n",
    "                     y_smote, \n",
    "                     test_size=test_size_split, \n",
    "                     stratify = y_smote, \n",
    "                     random_state=42)\n",
    ")\n",
    "\n",
    "print(f'Train\\t| X shape: {x_train.shape}\\tY shape: {y_train.shape}')\n",
    "print(f'Test\\t| X shape: {x_test.shape}\\tY shape: {y_test.shape}')"
   ]
  },
  {
   "cell_type": "markdown",
   "id": "abd73835",
   "metadata": {},
   "source": [
    "# Feature Expansion"
   ]
  },
  {
   "cell_type": "code",
   "execution_count": 8,
   "id": "eeab2aeb",
   "metadata": {},
   "outputs": [],
   "source": [
    "# Load trained fasttext model\n",
    "model_exp = FastText.load('fasttext_news_tweet.model').wv"
   ]
  },
  {
   "cell_type": "code",
   "execution_count": 9,
   "id": "58fcc6ef",
   "metadata": {},
   "outputs": [],
   "source": [
    "def feature_expansion(df, feature):\n",
    "    for col in tqdm(df.columns): #loop per kolom\n",
    "        try: \n",
    "            sim_word = model_exp.similar_by_word(col, topn = 1) #Mencari similarity berdasarkan nilai n\n",
    "        except:\n",
    "            sim_word = []\n",
    "        if sim_word != []: #jika similarity tidak kosong\n",
    "            for term in [sim_word[i][0] for i in range(len(sim_word))]: #loop per-word yang ada di Similarity\n",
    "                if term in feature:\n",
    "                    #untuk semua kolom yang mempunyai nilai 0 di kolom, tetapi mempunyai nilai yang bukan 0 pada kolom term\n",
    "                    #nilainya diganti dengan nilai kolom term yang mempunyai nilai bukan 0\n",
    "                    df[col][(df[col]==0) & (df[term]!=0)] = df[term][(df[col]==0) & (df[term]!=0)]\n",
    "    return df"
   ]
  },
  {
   "cell_type": "code",
   "execution_count": 10,
   "id": "7880df21",
   "metadata": {},
   "outputs": [
    {
     "name": "stderr",
     "output_type": "stream",
     "text": [
      "100%|███████████████████████████████████████████████████████████████████████████| 10000/10000 [01:28<00:00, 113.35it/s]\n",
      "100%|████████████████████████████████████████████████████████████████████████████| 10000/10000 [01:51<00:00, 89.89it/s]\n"
     ]
    }
   ],
   "source": [
    "feature_ext = vectorizer.get_feature_names_out()\n",
    "\n",
    "df_x_train = pd.DataFrame(x_train.todense(), columns = feature_ext)\n",
    "df_x_test = pd.DataFrame(x_test.todense(), columns = feature_ext)\n",
    "\n",
    "df_x_train_exp = feature_expansion(df_x_train, feature_ext)\n",
    "df_x_test_exp = feature_expansion(df_x_test, feature_ext)\n",
    "\n",
    "x_train = np.expand_dims(df_x_train_exp, 1)\n",
    "x_test = np.expand_dims(df_x_test_exp, 1)\n",
    "\n",
    "y_train = pd.get_dummies(y_train).values\n",
    "y_test = pd.get_dummies(y_test).values"
   ]
  },
  {
   "cell_type": "markdown",
   "id": "0f45e08d",
   "metadata": {},
   "source": [
    "# Model RNN"
   ]
  },
  {
   "cell_type": "code",
   "execution_count": 11,
   "id": "4f1135a4",
   "metadata": {},
   "outputs": [],
   "source": [
    "def RNN(x_train_c, y_train_c, x_test_c, y_test_c):\n",
    "    rnn = Sequential()\n",
    "    rnn.add(SimpleRNN(units=256, activation='relu', recurrent_dropout=0.2, return_sequences=True))\n",
    "    rnn.add(Dropout(0.2))\n",
    "    rnn.add(SimpleRNN(units=128, activation='relu', return_sequences=True))\n",
    "    rnn.add(Dropout(0.2))\n",
    "    rnn.add(SimpleRNN(units=64, activation='relu'))\n",
    "    rnn.add(Dropout(0.2))\n",
    "    rnn.add(Dense(units=3, activation='softmax'))\n",
    "    \n",
    "    rnn.compile(loss='categorical_crossentropy', optimizer='adam', metrics=['accuracy'])\n",
    "    \n",
    "    rnn.build(x_train_c.shape)\n",
    "    \n",
    "    early_stopping = EarlyStopping(monitor='val_loss', mode = 'min', verbose = 1, patience=3, min_delta=0.0001)\n",
    "    model_checkpoint = ModelCheckpoint('rnn_tfidf_ft_smote_plot.h5', monitor = 'val_accuracy', mode = 'max', verbose = 1, save_best_only = True)\n",
    "    \n",
    "    history = rnn.fit(x_train_c, y_train_c, epochs= 10, batch_size=128, \n",
    "                      validation_data=(x_test_c, y_test_c), verbose = 1,\n",
    "                      callbacks=[early_stopping, model_checkpoint])\n",
    "    \n",
    "    model = load_model('rnn_tfidf_ft_smote_plot.h5')\n",
    "    y_pred = model.predict(x_test_c)\n",
    "    y_pred_cat = y_pred.argmax(axis=1)\n",
    "    y_test_cat = np.argmax(y_test_c, axis=1)\n",
    "   \n",
    "    cm = confusion_matrix(y_test_cat, y_pred_cat)\n",
    "    classreport = classification_report(y_test_cat, y_pred_cat)\n",
    "    f1 = f1_score(y_test_cat, y_pred_cat,  average=\"macro\")\n",
    "    recall = recall_score(y_test_cat, y_pred_cat, average=\"macro\")\n",
    "    precision = precision_score(y_test_cat, y_pred_cat, average=\"macro\")\n",
    "    accuracy = accuracy_score(y_test_cat, y_pred_cat)\n",
    "\n",
    "    print(classreport)\n",
    "    print(\"F1 Score : \", f1)\n",
    "    print(\"Precision : \", precision)\n",
    "    print(\"Recall : \", recall)\n",
    "    print(\"Accuracy : \", accuracy)\n",
    "\n",
    "    return [f1, precision, recall, accuracy, cm]"
   ]
  },
  {
   "cell_type": "markdown",
   "id": "e2d00b03",
   "metadata": {},
   "source": [
    "# Running"
   ]
  },
  {
   "cell_type": "code",
   "execution_count": 12,
   "id": "3e1c419c",
   "metadata": {},
   "outputs": [
    {
     "name": "stdout",
     "output_type": "stream",
     "text": [
      "Epoch 1/10\n",
      "148/148 [==============================] - ETA: 0s - loss: 0.7950 - accuracy: 0.6494\n",
      "Epoch 1: val_accuracy improved from -inf to 0.72286, saving model to rnn_tfidf_ft_smote_plot.h5\n",
      "148/148 [==============================] - 14s 44ms/step - loss: 0.7950 - accuracy: 0.6494 - val_loss: 0.6578 - val_accuracy: 0.7229\n",
      "Epoch 2/10\n",
      "147/148 [============================>.] - ETA: 0s - loss: 0.4926 - accuracy: 0.8114\n",
      "Epoch 2: val_accuracy improved from 0.72286 to 0.75095, saving model to rnn_tfidf_ft_smote_plot.h5\n",
      "148/148 [==============================] - 5s 31ms/step - loss: 0.4929 - accuracy: 0.8113 - val_loss: 0.6292 - val_accuracy: 0.7510\n",
      "Epoch 3/10\n",
      "147/148 [============================>.] - ETA: 0s - loss: 0.3075 - accuracy: 0.8890\n",
      "Epoch 3: val_accuracy improved from 0.75095 to 0.76000, saving model to rnn_tfidf_ft_smote_plot.h5\n",
      "148/148 [==============================] - 5s 31ms/step - loss: 0.3074 - accuracy: 0.8890 - val_loss: 0.6838 - val_accuracy: 0.7600\n",
      "Epoch 4/10\n",
      "148/148 [==============================] - ETA: 0s - loss: 0.1772 - accuracy: 0.9397\n",
      "Epoch 4: val_accuracy improved from 0.76000 to 0.76667, saving model to rnn_tfidf_ft_smote_plot.h5\n",
      "148/148 [==============================] - 5s 31ms/step - loss: 0.1772 - accuracy: 0.9397 - val_loss: 0.7837 - val_accuracy: 0.7667\n",
      "Epoch 5/10\n",
      "148/148 [==============================] - ETA: 0s - loss: 0.1046 - accuracy: 0.9661\n",
      "Epoch 5: val_accuracy improved from 0.76667 to 0.76762, saving model to rnn_tfidf_ft_smote_plot.h5\n",
      "148/148 [==============================] - 5s 35ms/step - loss: 0.1046 - accuracy: 0.9661 - val_loss: 0.9256 - val_accuracy: 0.7676\n",
      "Epoch 5: early stopping\n",
      "66/66 [==============================] - 2s 8ms/step\n",
      "              precision    recall  f1-score   support\n",
      "\n",
      "           0       0.82      0.86      0.84       700\n",
      "           1       0.74      0.75      0.75       700\n",
      "           2       0.74      0.69      0.71       700\n",
      "\n",
      "    accuracy                           0.77      2100\n",
      "   macro avg       0.77      0.77      0.77      2100\n",
      "weighted avg       0.77      0.77      0.77      2100\n",
      "\n",
      "F1 Score :  0.7664589376647714\n",
      "Precision :  0.766196014769723\n",
      "Recall :  0.7676190476190476\n",
      "Accuracy :  0.7676190476190476\n",
      "Epoch 1/10\n",
      "147/148 [============================>.] - ETA: 0s - loss: 0.7978 - accuracy: 0.6477\n",
      "Epoch 1: val_accuracy improved from -inf to 0.72619, saving model to rnn_tfidf_ft_smote_plot.h5\n",
      "148/148 [==============================] - 14s 35ms/step - loss: 0.7970 - accuracy: 0.6483 - val_loss: 0.6594 - val_accuracy: 0.7262\n",
      "Epoch 2/10\n",
      "146/148 [============================>.] - ETA: 0s - loss: 0.5037 - accuracy: 0.8070\n",
      "Epoch 2: val_accuracy improved from 0.72619 to 0.74952, saving model to rnn_tfidf_ft_smote_plot.h5\n",
      "148/148 [==============================] - 4s 28ms/step - loss: 0.5031 - accuracy: 0.8071 - val_loss: 0.6167 - val_accuracy: 0.7495\n",
      "Epoch 3/10\n",
      "148/148 [==============================] - ETA: 0s - loss: 0.3187 - accuracy: 0.8853\n",
      "Epoch 3: val_accuracy improved from 0.74952 to 0.75524, saving model to rnn_tfidf_ft_smote_plot.h5\n",
      "148/148 [==============================] - 4s 29ms/step - loss: 0.3187 - accuracy: 0.8853 - val_loss: 0.6761 - val_accuracy: 0.7552\n",
      "Epoch 4/10\n",
      "146/148 [============================>.] - ETA: 0s - loss: 0.1802 - accuracy: 0.9378\n",
      "Epoch 4: val_accuracy improved from 0.75524 to 0.77381, saving model to rnn_tfidf_ft_smote_plot.h5\n",
      "148/148 [==============================] - 4s 27ms/step - loss: 0.1804 - accuracy: 0.9379 - val_loss: 0.7527 - val_accuracy: 0.7738\n",
      "Epoch 5/10\n",
      "148/148 [==============================] - ETA: 0s - loss: 0.1083 - accuracy: 0.9651\n",
      "Epoch 5: val_accuracy did not improve from 0.77381\n",
      "148/148 [==============================] - 4s 24ms/step - loss: 0.1083 - accuracy: 0.9651 - val_loss: 0.9581 - val_accuracy: 0.7648\n",
      "Epoch 5: early stopping\n",
      "66/66 [==============================] - 1s 5ms/step\n",
      "              precision    recall  f1-score   support\n",
      "\n",
      "           0       0.85      0.84      0.85       700\n",
      "           1       0.74      0.74      0.74       700\n",
      "           2       0.73      0.74      0.73       700\n",
      "\n",
      "    accuracy                           0.77      2100\n",
      "   macro avg       0.77      0.77      0.77      2100\n",
      "weighted avg       0.77      0.77      0.77      2100\n",
      "\n",
      "F1 Score :  0.7740210045074628\n",
      "Precision :  0.7742610226344473\n",
      "Recall :  0.7738095238095238\n",
      "Accuracy :  0.7738095238095238\n",
      "Epoch 1/10\n",
      "146/148 [============================>.] - ETA: 0s - loss: 0.7918 - accuracy: 0.6539\n",
      "Epoch 1: val_accuracy improved from -inf to 0.72667, saving model to rnn_tfidf_ft_smote_plot.h5\n",
      "148/148 [==============================] - 13s 42ms/step - loss: 0.7904 - accuracy: 0.6549 - val_loss: 0.6688 - val_accuracy: 0.7267\n",
      "Epoch 2/10\n",
      "147/148 [============================>.] - ETA: 0s - loss: 0.4957 - accuracy: 0.8109\n",
      "Epoch 2: val_accuracy improved from 0.72667 to 0.75857, saving model to rnn_tfidf_ft_smote_plot.h5\n",
      "148/148 [==============================] - 5s 32ms/step - loss: 0.4958 - accuracy: 0.8108 - val_loss: 0.6137 - val_accuracy: 0.7586\n",
      "Epoch 3/10\n",
      "148/148 [==============================] - ETA: 0s - loss: 0.3118 - accuracy: 0.8890\n",
      "Epoch 3: val_accuracy did not improve from 0.75857\n",
      "148/148 [==============================] - 5s 32ms/step - loss: 0.3118 - accuracy: 0.8890 - val_loss: 0.6568 - val_accuracy: 0.7586\n",
      "Epoch 4/10\n",
      "148/148 [==============================] - ETA: 0s - loss: 0.1819 - accuracy: 0.9367\n",
      "Epoch 4: val_accuracy improved from 0.75857 to 0.75952, saving model to rnn_tfidf_ft_smote_plot.h5\n",
      "148/148 [==============================] - 5s 32ms/step - loss: 0.1819 - accuracy: 0.9367 - val_loss: 0.8159 - val_accuracy: 0.7595\n",
      "Epoch 5/10\n",
      "147/148 [============================>.] - ETA: 0s - loss: 0.1093 - accuracy: 0.9633\n",
      "Epoch 5: val_accuracy improved from 0.75952 to 0.76905, saving model to rnn_tfidf_ft_smote_plot.h5\n",
      "148/148 [==============================] - 5s 34ms/step - loss: 0.1092 - accuracy: 0.9633 - val_loss: 0.9002 - val_accuracy: 0.7690\n",
      "Epoch 5: early stopping\n",
      "66/66 [==============================] - 2s 7ms/step\n",
      "              precision    recall  f1-score   support\n",
      "\n",
      "           0       0.85      0.85      0.85       700\n",
      "           1       0.73      0.74      0.73       700\n",
      "           2       0.72      0.72      0.72       700\n",
      "\n",
      "    accuracy                           0.77      2100\n",
      "   macro avg       0.77      0.77      0.77      2100\n",
      "weighted avg       0.77      0.77      0.77      2100\n",
      "\n",
      "F1 Score :  0.769169406835469\n",
      "Precision :  0.7693371522701827\n",
      "Recall :  0.769047619047619\n",
      "Accuracy :  0.7690476190476191\n",
      "Epoch 1/10\n",
      "147/148 [============================>.] - ETA: 0s - loss: 0.8037 - accuracy: 0.6475\n",
      "Epoch 1: val_accuracy improved from -inf to 0.72095, saving model to rnn_tfidf_ft_smote_plot.h5\n",
      "148/148 [==============================] - 15s 42ms/step - loss: 0.8032 - accuracy: 0.6476 - val_loss: 0.6640 - val_accuracy: 0.7210\n",
      "Epoch 2/10\n",
      "147/148 [============================>.] - ETA: 0s - loss: 0.5070 - accuracy: 0.8052\n",
      "Epoch 2: val_accuracy improved from 0.72095 to 0.75048, saving model to rnn_tfidf_ft_smote_plot.h5\n",
      "148/148 [==============================] - 5s 31ms/step - loss: 0.5066 - accuracy: 0.8054 - val_loss: 0.6060 - val_accuracy: 0.7505\n",
      "Epoch 3/10\n",
      "147/148 [============================>.] - ETA: 0s - loss: 0.3219 - accuracy: 0.8836\n",
      "Epoch 3: val_accuracy improved from 0.75048 to 0.76714, saving model to rnn_tfidf_ft_smote_plot.h5\n",
      "148/148 [==============================] - 5s 33ms/step - loss: 0.3223 - accuracy: 0.8835 - val_loss: 0.6515 - val_accuracy: 0.7671\n",
      "Epoch 4/10\n",
      "147/148 [============================>.] - ETA: 0s - loss: 0.1824 - accuracy: 0.9387\n",
      "Epoch 4: val_accuracy improved from 0.76714 to 0.77429, saving model to rnn_tfidf_ft_smote_plot.h5\n",
      "148/148 [==============================] - 5s 31ms/step - loss: 0.1827 - accuracy: 0.9386 - val_loss: 0.7713 - val_accuracy: 0.7743\n",
      "Epoch 5/10\n",
      "147/148 [============================>.] - ETA: 0s - loss: 0.1096 - accuracy: 0.9635\n",
      "Epoch 5: val_accuracy did not improve from 0.77429\n",
      "148/148 [==============================] - 5s 32ms/step - loss: 0.1094 - accuracy: 0.9635 - val_loss: 0.8765 - val_accuracy: 0.7676\n",
      "Epoch 5: early stopping\n"
     ]
    },
    {
     "name": "stdout",
     "output_type": "stream",
     "text": [
      "66/66 [==============================] - 2s 8ms/step\n",
      "              precision    recall  f1-score   support\n",
      "\n",
      "           0       0.82      0.88      0.85       700\n",
      "           1       0.76      0.74      0.75       700\n",
      "           2       0.74      0.71      0.72       700\n",
      "\n",
      "    accuracy                           0.77      2100\n",
      "   macro avg       0.77      0.77      0.77      2100\n",
      "weighted avg       0.77      0.77      0.77      2100\n",
      "\n",
      "F1 Score :  0.772807826573219\n",
      "Precision :  0.7725137994914872\n",
      "Recall :  0.7742857142857144\n",
      "Accuracy :  0.7742857142857142\n",
      "Epoch 1/10\n",
      "147/148 [============================>.] - ETA: 0s - loss: 0.7927 - accuracy: 0.6549\n",
      "Epoch 1: val_accuracy improved from -inf to 0.73762, saving model to rnn_tfidf_ft_smote_plot.h5\n",
      "148/148 [==============================] - 16s 46ms/step - loss: 0.7923 - accuracy: 0.6552 - val_loss: 0.6475 - val_accuracy: 0.7376\n",
      "Epoch 2/10\n",
      "148/148 [==============================] - ETA: 0s - loss: 0.4965 - accuracy: 0.8086\n",
      "Epoch 2: val_accuracy improved from 0.73762 to 0.76000, saving model to rnn_tfidf_ft_smote_plot.h5\n",
      "148/148 [==============================] - 5s 33ms/step - loss: 0.4965 - accuracy: 0.8086 - val_loss: 0.6085 - val_accuracy: 0.7600\n",
      "Epoch 3/10\n",
      "148/148 [==============================] - ETA: 0s - loss: 0.3154 - accuracy: 0.8870\n",
      "Epoch 3: val_accuracy did not improve from 0.76000\n",
      "148/148 [==============================] - 5s 33ms/step - loss: 0.3154 - accuracy: 0.8870 - val_loss: 0.6658 - val_accuracy: 0.7495\n",
      "Epoch 4/10\n",
      "147/148 [============================>.] - ETA: 0s - loss: 0.1873 - accuracy: 0.9364\n",
      "Epoch 4: val_accuracy improved from 0.76000 to 0.77286, saving model to rnn_tfidf_ft_smote_plot.h5\n",
      "148/148 [==============================] - 5s 31ms/step - loss: 0.1874 - accuracy: 0.9364 - val_loss: 0.7646 - val_accuracy: 0.7729\n",
      "Epoch 5/10\n",
      "147/148 [============================>.] - ETA: 0s - loss: 0.1106 - accuracy: 0.9633\n",
      "Epoch 5: val_accuracy improved from 0.77286 to 0.77714, saving model to rnn_tfidf_ft_smote_plot.h5\n",
      "148/148 [==============================] - 5s 32ms/step - loss: 0.1107 - accuracy: 0.9633 - val_loss: 0.8650 - val_accuracy: 0.7771\n",
      "Epoch 5: early stopping\n",
      "66/66 [==============================] - 2s 16ms/step\n",
      "              precision    recall  f1-score   support\n",
      "\n",
      "           0       0.85      0.85      0.85       700\n",
      "           1       0.77      0.72      0.74       700\n",
      "           2       0.71      0.76      0.73       700\n",
      "\n",
      "    accuracy                           0.78      2100\n",
      "   macro avg       0.78      0.78      0.78      2100\n",
      "weighted avg       0.78      0.78      0.78      2100\n",
      "\n",
      "F1 Score :  0.7772305304897186\n",
      "Precision :  0.7781661480263828\n",
      "Recall :  0.7771428571428571\n",
      "Accuracy :  0.7771428571428571\n"
     ]
    }
   ],
   "source": [
    "hasil = []\n",
    "\n",
    "for i in range(1, 6):\n",
    "    hasil.append([str(i)] + RNN(x_train, y_train, x_test, y_test))"
   ]
  },
  {
   "cell_type": "markdown",
   "id": "fca41e89",
   "metadata": {},
   "source": [
    "# Save Output"
   ]
  },
  {
   "cell_type": "code",
   "execution_count": 13,
   "id": "5bf3ea00",
   "metadata": {},
   "outputs": [
    {
     "data": {
      "text/html": [
       "<div>\n",
       "<style scoped>\n",
       "    .dataframe tbody tr th:only-of-type {\n",
       "        vertical-align: middle;\n",
       "    }\n",
       "\n",
       "    .dataframe tbody tr th {\n",
       "        vertical-align: top;\n",
       "    }\n",
       "\n",
       "    .dataframe thead th {\n",
       "        text-align: right;\n",
       "    }\n",
       "</style>\n",
       "<table border=\"1\" class=\"dataframe\">\n",
       "  <thead>\n",
       "    <tr style=\"text-align: right;\">\n",
       "      <th></th>\n",
       "      <th>iterasi</th>\n",
       "      <th>f1</th>\n",
       "      <th>precision</th>\n",
       "      <th>recall</th>\n",
       "      <th>accuracy</th>\n",
       "      <th>cm</th>\n",
       "    </tr>\n",
       "  </thead>\n",
       "  <tbody>\n",
       "    <tr>\n",
       "      <th>0</th>\n",
       "      <td>1</td>\n",
       "      <td>0.766459</td>\n",
       "      <td>0.766196</td>\n",
       "      <td>0.767619</td>\n",
       "      <td>0.767619</td>\n",
       "      <td>[[603, 41, 56], [58, 526, 116], [75, 142, 483]]</td>\n",
       "    </tr>\n",
       "    <tr>\n",
       "      <th>1</th>\n",
       "      <td>2</td>\n",
       "      <td>0.774021</td>\n",
       "      <td>0.774261</td>\n",
       "      <td>0.773810</td>\n",
       "      <td>0.773810</td>\n",
       "      <td>[[589, 47, 64], [52, 521, 127], [51, 134, 515]]</td>\n",
       "    </tr>\n",
       "    <tr>\n",
       "      <th>2</th>\n",
       "      <td>3</td>\n",
       "      <td>0.769169</td>\n",
       "      <td>0.769337</td>\n",
       "      <td>0.769048</td>\n",
       "      <td>0.769048</td>\n",
       "      <td>[[594, 52, 54], [45, 518, 137], [56, 141, 503]]</td>\n",
       "    </tr>\n",
       "    <tr>\n",
       "      <th>3</th>\n",
       "      <td>4</td>\n",
       "      <td>0.772808</td>\n",
       "      <td>0.772514</td>\n",
       "      <td>0.774286</td>\n",
       "      <td>0.774286</td>\n",
       "      <td>[[616, 37, 47], [59, 516, 125], [79, 127, 494]]</td>\n",
       "    </tr>\n",
       "    <tr>\n",
       "      <th>4</th>\n",
       "      <td>5</td>\n",
       "      <td>0.777231</td>\n",
       "      <td>0.778166</td>\n",
       "      <td>0.777143</td>\n",
       "      <td>0.777143</td>\n",
       "      <td>[[598, 35, 67], [50, 505, 145], [52, 119, 529]]</td>\n",
       "    </tr>\n",
       "  </tbody>\n",
       "</table>\n",
       "</div>"
      ],
      "text/plain": [
       "  iterasi        f1  precision    recall  accuracy  \\\n",
       "0       1  0.766459   0.766196  0.767619  0.767619   \n",
       "1       2  0.774021   0.774261  0.773810  0.773810   \n",
       "2       3  0.769169   0.769337  0.769048  0.769048   \n",
       "3       4  0.772808   0.772514  0.774286  0.774286   \n",
       "4       5  0.777231   0.778166  0.777143  0.777143   \n",
       "\n",
       "                                                cm  \n",
       "0  [[603, 41, 56], [58, 526, 116], [75, 142, 483]]  \n",
       "1  [[589, 47, 64], [52, 521, 127], [51, 134, 515]]  \n",
       "2  [[594, 52, 54], [45, 518, 137], [56, 141, 503]]  \n",
       "3  [[616, 37, 47], [59, 516, 125], [79, 127, 494]]  \n",
       "4  [[598, 35, 67], [50, 505, 145], [52, 119, 529]]  "
      ]
     },
     "execution_count": 13,
     "metadata": {},
     "output_type": "execute_result"
    }
   ],
   "source": [
    "df = pd.DataFrame(hasil, columns =['iterasi', 'f1', 'precision', 'recall', 'accuracy', 'cm'])\n",
    "#df.to_excel('rnn_tfidf_ft_smote_plot.xlsx')\n",
    "df.head()"
   ]
  },
  {
   "cell_type": "code",
   "execution_count": 14,
   "id": "8b43e24e",
   "metadata": {},
   "outputs": [
    {
     "name": "stdout",
     "output_type": "stream",
     "text": [
      "Accuracy : 77.24\n",
      "F1-Score : 77.19\n"
     ]
    }
   ],
   "source": [
    "print(\"Accuracy : %.2f\" % (df['accuracy'].mean()*100))\n",
    "print(\"F1-Score : %.2f\" % (df['f1'].mean()*100))"
   ]
  }
 ],
 "metadata": {
  "kernelspec": {
   "display_name": "Python 3 (ipykernel)",
   "language": "python",
   "name": "python3"
  },
  "language_info": {
   "codemirror_mode": {
    "name": "ipython",
    "version": 3
   },
   "file_extension": ".py",
   "mimetype": "text/x-python",
   "name": "python",
   "nbconvert_exporter": "python",
   "pygments_lexer": "ipython3",
   "version": "3.10.9"
  }
 },
 "nbformat": 4,
 "nbformat_minor": 5
}
