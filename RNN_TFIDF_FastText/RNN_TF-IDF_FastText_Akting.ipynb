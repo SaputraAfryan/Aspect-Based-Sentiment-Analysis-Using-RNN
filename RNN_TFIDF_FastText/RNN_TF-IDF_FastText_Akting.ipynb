{
 "cells": [
  {
   "cell_type": "markdown",
   "id": "952a8e9a",
   "metadata": {},
   "source": [
    "# Library"
   ]
  },
  {
   "cell_type": "code",
   "execution_count": 1,
   "id": "db7d2b33",
   "metadata": {},
   "outputs": [],
   "source": [
    "import numpy as np\n",
    "import pandas as pd\n",
    "from tqdm import tqdm\n",
    "from gensim.models import FastText\n",
    "\n",
    "from sklearn.preprocessing import LabelEncoder\n",
    "from sklearn.model_selection import train_test_split\n",
    "from sklearn.feature_extraction.text import TfidfVectorizer\n",
    "from sklearn.metrics import classification_report, confusion_matrix, accuracy_score, precision_score, recall_score, f1_score\n",
    "\n",
    "from keras.utils.np_utils import to_categorical\n",
    "from keras.models import load_model, Model, Sequential\n",
    "from keras.callbacks import EarlyStopping, ModelCheckpoint\n",
    "from keras.layers import Dense, Embedding, SimpleRNN, Dropout\n",
    "\n",
    "import tensorflow as tf\n",
    "from tensorflow.keras.preprocessing.text import Tokenizer\n",
    "from tensorflow.keras.preprocessing.sequence import pad_sequences"
   ]
  },
  {
   "cell_type": "markdown",
   "id": "51221a6e",
   "metadata": {},
   "source": [
    "# Preprocessing\n",
    "### Load Data"
   ]
  },
  {
   "cell_type": "code",
   "execution_count": 2,
   "id": "39a1552b",
   "metadata": {},
   "outputs": [
    {
     "data": {
      "text/html": [
       "<div>\n",
       "<style scoped>\n",
       "    .dataframe tbody tr th:only-of-type {\n",
       "        vertical-align: middle;\n",
       "    }\n",
       "\n",
       "    .dataframe tbody tr th {\n",
       "        vertical-align: top;\n",
       "    }\n",
       "\n",
       "    .dataframe thead th {\n",
       "        text-align: right;\n",
       "    }\n",
       "</style>\n",
       "<table border=\"1\" class=\"dataframe\">\n",
       "  <thead>\n",
       "    <tr style=\"text-align: right;\">\n",
       "      <th></th>\n",
       "      <th>detokenize</th>\n",
       "      <th>akting</th>\n",
       "    </tr>\n",
       "  </thead>\n",
       "  <tbody>\n",
       "    <tr>\n",
       "      <th>0</th>\n",
       "      <td>the desperate hour lakewood salah cerita suara...</td>\n",
       "      <td>1</td>\n",
       "    </tr>\n",
       "    <tr>\n",
       "      <th>1</th>\n",
       "      <td>edisi males review singkat tonton libur dp des...</td>\n",
       "      <td>1</td>\n",
       "    </tr>\n",
       "    <tr>\n",
       "      <th>2</th>\n",
       "      <td>plot utama orang deserter pursuit buru wamil j...</td>\n",
       "      <td>1</td>\n",
       "    </tr>\n",
       "    <tr>\n",
       "      <th>3</th>\n",
       "      <td>film hereditary horror thrill midsommar gatau ...</td>\n",
       "      <td>0</td>\n",
       "    </tr>\n",
       "    <tr>\n",
       "      <th>4</th>\n",
       "      <td>batman manusiawi tarung nya sadis scene pursui...</td>\n",
       "      <td>0</td>\n",
       "    </tr>\n",
       "  </tbody>\n",
       "</table>\n",
       "</div>"
      ],
      "text/plain": [
       "                                          detokenize  akting\n",
       "0  the desperate hour lakewood salah cerita suara...       1\n",
       "1  edisi males review singkat tonton libur dp des...       1\n",
       "2  plot utama orang deserter pursuit buru wamil j...       1\n",
       "3  film hereditary horror thrill midsommar gatau ...       0\n",
       "4  batman manusiawi tarung nya sadis scene pursui...       0"
      ]
     },
     "execution_count": 2,
     "metadata": {},
     "output_type": "execute_result"
    }
   ],
   "source": [
    "df = pd.read_pickle(r'C:\\Users\\HP Victus 16\\Documents\\TA_Code\\Preprocessing\\preprocessed_df.pkl')\n",
    "df = pd.DataFrame(df[['detokenize','akting']])\n",
    "df.head()"
   ]
  },
  {
   "cell_type": "code",
   "execution_count": 3,
   "id": "ce595ce1",
   "metadata": {},
   "outputs": [],
   "source": [
    "reviews = df['detokenize'].astype(str)\n",
    "label = pd.get_dummies(df['akting']).values"
   ]
  },
  {
   "cell_type": "markdown",
   "id": "12ff6732",
   "metadata": {},
   "source": [
    "# Variables"
   ]
  },
  {
   "cell_type": "code",
   "execution_count": 4,
   "id": "46d427b6",
   "metadata": {},
   "outputs": [],
   "source": [
    "MAX_FEATURES = 1000\n",
    "test_size_split = 0.3"
   ]
  },
  {
   "cell_type": "markdown",
   "id": "83e39ee4",
   "metadata": {},
   "source": [
    "# Split Data"
   ]
  },
  {
   "cell_type": "code",
   "execution_count": 5,
   "id": "3a3db659",
   "metadata": {},
   "outputs": [
    {
     "name": "stdout",
     "output_type": "stream",
     "text": [
      "Train\t| X shape: (12072,)\tY shape: (12072, 3)\n",
      "Test\t| X shape: (5175,)\tY shape: (5175, 3)\n"
     ]
    }
   ],
   "source": [
    "x_train, x_test, y_train, y_test = (\n",
    "    train_test_split(reviews, \n",
    "                     label, \n",
    "                     test_size=test_size_split, \n",
    "                     stratify = label, \n",
    "                     random_state=42)\n",
    ")\n",
    "\n",
    "print(f'Train\\t| X shape: {x_train.shape}\\tY shape: {y_train.shape}')\n",
    "print(f'Test\\t| X shape: {x_test.shape}\\tY shape: {y_test.shape}')"
   ]
  },
  {
   "cell_type": "markdown",
   "id": "daee34c2",
   "metadata": {},
   "source": [
    "# Feature Extraction"
   ]
  },
  {
   "cell_type": "code",
   "execution_count": 6,
   "id": "88442453",
   "metadata": {},
   "outputs": [],
   "source": [
    "vectorizer = TfidfVectorizer(ngram_range=(1,2), max_features = MAX_FEATURES)\n",
    "vectorizer.fit(x_train)\n",
    "\n",
    "x_train_tfidf = vectorizer.fit_transform(x_train).todense()\n",
    "x_test_tfidf = vectorizer.transform(x_test).todense()"
   ]
  },
  {
   "cell_type": "markdown",
   "id": "9c95ea34",
   "metadata": {},
   "source": [
    "# Feature Expansion"
   ]
  },
  {
   "cell_type": "code",
   "execution_count": 7,
   "id": "8d28e5ba",
   "metadata": {},
   "outputs": [],
   "source": [
    "# Load trained fasttext model\n",
    "model_exp = FastText.load(r'C:\\Users\\HP Victus 16\\Documents\\TA_Code\\Corpus_FastText\\fasttext_news_tweet.model').wv"
   ]
  },
  {
   "cell_type": "code",
   "execution_count": 8,
   "id": "4cd37514",
   "metadata": {},
   "outputs": [],
   "source": [
    "def feature_expansion(df,feature):\n",
    "    for col in tqdm(df.columns): #loop per kolom\n",
    "        try: \n",
    "            sim_word = model_exp.similar_by_word(col, topn = 45) #Mencari similarity berdasarkan nilai n\n",
    "        except:\n",
    "            sim_word = []\n",
    "        if sim_word != []: #jika similarity tidak kosong\n",
    "            for term in [sim_word[i][0] for i in range(len(sim_word))]: #loop per-word yang ada di Similarity\n",
    "                if term in feature:\n",
    "                    #untuk semua kolom yang mempunyai nilai 0 di kolom, tetapi mempunyai nilai yang bukan 0 pada kolom term\n",
    "                    #nilainya diganti dengan nilai kolom term yang mempunyai nilai bukan 0\n",
    "                    df[col][(df[col]==0) & (df[term]!=0)] = df[term][(df[col]==0) & (df[term]!=0)]\n",
    "    return df"
   ]
  },
  {
   "cell_type": "code",
   "execution_count": 9,
   "id": "b4d87430",
   "metadata": {},
   "outputs": [
    {
     "name": "stderr",
     "output_type": "stream",
     "text": [
      "100%|██████████████████████████████████████████████████████████████████████████████| 1000/1000 [00:12<00:00, 81.93it/s]\n",
      "100%|██████████████████████████████████████████████████████████████████████████████| 1000/1000 [00:12<00:00, 82.62it/s]\n"
     ]
    }
   ],
   "source": [
    "feature_ext = vectorizer.get_feature_names_out()\n",
    "\n",
    "df_x_train = pd.DataFrame(x_train_tfidf, columns= feature_ext)\n",
    "df_x_test = pd.DataFrame(x_test_tfidf, columns= feature_ext)\n",
    "\n",
    "df_exp_x_train = feature_expansion(df_x_train, feature_ext)\n",
    "df_exp_x_test = feature_expansion(df_x_test, feature_ext)\n",
    "\n",
    "x_train = np.expand_dims(df_exp_x_train, 1)\n",
    "x_test = np.expand_dims(df_exp_x_test, 1)"
   ]
  },
  {
   "cell_type": "markdown",
   "id": "0f45e08d",
   "metadata": {},
   "source": [
    "# Model RNN"
   ]
  },
  {
   "cell_type": "code",
   "execution_count": 10,
   "id": "4f1135a4",
   "metadata": {},
   "outputs": [],
   "source": [
    "def RNN(x_train_c, y_train_c, x_test_c, y_test_c):\n",
    "    rnn = Sequential()\n",
    "    rnn.add(SimpleRNN(units=256, activation='relu', recurrent_dropout=0.2, return_sequences=True))\n",
    "    rnn.add(Dropout(0.2))\n",
    "    rnn.add(SimpleRNN(units=128, activation='relu', return_sequences=True))\n",
    "    rnn.add(Dropout(0.2))\n",
    "    rnn.add(SimpleRNN(units=64, activation='relu'))\n",
    "    rnn.add(Dropout(0.2))\n",
    "    rnn.add(Dense(units=3, activation='softmax'))\n",
    "    \n",
    "    rnn.compile(loss='categorical_crossentropy', optimizer='adam', metrics=['accuracy'])\n",
    "    \n",
    "    rnn.build(x_train_c.shape)\n",
    "    \n",
    "    early_stopping = EarlyStopping(monitor='val_loss', mode = 'min', verbose = 1, patience=3, min_delta=0.0001)\n",
    "    model_checkpoint = ModelCheckpoint('rnn_tfidf_ft_akting.h5', monitor = 'val_accuracy', mode = 'max', verbose = 1, save_best_only = True)\n",
    "    \n",
    "    history = rnn.fit(x_train_c, y_train_c, epochs= 10, batch_size=128, \n",
    "                      validation_data=(x_test_c, y_test_c), verbose = 1,\n",
    "                      callbacks=[early_stopping, model_checkpoint])\n",
    "    \n",
    "    model = load_model('rnn_tfidf_ft_akting.h5')\n",
    "    y_pred = model.predict(x_test_c)\n",
    "    y_pred_cat = y_pred.argmax(axis=1)\n",
    "    y_test_cat = np.argmax(y_test_c, axis=1)\n",
    "   \n",
    "    cm = confusion_matrix(y_test_cat, y_pred_cat)\n",
    "    classreport = classification_report(y_test_cat, y_pred_cat)\n",
    "    f1 = f1_score(y_test_cat, y_pred_cat,  average=\"macro\")\n",
    "    recall = recall_score(y_test_cat, y_pred_cat, average=\"macro\")\n",
    "    precision = precision_score(y_test_cat, y_pred_cat, average=\"macro\")\n",
    "    accuracy = accuracy_score(y_test_cat, y_pred_cat)\n",
    "\n",
    "    print(classreport)\n",
    "    print(\"F1 Score : \", f1)\n",
    "    print(\"Precision : \", precision)\n",
    "    print(\"Recall : \", recall)\n",
    "    print(\"Accuracy : \", accuracy)\n",
    "\n",
    "    return [f1, precision, recall, accuracy, cm]"
   ]
  },
  {
   "cell_type": "markdown",
   "id": "e2d00b03",
   "metadata": {},
   "source": [
    "# Running"
   ]
  },
  {
   "cell_type": "code",
   "execution_count": 11,
   "id": "3e1c419c",
   "metadata": {},
   "outputs": [
    {
     "name": "stdout",
     "output_type": "stream",
     "text": [
      "Epoch 1/10\n",
      "94/95 [============================>.] - ETA: 0s - loss: 0.5177 - accuracy: 0.8200\n",
      "Epoch 1: val_accuracy improved from -inf to 0.87517, saving model to rnn_tfidf_ft_akting.h5\n",
      "95/95 [==============================] - 5s 19ms/step - loss: 0.5169 - accuracy: 0.8203 - val_loss: 0.3629 - val_accuracy: 0.8752\n",
      "Epoch 2/10\n",
      "92/95 [============================>.] - ETA: 0s - loss: 0.3452 - accuracy: 0.8809\n",
      "Epoch 2: val_accuracy improved from 0.87517 to 0.88329, saving model to rnn_tfidf_ft_akting.h5\n",
      "95/95 [==============================] - 1s 7ms/step - loss: 0.3441 - accuracy: 0.8814 - val_loss: 0.3373 - val_accuracy: 0.8833\n",
      "Epoch 3/10\n",
      "91/95 [===========================>..] - ETA: 0s - loss: 0.2921 - accuracy: 0.8986\n",
      "Epoch 3: val_accuracy did not improve from 0.88329\n",
      "95/95 [==============================] - 1s 6ms/step - loss: 0.2930 - accuracy: 0.8980 - val_loss: 0.3396 - val_accuracy: 0.8761\n",
      "Epoch 4/10\n",
      "92/95 [============================>.] - ETA: 0s - loss: 0.2464 - accuracy: 0.9119\n",
      "Epoch 4: val_accuracy did not improve from 0.88329\n",
      "95/95 [==============================] - 1s 6ms/step - loss: 0.2475 - accuracy: 0.9114 - val_loss: 0.3412 - val_accuracy: 0.8794\n",
      "Epoch 5/10\n",
      "91/95 [===========================>..] - ETA: 0s - loss: 0.1947 - accuracy: 0.9341\n",
      "Epoch 5: val_accuracy improved from 0.88329 to 0.88502, saving model to rnn_tfidf_ft_akting.h5\n",
      "95/95 [==============================] - 1s 7ms/step - loss: 0.1940 - accuracy: 0.9341 - val_loss: 0.3747 - val_accuracy: 0.8850\n",
      "Epoch 5: early stopping\n",
      "162/162 [==============================] - 1s 4ms/step\n",
      "              precision    recall  f1-score   support\n",
      "\n",
      "           0       0.45      0.15      0.22       171\n",
      "           1       0.92      0.96      0.94      4132\n",
      "           2       0.73      0.67      0.70       872\n",
      "\n",
      "    accuracy                           0.89      5175\n",
      "   macro avg       0.70      0.59      0.62      5175\n",
      "weighted avg       0.87      0.89      0.88      5175\n",
      "\n",
      "F1 Score :  0.6209972053931256\n",
      "Precision :  0.7023758347488611\n",
      "Recall :  0.5935261736032112\n",
      "Accuracy :  0.885024154589372\n",
      "Epoch 1/10\n",
      "87/95 [==========================>...] - ETA: 0s - loss: 0.5336 - accuracy: 0.8113\n",
      "Epoch 1: val_accuracy improved from -inf to 0.87614, saving model to rnn_tfidf_ft_akting.h5\n",
      "95/95 [==============================] - 5s 18ms/step - loss: 0.5219 - accuracy: 0.8158 - val_loss: 0.3650 - val_accuracy: 0.8761\n",
      "Epoch 2/10\n",
      "85/95 [=========================>....] - ETA: 0s - loss: 0.3419 - accuracy: 0.8816\n",
      "Epoch 2: val_accuracy improved from 0.87614 to 0.88406, saving model to rnn_tfidf_ft_akting.h5\n",
      "95/95 [==============================] - 1s 7ms/step - loss: 0.3427 - accuracy: 0.8820 - val_loss: 0.3354 - val_accuracy: 0.8841\n",
      "Epoch 3/10\n",
      "93/95 [============================>.] - ETA: 0s - loss: 0.2908 - accuracy: 0.8967\n",
      "Epoch 3: val_accuracy did not improve from 0.88406\n",
      "95/95 [==============================] - 1s 6ms/step - loss: 0.2912 - accuracy: 0.8965 - val_loss: 0.3265 - val_accuracy: 0.8821\n",
      "Epoch 4/10\n",
      "92/95 [============================>.] - ETA: 0s - loss: 0.2561 - accuracy: 0.9108\n",
      "Epoch 4: val_accuracy improved from 0.88406 to 0.88444, saving model to rnn_tfidf_ft_akting.h5\n",
      "95/95 [==============================] - 1s 7ms/step - loss: 0.2538 - accuracy: 0.9117 - val_loss: 0.3543 - val_accuracy: 0.8844\n",
      "Epoch 5/10\n",
      "95/95 [==============================] - ETA: 0s - loss: 0.2051 - accuracy: 0.9303\n",
      "Epoch 5: val_accuracy did not improve from 0.88444\n",
      "95/95 [==============================] - 1s 6ms/step - loss: 0.2051 - accuracy: 0.9303 - val_loss: 0.3608 - val_accuracy: 0.8841\n",
      "Epoch 6/10\n",
      "92/95 [============================>.] - ETA: 0s - loss: 0.1483 - accuracy: 0.9503\n",
      "Epoch 6: val_accuracy did not improve from 0.88444\n",
      "95/95 [==============================] - 1s 6ms/step - loss: 0.1487 - accuracy: 0.9500 - val_loss: 0.3820 - val_accuracy: 0.8783\n",
      "Epoch 6: early stopping\n",
      "162/162 [==============================] - 1s 3ms/step\n",
      "              precision    recall  f1-score   support\n",
      "\n",
      "           0       0.48      0.15      0.22       171\n",
      "           1       0.90      0.98      0.94      4132\n",
      "           2       0.80      0.60      0.68       872\n",
      "\n",
      "    accuracy                           0.88      5175\n",
      "   macro avg       0.73      0.57      0.61      5175\n",
      "weighted avg       0.87      0.88      0.87      5175\n",
      "\n",
      "F1 Score :  0.6146802887021573\n",
      "Precision :  0.7261274844031274\n",
      "Recall :  0.5730775086002953\n",
      "Accuracy :  0.8844444444444445\n",
      "Epoch 1/10\n",
      "92/95 [============================>.] - ETA: 0s - loss: 0.5179 - accuracy: 0.8193\n",
      "Epoch 1: val_accuracy improved from -inf to 0.87246, saving model to rnn_tfidf_ft_akting.h5\n",
      "95/95 [==============================] - 5s 19ms/step - loss: 0.5136 - accuracy: 0.8205 - val_loss: 0.3708 - val_accuracy: 0.8725\n",
      "Epoch 2/10\n",
      "95/95 [==============================] - ETA: 0s - loss: 0.3432 - accuracy: 0.8820\n",
      "Epoch 2: val_accuracy improved from 0.87246 to 0.88193, saving model to rnn_tfidf_ft_akting.h5\n",
      "95/95 [==============================] - 1s 7ms/step - loss: 0.3432 - accuracy: 0.8820 - val_loss: 0.3324 - val_accuracy: 0.8819\n",
      "Epoch 3/10\n",
      "95/95 [==============================] - ETA: 0s - loss: 0.2925 - accuracy: 0.8964\n",
      "Epoch 3: val_accuracy improved from 0.88193 to 0.88522, saving model to rnn_tfidf_ft_akting.h5\n",
      "95/95 [==============================] - 1s 7ms/step - loss: 0.2925 - accuracy: 0.8964 - val_loss: 0.3318 - val_accuracy: 0.8852\n",
      "Epoch 4/10\n",
      "94/95 [============================>.] - ETA: 0s - loss: 0.2548 - accuracy: 0.9087\n",
      "Epoch 4: val_accuracy improved from 0.88522 to 0.88773, saving model to rnn_tfidf_ft_akting.h5\n",
      "95/95 [==============================] - 1s 7ms/step - loss: 0.2549 - accuracy: 0.9086 - val_loss: 0.3462 - val_accuracy: 0.8877\n",
      "Epoch 5/10\n",
      "93/95 [============================>.] - ETA: 0s - loss: 0.2002 - accuracy: 0.9299\n",
      "Epoch 5: val_accuracy did not improve from 0.88773\n",
      "95/95 [==============================] - 1s 6ms/step - loss: 0.2009 - accuracy: 0.9296 - val_loss: 0.3650 - val_accuracy: 0.8871\n",
      "Epoch 6/10\n",
      "94/95 [============================>.] - ETA: 0s - loss: 0.1513 - accuracy: 0.9483\n",
      "Epoch 6: val_accuracy did not improve from 0.88773\n",
      "95/95 [==============================] - 1s 6ms/step - loss: 0.1519 - accuracy: 0.9482 - val_loss: 0.3879 - val_accuracy: 0.8854\n",
      "Epoch 6: early stopping\n",
      "162/162 [==============================] - 1s 4ms/step\n",
      "              precision    recall  f1-score   support\n",
      "\n",
      "           0       0.67      0.12      0.20       171\n",
      "           1       0.91      0.97      0.94      4132\n",
      "           2       0.78      0.63      0.70       872\n",
      "\n",
      "    accuracy                           0.89      5175\n",
      "   macro avg       0.78      0.57      0.61      5175\n",
      "weighted avg       0.88      0.89      0.87      5175\n",
      "\n",
      "F1 Score :  0.6123903314067295\n",
      "Precision :  0.7843619025655091\n",
      "Recall :  0.574756623965949\n",
      "Accuracy :  0.8877294685990338\n",
      "Epoch 1/10\n",
      "90/95 [===========================>..] - ETA: 0s - loss: 0.5411 - accuracy: 0.8074\n",
      "Epoch 1: val_accuracy improved from -inf to 0.87652, saving model to rnn_tfidf_ft_akting.h5\n",
      "95/95 [==============================] - 4s 18ms/step - loss: 0.5342 - accuracy: 0.8105 - val_loss: 0.3694 - val_accuracy: 0.8765\n",
      "Epoch 2/10\n",
      "92/95 [============================>.] - ETA: 0s - loss: 0.3468 - accuracy: 0.8799\n",
      "Epoch 2: val_accuracy improved from 0.87652 to 0.88271, saving model to rnn_tfidf_ft_akting.h5\n",
      "95/95 [==============================] - 1s 7ms/step - loss: 0.3476 - accuracy: 0.8793 - val_loss: 0.3400 - val_accuracy: 0.8827\n",
      "Epoch 3/10\n",
      "86/95 [==========================>...] - ETA: 0s - loss: 0.2976 - accuracy: 0.8976\n",
      "Epoch 3: val_accuracy improved from 0.88271 to 0.88580, saving model to rnn_tfidf_ft_akting.h5\n",
      "95/95 [==============================] - 1s 7ms/step - loss: 0.2973 - accuracy: 0.8977 - val_loss: 0.3318 - val_accuracy: 0.8858\n",
      "Epoch 4/10\n",
      "90/95 [===========================>..] - ETA: 0s - loss: 0.2447 - accuracy: 0.9148\n",
      "Epoch 4: val_accuracy improved from 0.88580 to 0.88618, saving model to rnn_tfidf_ft_akting.h5\n",
      "95/95 [==============================] - 1s 7ms/step - loss: 0.2448 - accuracy: 0.9139 - val_loss: 0.3336 - val_accuracy: 0.8862\n",
      "Epoch 5/10\n",
      "93/95 [============================>.] - ETA: 0s - loss: 0.1985 - accuracy: 0.9336\n",
      "Epoch 5: val_accuracy did not improve from 0.88618\n",
      "95/95 [==============================] - 1s 6ms/step - loss: 0.1989 - accuracy: 0.9334 - val_loss: 0.3545 - val_accuracy: 0.8862\n",
      "Epoch 6/10\n",
      "94/95 [============================>.] - ETA: 0s - loss: 0.1490 - accuracy: 0.9501\n",
      "Epoch 6: val_accuracy did not improve from 0.88618\n",
      "95/95 [==============================] - 1s 6ms/step - loss: 0.1488 - accuracy: 0.9502 - val_loss: 0.3971 - val_accuracy: 0.8833\n",
      "Epoch 6: early stopping\n",
      "162/162 [==============================] - 1s 4ms/step\n",
      "              precision    recall  f1-score   support\n",
      "\n",
      "           0       0.56      0.09      0.15       171\n",
      "           1       0.92      0.96      0.94      4132\n",
      "           2       0.73      0.69      0.71       872\n",
      "\n",
      "    accuracy                           0.89      5175\n",
      "   macro avg       0.73      0.58      0.60      5175\n",
      "weighted avg       0.87      0.89      0.87      5175\n",
      "\n",
      "F1 Score :  0.5998423016275954\n",
      "Precision :  0.7345765982446953\n",
      "Recall :  0.5792444287283006\n",
      "Accuracy :  0.886183574879227\n",
      "Epoch 1/10\n",
      "94/95 [============================>.] - ETA: 0s - loss: 0.5312 - accuracy: 0.8098\n",
      "Epoch 1: val_accuracy improved from -inf to 0.87420, saving model to rnn_tfidf_ft_akting.h5\n",
      "95/95 [==============================] - 5s 22ms/step - loss: 0.5311 - accuracy: 0.8099 - val_loss: 0.3768 - val_accuracy: 0.8742\n",
      "Epoch 2/10\n",
      "93/95 [============================>.] - ETA: 0s - loss: 0.3498 - accuracy: 0.8808\n",
      "Epoch 2: val_accuracy improved from 0.87420 to 0.88251, saving model to rnn_tfidf_ft_akting.h5\n",
      "95/95 [==============================] - 1s 8ms/step - loss: 0.3490 - accuracy: 0.8813 - val_loss: 0.3406 - val_accuracy: 0.8825\n",
      "Epoch 3/10\n",
      "92/95 [============================>.] - ETA: 0s - loss: 0.2938 - accuracy: 0.8963\n",
      "Epoch 3: val_accuracy improved from 0.88251 to 0.88271, saving model to rnn_tfidf_ft_akting.h5\n",
      "95/95 [==============================] - 1s 7ms/step - loss: 0.2950 - accuracy: 0.8956 - val_loss: 0.3351 - val_accuracy: 0.8827\n",
      "Epoch 4/10\n",
      "91/95 [===========================>..] - ETA: 0s - loss: 0.2531 - accuracy: 0.9111\n",
      "Epoch 4: val_accuracy improved from 0.88271 to 0.88676, saving model to rnn_tfidf_ft_akting.h5\n",
      "95/95 [==============================] - 1s 7ms/step - loss: 0.2544 - accuracy: 0.9105 - val_loss: 0.3399 - val_accuracy: 0.8868\n",
      "Epoch 5/10\n",
      "92/95 [============================>.] - ETA: 0s - loss: 0.2071 - accuracy: 0.9301\n",
      "Epoch 5: val_accuracy improved from 0.88676 to 0.88831, saving model to rnn_tfidf_ft_akting.h5\n",
      "95/95 [==============================] - 1s 7ms/step - loss: 0.2065 - accuracy: 0.9299 - val_loss: 0.3587 - val_accuracy: 0.8883\n",
      "Epoch 6/10\n",
      "91/95 [===========================>..] - ETA: 0s - loss: 0.1560 - accuracy: 0.9490\n",
      "Epoch 6: val_accuracy did not improve from 0.88831\n",
      "95/95 [==============================] - 1s 6ms/step - loss: 0.1560 - accuracy: 0.9491 - val_loss: 0.3827 - val_accuracy: 0.8727\n",
      "Epoch 6: early stopping\n",
      "162/162 [==============================] - 1s 4ms/step\n",
      "              precision    recall  f1-score   support\n",
      "\n",
      "           0       0.51      0.12      0.19       171\n",
      "           1       0.92      0.97      0.94      4132\n",
      "           2       0.75      0.67      0.71       872\n",
      "\n",
      "    accuracy                           0.89      5175\n",
      "   macro avg       0.73      0.59      0.61      5175\n",
      "weighted avg       0.88      0.89      0.88      5175\n",
      "\n",
      "F1 Score :  0.6137602482112778\n",
      "Precision :  0.7271208589390407\n",
      "Recall :  0.5852527591501309\n",
      "Accuracy :  0.8883091787439613\n"
     ]
    }
   ],
   "source": [
    "hasil = []\n",
    "\n",
    "for i in range(1, 6):\n",
    "    hasil.append([str(i)] + RNN(x_train, y_train, x_test, y_test))"
   ]
  },
  {
   "cell_type": "markdown",
   "id": "fca41e89",
   "metadata": {},
   "source": [
    "# Save Output"
   ]
  },
  {
   "cell_type": "code",
   "execution_count": 12,
   "id": "5bf3ea00",
   "metadata": {},
   "outputs": [
    {
     "data": {
      "text/html": [
       "<div>\n",
       "<style scoped>\n",
       "    .dataframe tbody tr th:only-of-type {\n",
       "        vertical-align: middle;\n",
       "    }\n",
       "\n",
       "    .dataframe tbody tr th {\n",
       "        vertical-align: top;\n",
       "    }\n",
       "\n",
       "    .dataframe thead th {\n",
       "        text-align: right;\n",
       "    }\n",
       "</style>\n",
       "<table border=\"1\" class=\"dataframe\">\n",
       "  <thead>\n",
       "    <tr style=\"text-align: right;\">\n",
       "      <th></th>\n",
       "      <th>iterasi</th>\n",
       "      <th>f1</th>\n",
       "      <th>precision</th>\n",
       "      <th>recall</th>\n",
       "      <th>accuracy</th>\n",
       "      <th>cm</th>\n",
       "    </tr>\n",
       "  </thead>\n",
       "  <tbody>\n",
       "    <tr>\n",
       "      <th>0</th>\n",
       "      <td>1</td>\n",
       "      <td>0.620997</td>\n",
       "      <td>0.702376</td>\n",
       "      <td>0.593526</td>\n",
       "      <td>0.885024</td>\n",
       "      <td>[[25, 84, 62], [14, 3967, 151], [16, 268, 588]]</td>\n",
       "    </tr>\n",
       "    <tr>\n",
       "      <th>1</th>\n",
       "      <td>2</td>\n",
       "      <td>0.614680</td>\n",
       "      <td>0.726127</td>\n",
       "      <td>0.573078</td>\n",
       "      <td>0.884444</td>\n",
       "      <td>[[25, 97, 49], [16, 4031, 85], [11, 340, 521]]</td>\n",
       "    </tr>\n",
       "    <tr>\n",
       "      <th>2</th>\n",
       "      <td>3</td>\n",
       "      <td>0.612390</td>\n",
       "      <td>0.784362</td>\n",
       "      <td>0.574757</td>\n",
       "      <td>0.887729</td>\n",
       "      <td>[[20, 99, 52], [7, 4021, 104], [3, 316, 553]]</td>\n",
       "    </tr>\n",
       "    <tr>\n",
       "      <th>3</th>\n",
       "      <td>4</td>\n",
       "      <td>0.599842</td>\n",
       "      <td>0.734577</td>\n",
       "      <td>0.579244</td>\n",
       "      <td>0.886184</td>\n",
       "      <td>[[15, 88, 68], [8, 3970, 154], [4, 267, 601]]</td>\n",
       "    </tr>\n",
       "    <tr>\n",
       "      <th>4</th>\n",
       "      <td>5</td>\n",
       "      <td>0.613760</td>\n",
       "      <td>0.727121</td>\n",
       "      <td>0.585253</td>\n",
       "      <td>0.888309</td>\n",
       "      <td>[[20, 90, 61], [10, 3990, 132], [9, 276, 587]]</td>\n",
       "    </tr>\n",
       "  </tbody>\n",
       "</table>\n",
       "</div>"
      ],
      "text/plain": [
       "  iterasi        f1  precision    recall  accuracy  \\\n",
       "0       1  0.620997   0.702376  0.593526  0.885024   \n",
       "1       2  0.614680   0.726127  0.573078  0.884444   \n",
       "2       3  0.612390   0.784362  0.574757  0.887729   \n",
       "3       4  0.599842   0.734577  0.579244  0.886184   \n",
       "4       5  0.613760   0.727121  0.585253  0.888309   \n",
       "\n",
       "                                                cm  \n",
       "0  [[25, 84, 62], [14, 3967, 151], [16, 268, 588]]  \n",
       "1   [[25, 97, 49], [16, 4031, 85], [11, 340, 521]]  \n",
       "2    [[20, 99, 52], [7, 4021, 104], [3, 316, 553]]  \n",
       "3    [[15, 88, 68], [8, 3970, 154], [4, 267, 601]]  \n",
       "4   [[20, 90, 61], [10, 3990, 132], [9, 276, 587]]  "
      ]
     },
     "execution_count": 12,
     "metadata": {},
     "output_type": "execute_result"
    }
   ],
   "source": [
    "df = pd.DataFrame(hasil, columns =['iterasi', 'f1', 'precision', 'recall', 'accuracy', 'cm'])\n",
    "#df.to_excel('rnn_tfidf_ft_akting.xlsx')\n",
    "df.head()"
   ]
  },
  {
   "cell_type": "code",
   "execution_count": 13,
   "id": "25324e42",
   "metadata": {},
   "outputs": [
    {
     "name": "stdout",
     "output_type": "stream",
     "text": [
      "Accuracy : 88.63\n",
      "F1-Score : 61.23\n"
     ]
    }
   ],
   "source": [
    "print(\"Accuracy : %.2f\" % (df['accuracy'].mean()*100))\n",
    "print(\"F1-Score : %.2f\" % (df['f1'].mean()*100))"
   ]
  }
 ],
 "metadata": {
  "kernelspec": {
   "display_name": "Python 3 (ipykernel)",
   "language": "python",
   "name": "python3"
  },
  "language_info": {
   "codemirror_mode": {
    "name": "ipython",
    "version": 3
   },
   "file_extension": ".py",
   "mimetype": "text/x-python",
   "name": "python",
   "nbconvert_exporter": "python",
   "pygments_lexer": "ipython3",
   "version": "3.10.9"
  }
 },
 "nbformat": 4,
 "nbformat_minor": 5
}
