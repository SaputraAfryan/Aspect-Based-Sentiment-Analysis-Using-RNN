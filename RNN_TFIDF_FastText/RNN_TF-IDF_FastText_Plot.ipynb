{
 "cells": [
  {
   "cell_type": "markdown",
   "id": "952a8e9a",
   "metadata": {},
   "source": [
    "# Library"
   ]
  },
  {
   "cell_type": "code",
   "execution_count": 1,
   "id": "db7d2b33",
   "metadata": {},
   "outputs": [],
   "source": [
    "import numpy as np\n",
    "import pandas as pd\n",
    "from tqdm import tqdm\n",
    "from gensim.models import FastText\n",
    "\n",
    "from sklearn.preprocessing import LabelEncoder\n",
    "from sklearn.model_selection import train_test_split\n",
    "from sklearn.feature_extraction.text import TfidfVectorizer\n",
    "from sklearn.metrics import classification_report, confusion_matrix, accuracy_score, precision_score, recall_score, f1_score\n",
    "\n",
    "from keras.utils.np_utils import to_categorical\n",
    "from keras.models import load_model, Model, Sequential\n",
    "from keras.callbacks import EarlyStopping, ModelCheckpoint\n",
    "from keras.layers import Dense, Embedding, SimpleRNN, Dropout\n",
    "\n",
    "import tensorflow as tf\n",
    "from tensorflow.keras.preprocessing.text import Tokenizer\n",
    "from tensorflow.keras.preprocessing.sequence import pad_sequences"
   ]
  },
  {
   "cell_type": "markdown",
   "id": "51221a6e",
   "metadata": {},
   "source": [
    "# Preprocessing\n",
    "### Load Data"
   ]
  },
  {
   "cell_type": "code",
   "execution_count": 2,
   "id": "39a1552b",
   "metadata": {},
   "outputs": [
    {
     "data": {
      "text/html": [
       "<div>\n",
       "<style scoped>\n",
       "    .dataframe tbody tr th:only-of-type {\n",
       "        vertical-align: middle;\n",
       "    }\n",
       "\n",
       "    .dataframe tbody tr th {\n",
       "        vertical-align: top;\n",
       "    }\n",
       "\n",
       "    .dataframe thead th {\n",
       "        text-align: right;\n",
       "    }\n",
       "</style>\n",
       "<table border=\"1\" class=\"dataframe\">\n",
       "  <thead>\n",
       "    <tr style=\"text-align: right;\">\n",
       "      <th></th>\n",
       "      <th>detokenize</th>\n",
       "      <th>plot</th>\n",
       "    </tr>\n",
       "  </thead>\n",
       "  <tbody>\n",
       "    <tr>\n",
       "      <th>0</th>\n",
       "      <td>the desperate hour lakewood salah cerita suara...</td>\n",
       "      <td>1</td>\n",
       "    </tr>\n",
       "    <tr>\n",
       "      <th>1</th>\n",
       "      <td>edisi males review singkat tonton libur dp des...</td>\n",
       "      <td>1</td>\n",
       "    </tr>\n",
       "    <tr>\n",
       "      <th>2</th>\n",
       "      <td>plot utama orang deserter pursuit buru wamil j...</td>\n",
       "      <td>1</td>\n",
       "    </tr>\n",
       "    <tr>\n",
       "      <th>3</th>\n",
       "      <td>film hereditary horror thrill midsommar gatau ...</td>\n",
       "      <td>0</td>\n",
       "    </tr>\n",
       "    <tr>\n",
       "      <th>4</th>\n",
       "      <td>batman manusiawi tarung nya sadis scene pursui...</td>\n",
       "      <td>1</td>\n",
       "    </tr>\n",
       "  </tbody>\n",
       "</table>\n",
       "</div>"
      ],
      "text/plain": [
       "                                          detokenize  plot\n",
       "0  the desperate hour lakewood salah cerita suara...     1\n",
       "1  edisi males review singkat tonton libur dp des...     1\n",
       "2  plot utama orang deserter pursuit buru wamil j...     1\n",
       "3  film hereditary horror thrill midsommar gatau ...     0\n",
       "4  batman manusiawi tarung nya sadis scene pursui...     1"
      ]
     },
     "execution_count": 2,
     "metadata": {},
     "output_type": "execute_result"
    }
   ],
   "source": [
    "df = pd.read_pickle('preprocessed_df.pkl')\n",
    "df = pd.DataFrame(df[['detokenize','plot']])\n",
    "df.head()"
   ]
  },
  {
   "cell_type": "code",
   "execution_count": 3,
   "id": "ce595ce1",
   "metadata": {},
   "outputs": [],
   "source": [
    "reviews = df['detokenize'].astype(str)\n",
    "label = pd.get_dummies(df['plot']).values"
   ]
  },
  {
   "cell_type": "markdown",
   "id": "12ff6732",
   "metadata": {},
   "source": [
    "# Variables"
   ]
  },
  {
   "cell_type": "code",
   "execution_count": 4,
   "id": "46d427b6",
   "metadata": {},
   "outputs": [],
   "source": [
    "MAX_FEATURES = 10000\n",
    "test_size_split = 0.1"
   ]
  },
  {
   "cell_type": "markdown",
   "id": "83e39ee4",
   "metadata": {},
   "source": [
    "# Split Data"
   ]
  },
  {
   "cell_type": "code",
   "execution_count": 5,
   "id": "3a3db659",
   "metadata": {},
   "outputs": [
    {
     "name": "stdout",
     "output_type": "stream",
     "text": [
      "Train\t| X shape: (15522,)\tY shape: (15522, 3)\n",
      "Test\t| X shape: (1725,)\tY shape: (1725, 3)\n"
     ]
    }
   ],
   "source": [
    "x_train, x_test, y_train, y_test = (\n",
    "    train_test_split(reviews, \n",
    "                     label, \n",
    "                     test_size=test_size_split, \n",
    "                     stratify = label, \n",
    "                     random_state=42)\n",
    ")\n",
    "\n",
    "print(f'Train\\t| X shape: {x_train.shape}\\tY shape: {y_train.shape}')\n",
    "print(f'Test\\t| X shape: {x_test.shape}\\tY shape: {y_test.shape}')"
   ]
  },
  {
   "cell_type": "markdown",
   "id": "daee34c2",
   "metadata": {},
   "source": [
    "# Feature Extraction"
   ]
  },
  {
   "cell_type": "code",
   "execution_count": 6,
   "id": "88442453",
   "metadata": {},
   "outputs": [],
   "source": [
    "vectorizer = TfidfVectorizer(ngram_range=(1,2), max_features = MAX_FEATURES)\n",
    "vectorizer.fit(x_train)\n",
    "\n",
    "x_train_tfidf = vectorizer.fit_transform(x_train).todense()\n",
    "x_test_tfidf = vectorizer.transform(x_test).todense()"
   ]
  },
  {
   "cell_type": "markdown",
   "id": "abd73835",
   "metadata": {},
   "source": [
    "# Feature Expansion"
   ]
  },
  {
   "cell_type": "code",
   "execution_count": 7,
   "id": "eeab2aeb",
   "metadata": {},
   "outputs": [],
   "source": [
    "# Load trained fasttext model\n",
    "model_exp = FastText.load('fasttext_news.model').wv"
   ]
  },
  {
   "cell_type": "code",
   "execution_count": 8,
   "id": "58fcc6ef",
   "metadata": {},
   "outputs": [],
   "source": [
    "def feature_expansion(df,feature):\n",
    "    for col in tqdm(df.columns): #loop per kolom\n",
    "        try: \n",
    "            sim_word = model_exp.similar_by_word(col, topn = 20) #Mencari similarity berdasarkan nilai n\n",
    "        except:\n",
    "            sim_word = []\n",
    "        if sim_word != []: #jika similarity tidak kosong\n",
    "            for term in [sim_word[i][0] for i in range(len(sim_word))]: #loop per-word yang ada di Similarity\n",
    "                if term in feature:\n",
    "                    #untuk semua kolom yang mempunyai nilai 0 di kolom, tetapi mempunyai nilai yang bukan 0 pada kolom term\n",
    "                    #nilainya diganti dengan nilai kolom term yang mempunyai nilai bukan 0\n",
    "                    df[col][(df[col]==0) & (df[term]!=0)] = df[term][(df[col]==0) & (df[term]!=0)]\n",
    "    return df"
   ]
  },
  {
   "cell_type": "code",
   "execution_count": 9,
   "id": "7880df21",
   "metadata": {},
   "outputs": [
    {
     "name": "stderr",
     "output_type": "stream",
     "text": [
      "100%|████████████████████████████████████████████████████████████████████████████| 10000/10000 [07:25<00:00, 22.45it/s]\n",
      "100%|████████████████████████████████████████████████████████████████████████████| 10000/10000 [05:23<00:00, 30.88it/s]\n"
     ]
    }
   ],
   "source": [
    "feature_ext = vectorizer.get_feature_names_out()\n",
    "\n",
    "df_x_train = pd.DataFrame(x_train_tfidf, columns= feature_ext)\n",
    "df_x_test = pd.DataFrame(x_test_tfidf, columns= feature_ext)\n",
    "\n",
    "df_exp_x_train = feature_expansion(df_x_train, feature_ext)\n",
    "df_exp_x_test = feature_expansion(df_x_test, feature_ext)\n",
    "\n",
    "x_train = np.expand_dims(df_exp_x_train, 1)\n",
    "x_test = np.expand_dims(df_exp_x_test, 1)"
   ]
  },
  {
   "cell_type": "markdown",
   "id": "0f45e08d",
   "metadata": {},
   "source": [
    "# Model RNN"
   ]
  },
  {
   "cell_type": "code",
   "execution_count": 10,
   "id": "4f1135a4",
   "metadata": {},
   "outputs": [],
   "source": [
    "def RNN(x_train_c, y_train_c, x_test_c, y_test_c):\n",
    "    rnn = Sequential()\n",
    "    rnn.add(SimpleRNN(units=256, activation='relu', recurrent_dropout=0.2, return_sequences=True))\n",
    "    rnn.add(Dropout(0.2))\n",
    "    rnn.add(SimpleRNN(units=128, activation='relu', return_sequences=True))\n",
    "    rnn.add(Dropout(0.2))\n",
    "    rnn.add(SimpleRNN(units=64, activation='relu'))\n",
    "    rnn.add(Dropout(0.2))\n",
    "    rnn.add(Dense(units=3, activation='softmax'))\n",
    "    \n",
    "    rnn.compile(loss='categorical_crossentropy', optimizer='adam', metrics=['accuracy'])\n",
    "    \n",
    "    rnn.build(x_train_c.shape)\n",
    "    \n",
    "    early_stopping = EarlyStopping(monitor='val_loss', mode = 'min', verbose = 1, patience=3, min_delta=0.0001)\n",
    "    model_checkpoint = ModelCheckpoint('rnn_tfidf_ft_plot.h5', monitor = 'val_accuracy', mode = 'max', verbose = 1, save_best_only = True)\n",
    "    \n",
    "    history = rnn.fit(x_train_c, y_train_c, epochs= 10, batch_size=128, \n",
    "                      validation_data=(x_test_c, y_test_c), verbose = 1,\n",
    "                      callbacks=[early_stopping, model_checkpoint])\n",
    "    \n",
    "    model = load_model('rnn_tfidf_ft_plot.h5')\n",
    "    y_pred = model.predict(x_test_c)\n",
    "    y_pred_cat = y_pred.argmax(axis=1)\n",
    "    y_test_cat = np.argmax(y_test_c, axis=1)\n",
    "   \n",
    "    cm = confusion_matrix(y_test_cat, y_pred_cat)\n",
    "    classreport = classification_report(y_test_cat, y_pred_cat)\n",
    "    f1 = f1_score(y_test_cat, y_pred_cat,  average=\"macro\")\n",
    "    recall = recall_score(y_test_cat, y_pred_cat, average=\"macro\")\n",
    "    precision = precision_score(y_test_cat, y_pred_cat, average=\"macro\")\n",
    "    accuracy = accuracy_score(y_test_cat, y_pred_cat)\n",
    "\n",
    "    print(classreport)\n",
    "    print(\"F1 Score : \", f1)\n",
    "    print(\"Precision : \", precision)\n",
    "    print(\"Recall : \", recall)\n",
    "    print(\"Accuracy : \", accuracy)\n",
    "\n",
    "    return [f1, precision, recall, accuracy, cm]"
   ]
  },
  {
   "cell_type": "markdown",
   "id": "e2d00b03",
   "metadata": {},
   "source": [
    "# Running"
   ]
  },
  {
   "cell_type": "code",
   "execution_count": 11,
   "id": "3e1c419c",
   "metadata": {},
   "outputs": [
    {
     "name": "stdout",
     "output_type": "stream",
     "text": [
      "Epoch 1/10\n",
      "121/122 [============================>.] - ETA: 0s - loss: 0.8941 - accuracy: 0.5845\n",
      "Epoch 1: val_accuracy improved from -inf to 0.66261, saving model to rnn_tfidf_ft_plot.h5\n",
      "122/122 [==============================] - 21s 66ms/step - loss: 0.8938 - accuracy: 0.5848 - val_loss: 0.7853 - val_accuracy: 0.6626\n",
      "Epoch 2/10\n",
      "122/122 [==============================] - ETA: 0s - loss: 0.7327 - accuracy: 0.6873\n",
      "Epoch 2: val_accuracy improved from 0.66261 to 0.68232, saving model to rnn_tfidf_ft_plot.h5\n",
      "122/122 [==============================] - 6s 52ms/step - loss: 0.7327 - accuracy: 0.6873 - val_loss: 0.7423 - val_accuracy: 0.6823\n",
      "Epoch 3/10\n",
      "121/122 [============================>.] - ETA: 0s - loss: 0.6502 - accuracy: 0.7298\n",
      "Epoch 3: val_accuracy did not improve from 0.68232\n",
      "122/122 [==============================] - 5s 41ms/step - loss: 0.6499 - accuracy: 0.7300 - val_loss: 0.7773 - val_accuracy: 0.6690\n",
      "Epoch 4/10\n",
      "121/122 [============================>.] - ETA: 0s - loss: 0.5733 - accuracy: 0.7656\n",
      "Epoch 4: val_accuracy did not improve from 0.68232\n",
      "122/122 [==============================] - 5s 40ms/step - loss: 0.5732 - accuracy: 0.7656 - val_loss: 0.7683 - val_accuracy: 0.6806\n",
      "Epoch 5/10\n",
      "121/122 [============================>.] - ETA: 0s - loss: 0.4861 - accuracy: 0.8056\n",
      "Epoch 5: val_accuracy did not improve from 0.68232\n",
      "122/122 [==============================] - 4s 36ms/step - loss: 0.4861 - accuracy: 0.8056 - val_loss: 0.8300 - val_accuracy: 0.6771\n",
      "Epoch 5: early stopping\n",
      "54/54 [==============================] - 2s 9ms/step\n",
      "              precision    recall  f1-score   support\n",
      "\n",
      "           0       0.69      0.45      0.55       368\n",
      "           1       0.69      0.72      0.70       657\n",
      "           2       0.68      0.77      0.72       700\n",
      "\n",
      "    accuracy                           0.68      1725\n",
      "   macro avg       0.68      0.65      0.66      1725\n",
      "weighted avg       0.68      0.68      0.68      1725\n",
      "\n",
      "F1 Score :  0.6563542023821712\n",
      "Precision :  0.6843192128945988\n",
      "Recall :  0.6468997749983456\n",
      "Accuracy :  0.6823188405797102\n",
      "Epoch 1/10\n",
      "122/122 [==============================] - ETA: 0s - loss: 0.8910 - accuracy: 0.5868\n",
      "Epoch 1: val_accuracy improved from -inf to 0.67768, saving model to rnn_tfidf_ft_plot.h5\n",
      "122/122 [==============================] - 19s 68ms/step - loss: 0.8910 - accuracy: 0.5868 - val_loss: 0.7813 - val_accuracy: 0.6777\n",
      "Epoch 2/10\n",
      "121/122 [============================>.] - ETA: 0s - loss: 0.7314 - accuracy: 0.6885\n",
      "Epoch 2: val_accuracy improved from 0.67768 to 0.68290, saving model to rnn_tfidf_ft_plot.h5\n",
      "122/122 [==============================] - 6s 51ms/step - loss: 0.7322 - accuracy: 0.6881 - val_loss: 0.7511 - val_accuracy: 0.6829\n",
      "Epoch 3/10\n",
      "121/122 [============================>.] - ETA: 0s - loss: 0.6479 - accuracy: 0.7307\n",
      "Epoch 3: val_accuracy improved from 0.68290 to 0.68928, saving model to rnn_tfidf_ft_plot.h5\n",
      "122/122 [==============================] - 4s 36ms/step - loss: 0.6485 - accuracy: 0.7306 - val_loss: 0.7417 - val_accuracy: 0.6893\n",
      "Epoch 4/10\n",
      "121/122 [============================>.] - ETA: 0s - loss: 0.5724 - accuracy: 0.7678\n",
      "Epoch 4: val_accuracy improved from 0.68928 to 0.69449, saving model to rnn_tfidf_ft_plot.h5\n",
      "122/122 [==============================] - 4s 36ms/step - loss: 0.5725 - accuracy: 0.7677 - val_loss: 0.7580 - val_accuracy: 0.6945\n",
      "Epoch 5/10\n",
      "121/122 [============================>.] - ETA: 0s - loss: 0.4943 - accuracy: 0.8037\n",
      "Epoch 5: val_accuracy did not improve from 0.69449\n",
      "122/122 [==============================] - 4s 33ms/step - loss: 0.4947 - accuracy: 0.8036 - val_loss: 0.8082 - val_accuracy: 0.6881\n",
      "Epoch 6/10\n",
      "122/122 [==============================] - ETA: 0s - loss: 0.4236 - accuracy: 0.8371\n",
      "Epoch 6: val_accuracy did not improve from 0.69449\n",
      "122/122 [==============================] - 4s 37ms/step - loss: 0.4236 - accuracy: 0.8371 - val_loss: 0.9089 - val_accuracy: 0.6632\n",
      "Epoch 6: early stopping\n",
      "54/54 [==============================] - 2s 12ms/step\n",
      "              precision    recall  f1-score   support\n",
      "\n",
      "           0       0.62      0.57      0.60       368\n",
      "           1       0.71      0.74      0.73       657\n",
      "           2       0.71      0.71      0.71       700\n",
      "\n",
      "    accuracy                           0.69      1725\n",
      "   macro avg       0.68      0.68      0.68      1725\n",
      "weighted avg       0.69      0.69      0.69      1725\n",
      "\n",
      "F1 Score :  0.6789385750114603\n",
      "Precision :  0.6824954041553232\n",
      "Recall :  0.676301125638529\n",
      "Accuracy :  0.6944927536231884\n",
      "Epoch 1/10\n",
      "122/122 [==============================] - ETA: 0s - loss: 0.8914 - accuracy: 0.5894\n",
      "Epoch 1: val_accuracy improved from -inf to 0.66841, saving model to rnn_tfidf_ft_plot.h5\n",
      "122/122 [==============================] - 21s 69ms/step - loss: 0.8914 - accuracy: 0.5894 - val_loss: 0.7848 - val_accuracy: 0.6684\n",
      "Epoch 2/10\n",
      "120/122 [============================>.] - ETA: 0s - loss: 0.7365 - accuracy: 0.6857\n",
      "Epoch 2: val_accuracy improved from 0.66841 to 0.67420, saving model to rnn_tfidf_ft_plot.h5\n",
      "122/122 [==============================] - 4s 34ms/step - loss: 0.7370 - accuracy: 0.6854 - val_loss: 0.7663 - val_accuracy: 0.6742\n",
      "Epoch 3/10\n",
      "121/122 [============================>.] - ETA: 0s - loss: 0.6518 - accuracy: 0.7283\n",
      "Epoch 3: val_accuracy improved from 0.67420 to 0.67594, saving model to rnn_tfidf_ft_plot.h5\n",
      "122/122 [==============================] - 3s 28ms/step - loss: 0.6516 - accuracy: 0.7284 - val_loss: 0.7438 - val_accuracy: 0.6759\n",
      "Epoch 4/10\n",
      "121/122 [============================>.] - ETA: 0s - loss: 0.5727 - accuracy: 0.7703\n",
      "Epoch 4: val_accuracy improved from 0.67594 to 0.67652, saving model to rnn_tfidf_ft_plot.h5\n",
      "122/122 [==============================] - 4s 30ms/step - loss: 0.5724 - accuracy: 0.7704 - val_loss: 0.7620 - val_accuracy: 0.6765\n",
      "Epoch 5/10\n",
      "121/122 [============================>.] - ETA: 0s - loss: 0.4961 - accuracy: 0.8028\n",
      "Epoch 5: val_accuracy improved from 0.67652 to 0.68232, saving model to rnn_tfidf_ft_plot.h5\n",
      "122/122 [==============================] - 4s 29ms/step - loss: 0.4958 - accuracy: 0.8029 - val_loss: 0.8420 - val_accuracy: 0.6823\n",
      "Epoch 6/10\n",
      "121/122 [============================>.] - ETA: 0s - loss: 0.4232 - accuracy: 0.8359\n",
      "Epoch 6: val_accuracy improved from 0.68232 to 0.68522, saving model to rnn_tfidf_ft_plot.h5\n",
      "122/122 [==============================] - 4s 33ms/step - loss: 0.4231 - accuracy: 0.8359 - val_loss: 0.9059 - val_accuracy: 0.6852\n",
      "Epoch 6: early stopping\n",
      "54/54 [==============================] - 1s 6ms/step\n",
      "              precision    recall  f1-score   support\n",
      "\n",
      "           0       0.63      0.49      0.55       368\n",
      "           1       0.70      0.72      0.71       657\n",
      "           2       0.69      0.76      0.72       700\n",
      "\n",
      "    accuracy                           0.69      1725\n",
      "   macro avg       0.68      0.66      0.66      1725\n",
      "weighted avg       0.68      0.69      0.68      1725\n",
      "\n",
      "F1 Score :  0.6616362112125039\n",
      "Precision :  0.6750586335152612\n",
      "Recall :  0.6552640539373713\n",
      "Accuracy :  0.6852173913043478\n",
      "Epoch 1/10\n",
      "120/122 [============================>.] - ETA: 0s - loss: 0.8966 - accuracy: 0.5843\n",
      "Epoch 1: val_accuracy improved from -inf to 0.66087, saving model to rnn_tfidf_ft_plot.h5\n",
      "122/122 [==============================] - 11s 37ms/step - loss: 0.8956 - accuracy: 0.5848 - val_loss: 0.7887 - val_accuracy: 0.6609\n",
      "Epoch 2/10\n",
      "120/122 [============================>.] - ETA: 0s - loss: 0.7351 - accuracy: 0.6850\n",
      "Epoch 2: val_accuracy improved from 0.66087 to 0.67594, saving model to rnn_tfidf_ft_plot.h5\n",
      "122/122 [==============================] - 4s 32ms/step - loss: 0.7346 - accuracy: 0.6850 - val_loss: 0.7579 - val_accuracy: 0.6759\n",
      "Epoch 3/10\n",
      "120/122 [============================>.] - ETA: 0s - loss: 0.6448 - accuracy: 0.7343\n",
      "Epoch 3: val_accuracy improved from 0.67594 to 0.67768, saving model to rnn_tfidf_ft_plot.h5\n",
      "122/122 [==============================] - 4s 30ms/step - loss: 0.6448 - accuracy: 0.7342 - val_loss: 0.7418 - val_accuracy: 0.6777\n",
      "Epoch 4/10\n",
      "121/122 [============================>.] - ETA: 0s - loss: 0.5730 - accuracy: 0.7685\n",
      "Epoch 4: val_accuracy did not improve from 0.67768\n",
      "122/122 [==============================] - 4s 29ms/step - loss: 0.5727 - accuracy: 0.7687 - val_loss: 0.7701 - val_accuracy: 0.6725\n"
     ]
    },
    {
     "name": "stdout",
     "output_type": "stream",
     "text": [
      "Epoch 5/10\n",
      "121/122 [============================>.] - ETA: 0s - loss: 0.4978 - accuracy: 0.8000\n",
      "Epoch 5: val_accuracy improved from 0.67768 to 0.68464, saving model to rnn_tfidf_ft_plot.h5\n",
      "122/122 [==============================] - 3s 27ms/step - loss: 0.4978 - accuracy: 0.7999 - val_loss: 0.8169 - val_accuracy: 0.6846\n",
      "Epoch 6/10\n",
      "120/122 [============================>.] - ETA: 0s - loss: 0.4192 - accuracy: 0.8396\n",
      "Epoch 6: val_accuracy did not improve from 0.68464\n",
      "122/122 [==============================] - 3s 28ms/step - loss: 0.4189 - accuracy: 0.8397 - val_loss: 0.8513 - val_accuracy: 0.6765\n",
      "Epoch 6: early stopping\n",
      "54/54 [==============================] - 1s 6ms/step\n",
      "              precision    recall  f1-score   support\n",
      "\n",
      "           0       0.60      0.62      0.61       368\n",
      "           1       0.74      0.68      0.71       657\n",
      "           2       0.69      0.73      0.71       700\n",
      "\n",
      "    accuracy                           0.68      1725\n",
      "   macro avg       0.67      0.67      0.67      1725\n",
      "weighted avg       0.69      0.68      0.69      1725\n",
      "\n",
      "F1 Score :  0.6732555502410976\n",
      "Precision :  0.6735809040983116\n",
      "Recall :  0.6742002199596007\n",
      "Accuracy :  0.6846376811594203\n",
      "Epoch 1/10\n",
      "122/122 [==============================] - ETA: 0s - loss: 0.8972 - accuracy: 0.5794\n",
      "Epoch 1: val_accuracy improved from -inf to 0.67478, saving model to rnn_tfidf_ft_plot.h5\n",
      "122/122 [==============================] - 10s 36ms/step - loss: 0.8972 - accuracy: 0.5794 - val_loss: 0.7716 - val_accuracy: 0.6748\n",
      "Epoch 2/10\n",
      "122/122 [==============================] - ETA: 0s - loss: 0.7356 - accuracy: 0.6831\n",
      "Epoch 2: val_accuracy did not improve from 0.67478\n",
      "122/122 [==============================] - 3s 26ms/step - loss: 0.7356 - accuracy: 0.6831 - val_loss: 0.7596 - val_accuracy: 0.6742\n",
      "Epoch 3/10\n",
      "121/122 [============================>.] - ETA: 0s - loss: 0.6493 - accuracy: 0.7297\n",
      "Epoch 3: val_accuracy improved from 0.67478 to 0.67884, saving model to rnn_tfidf_ft_plot.h5\n",
      "122/122 [==============================] - 3s 27ms/step - loss: 0.6495 - accuracy: 0.7297 - val_loss: 0.7416 - val_accuracy: 0.6788\n",
      "Epoch 4/10\n",
      "121/122 [============================>.] - ETA: 0s - loss: 0.5742 - accuracy: 0.7674\n",
      "Epoch 4: val_accuracy improved from 0.67884 to 0.68174, saving model to rnn_tfidf_ft_plot.h5\n",
      "122/122 [==============================] - 3s 27ms/step - loss: 0.5743 - accuracy: 0.7674 - val_loss: 0.7539 - val_accuracy: 0.6817\n",
      "Epoch 5/10\n",
      "121/122 [============================>.] - ETA: 0s - loss: 0.4936 - accuracy: 0.8018\n",
      "Epoch 5: val_accuracy improved from 0.68174 to 0.68870, saving model to rnn_tfidf_ft_plot.h5\n",
      "122/122 [==============================] - 4s 29ms/step - loss: 0.4939 - accuracy: 0.8019 - val_loss: 0.8054 - val_accuracy: 0.6887\n",
      "Epoch 6/10\n",
      "120/122 [============================>.] - ETA: 0s - loss: 0.4248 - accuracy: 0.8350\n",
      "Epoch 6: val_accuracy did not improve from 0.68870\n",
      "122/122 [==============================] - 3s 27ms/step - loss: 0.4242 - accuracy: 0.8351 - val_loss: 0.8576 - val_accuracy: 0.6777\n",
      "Epoch 6: early stopping\n",
      "54/54 [==============================] - 1s 13ms/step\n",
      "              precision    recall  f1-score   support\n",
      "\n",
      "           0       0.64      0.52      0.58       368\n",
      "           1       0.70      0.72      0.71       657\n",
      "           2       0.69      0.75      0.72       700\n",
      "\n",
      "    accuracy                           0.69      1725\n",
      "   macro avg       0.68      0.66      0.67      1725\n",
      "weighted avg       0.69      0.69      0.69      1725\n",
      "\n",
      "F1 Score :  0.6690667232835907\n",
      "Precision :  0.6802815716520928\n",
      "Recall :  0.6629092020634606\n",
      "Accuracy :  0.688695652173913\n"
     ]
    }
   ],
   "source": [
    "hasil = []\n",
    "\n",
    "for i in range(1, 6):\n",
    "    hasil.append([str(i)] + RNN(x_train, y_train, x_test, y_test))"
   ]
  },
  {
   "cell_type": "markdown",
   "id": "fca41e89",
   "metadata": {},
   "source": [
    "# Save Output"
   ]
  },
  {
   "cell_type": "code",
   "execution_count": 12,
   "id": "5bf3ea00",
   "metadata": {},
   "outputs": [
    {
     "data": {
      "text/html": [
       "<div>\n",
       "<style scoped>\n",
       "    .dataframe tbody tr th:only-of-type {\n",
       "        vertical-align: middle;\n",
       "    }\n",
       "\n",
       "    .dataframe tbody tr th {\n",
       "        vertical-align: top;\n",
       "    }\n",
       "\n",
       "    .dataframe thead th {\n",
       "        text-align: right;\n",
       "    }\n",
       "</style>\n",
       "<table border=\"1\" class=\"dataframe\">\n",
       "  <thead>\n",
       "    <tr style=\"text-align: right;\">\n",
       "      <th></th>\n",
       "      <th>iterasi</th>\n",
       "      <th>f1</th>\n",
       "      <th>precision</th>\n",
       "      <th>recall</th>\n",
       "      <th>accuracy</th>\n",
       "      <th>cm</th>\n",
       "    </tr>\n",
       "  </thead>\n",
       "  <tbody>\n",
       "    <tr>\n",
       "      <th>0</th>\n",
       "      <td>1</td>\n",
       "      <td>0.656354</td>\n",
       "      <td>0.684319</td>\n",
       "      <td>0.646900</td>\n",
       "      <td>0.682319</td>\n",
       "      <td>[[167, 89, 112], [40, 471, 146], [35, 126, 539]]</td>\n",
       "    </tr>\n",
       "    <tr>\n",
       "      <th>1</th>\n",
       "      <td>2</td>\n",
       "      <td>0.678939</td>\n",
       "      <td>0.682495</td>\n",
       "      <td>0.676301</td>\n",
       "      <td>0.694493</td>\n",
       "      <td>[[211, 70, 87], [54, 487, 116], [73, 127, 500]]</td>\n",
       "    </tr>\n",
       "    <tr>\n",
       "      <th>2</th>\n",
       "      <td>3</td>\n",
       "      <td>0.661636</td>\n",
       "      <td>0.675059</td>\n",
       "      <td>0.655264</td>\n",
       "      <td>0.685217</td>\n",
       "      <td>[[181, 90, 97], [44, 470, 143], [61, 108, 531]]</td>\n",
       "    </tr>\n",
       "    <tr>\n",
       "      <th>3</th>\n",
       "      <td>4</td>\n",
       "      <td>0.673256</td>\n",
       "      <td>0.673581</td>\n",
       "      <td>0.674200</td>\n",
       "      <td>0.684638</td>\n",
       "      <td>[[228, 60, 80], [62, 445, 150], [92, 100, 508]]</td>\n",
       "    </tr>\n",
       "    <tr>\n",
       "      <th>4</th>\n",
       "      <td>5</td>\n",
       "      <td>0.669067</td>\n",
       "      <td>0.680282</td>\n",
       "      <td>0.662909</td>\n",
       "      <td>0.688696</td>\n",
       "      <td>[[192, 85, 91], [44, 472, 141], [62, 114, 524]]</td>\n",
       "    </tr>\n",
       "  </tbody>\n",
       "</table>\n",
       "</div>"
      ],
      "text/plain": [
       "  iterasi        f1  precision    recall  accuracy  \\\n",
       "0       1  0.656354   0.684319  0.646900  0.682319   \n",
       "1       2  0.678939   0.682495  0.676301  0.694493   \n",
       "2       3  0.661636   0.675059  0.655264  0.685217   \n",
       "3       4  0.673256   0.673581  0.674200  0.684638   \n",
       "4       5  0.669067   0.680282  0.662909  0.688696   \n",
       "\n",
       "                                                 cm  \n",
       "0  [[167, 89, 112], [40, 471, 146], [35, 126, 539]]  \n",
       "1   [[211, 70, 87], [54, 487, 116], [73, 127, 500]]  \n",
       "2   [[181, 90, 97], [44, 470, 143], [61, 108, 531]]  \n",
       "3   [[228, 60, 80], [62, 445, 150], [92, 100, 508]]  \n",
       "4   [[192, 85, 91], [44, 472, 141], [62, 114, 524]]  "
      ]
     },
     "execution_count": 12,
     "metadata": {},
     "output_type": "execute_result"
    }
   ],
   "source": [
    "df = pd.DataFrame(hasil, columns =['iterasi', 'f1', 'precision', 'recall', 'accuracy', 'cm'])\n",
    "#df.to_excel('rnn_tfidf_ft_plot.xlsx')\n",
    "df.head()"
   ]
  },
  {
   "cell_type": "code",
   "execution_count": 13,
   "id": "60d5cb80",
   "metadata": {},
   "outputs": [
    {
     "name": "stdout",
     "output_type": "stream",
     "text": [
      "Accuracy : 68.71\n",
      "F1-Score : 66.79\n"
     ]
    }
   ],
   "source": [
    "print(\"Accuracy : %.2f\" % (df['accuracy'].mean()*100))\n",
    "print(\"F1-Score : %.2f\" % (df['f1'].mean()*100))"
   ]
  }
 ],
 "metadata": {
  "kernelspec": {
   "display_name": "Python 3 (ipykernel)",
   "language": "python",
   "name": "python3"
  },
  "language_info": {
   "codemirror_mode": {
    "name": "ipython",
    "version": 3
   },
   "file_extension": ".py",
   "mimetype": "text/x-python",
   "name": "python",
   "nbconvert_exporter": "python",
   "pygments_lexer": "ipython3",
   "version": "3.10.9"
  }
 },
 "nbformat": 4,
 "nbformat_minor": 5
}
