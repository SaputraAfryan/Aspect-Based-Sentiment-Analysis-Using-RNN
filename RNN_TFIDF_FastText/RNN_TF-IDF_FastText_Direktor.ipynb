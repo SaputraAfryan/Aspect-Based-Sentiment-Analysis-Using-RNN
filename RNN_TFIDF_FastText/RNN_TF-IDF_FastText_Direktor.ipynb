{
 "cells": [
  {
   "cell_type": "markdown",
   "id": "952a8e9a",
   "metadata": {},
   "source": [
    "# Library"
   ]
  },
  {
   "cell_type": "code",
   "execution_count": 1,
   "id": "db7d2b33",
   "metadata": {},
   "outputs": [],
   "source": [
    "import numpy as np\n",
    "import pandas as pd\n",
    "from tqdm import tqdm\n",
    "from gensim.models import FastText\n",
    "\n",
    "from sklearn.preprocessing import LabelEncoder\n",
    "from sklearn.model_selection import train_test_split\n",
    "from sklearn.feature_extraction.text import TfidfVectorizer\n",
    "from sklearn.metrics import classification_report, confusion_matrix, accuracy_score, precision_score, recall_score, f1_score\n",
    "\n",
    "from keras.utils.np_utils import to_categorical\n",
    "from keras.models import load_model, Model, Sequential\n",
    "from keras.callbacks import EarlyStopping, ModelCheckpoint\n",
    "from keras.layers import Dense, Embedding, SimpleRNN, Dropout\n",
    "\n",
    "import tensorflow as tf\n",
    "from tensorflow.keras.preprocessing.text import Tokenizer\n",
    "from tensorflow.keras.preprocessing.sequence import pad_sequences"
   ]
  },
  {
   "cell_type": "markdown",
   "id": "51221a6e",
   "metadata": {},
   "source": [
    "# Preprocessing\n",
    "### Load Data"
   ]
  },
  {
   "cell_type": "code",
   "execution_count": 2,
   "id": "39a1552b",
   "metadata": {},
   "outputs": [
    {
     "data": {
      "text/html": [
       "<div>\n",
       "<style scoped>\n",
       "    .dataframe tbody tr th:only-of-type {\n",
       "        vertical-align: middle;\n",
       "    }\n",
       "\n",
       "    .dataframe tbody tr th {\n",
       "        vertical-align: top;\n",
       "    }\n",
       "\n",
       "    .dataframe thead th {\n",
       "        text-align: right;\n",
       "    }\n",
       "</style>\n",
       "<table border=\"1\" class=\"dataframe\">\n",
       "  <thead>\n",
       "    <tr style=\"text-align: right;\">\n",
       "      <th></th>\n",
       "      <th>detokenize</th>\n",
       "      <th>direktor</th>\n",
       "    </tr>\n",
       "  </thead>\n",
       "  <tbody>\n",
       "    <tr>\n",
       "      <th>0</th>\n",
       "      <td>the desperate hour lakewood salah cerita suara...</td>\n",
       "      <td>1</td>\n",
       "    </tr>\n",
       "    <tr>\n",
       "      <th>1</th>\n",
       "      <td>edisi males review singkat tonton libur dp des...</td>\n",
       "      <td>0</td>\n",
       "    </tr>\n",
       "    <tr>\n",
       "      <th>2</th>\n",
       "      <td>plot utama orang deserter pursuit buru wamil j...</td>\n",
       "      <td>0</td>\n",
       "    </tr>\n",
       "    <tr>\n",
       "      <th>3</th>\n",
       "      <td>film hereditary horror thrill midsommar gatau ...</td>\n",
       "      <td>0</td>\n",
       "    </tr>\n",
       "    <tr>\n",
       "      <th>4</th>\n",
       "      <td>batman manusiawi tarung nya sadis scene pursui...</td>\n",
       "      <td>0</td>\n",
       "    </tr>\n",
       "  </tbody>\n",
       "</table>\n",
       "</div>"
      ],
      "text/plain": [
       "                                          detokenize  direktor\n",
       "0  the desperate hour lakewood salah cerita suara...         1\n",
       "1  edisi males review singkat tonton libur dp des...         0\n",
       "2  plot utama orang deserter pursuit buru wamil j...         0\n",
       "3  film hereditary horror thrill midsommar gatau ...         0\n",
       "4  batman manusiawi tarung nya sadis scene pursui...         0"
      ]
     },
     "execution_count": 2,
     "metadata": {},
     "output_type": "execute_result"
    }
   ],
   "source": [
    "df = pd.read_pickle('preprocessed_df.pkl')\n",
    "df = pd.DataFrame(df[['detokenize','direktor']])\n",
    "df.head()"
   ]
  },
  {
   "cell_type": "code",
   "execution_count": 3,
   "id": "ce595ce1",
   "metadata": {},
   "outputs": [],
   "source": [
    "reviews = df['detokenize'].astype(str)\n",
    "label = pd.get_dummies(df['direktor']).values"
   ]
  },
  {
   "cell_type": "markdown",
   "id": "12ff6732",
   "metadata": {},
   "source": [
    "# Variables"
   ]
  },
  {
   "cell_type": "code",
   "execution_count": 4,
   "id": "46d427b6",
   "metadata": {},
   "outputs": [],
   "source": [
    "MAX_FEATURES = 1000\n",
    "test_size_split = 0.2"
   ]
  },
  {
   "cell_type": "markdown",
   "id": "83e39ee4",
   "metadata": {},
   "source": [
    "# Split Data"
   ]
  },
  {
   "cell_type": "code",
   "execution_count": 5,
   "id": "3a3db659",
   "metadata": {},
   "outputs": [
    {
     "name": "stdout",
     "output_type": "stream",
     "text": [
      "Train\t| X shape: (13797,)\tY shape: (13797, 3)\n",
      "Test\t| X shape: (3450,)\tY shape: (3450, 3)\n"
     ]
    }
   ],
   "source": [
    "x_train, x_test, y_train, y_test = (\n",
    "    train_test_split(reviews, \n",
    "                     label, \n",
    "                     test_size=test_size_split, \n",
    "                     stratify = label, \n",
    "                     random_state=42)\n",
    ")\n",
    "\n",
    "print(f'Train\\t| X shape: {x_train.shape}\\tY shape: {y_train.shape}')\n",
    "print(f'Test\\t| X shape: {x_test.shape}\\tY shape: {y_test.shape}')"
   ]
  },
  {
   "cell_type": "markdown",
   "id": "daee34c2",
   "metadata": {},
   "source": [
    "# Feature Extraction"
   ]
  },
  {
   "cell_type": "code",
   "execution_count": 6,
   "id": "88442453",
   "metadata": {},
   "outputs": [],
   "source": [
    "vectorizer = TfidfVectorizer(ngram_range=(1,2), max_features = MAX_FEATURES)\n",
    "vectorizer.fit(x_train)\n",
    "\n",
    "x_train_tfidf = vectorizer.fit_transform(x_train).todense()\n",
    "x_test_tfidf = vectorizer.transform(x_test).todense()"
   ]
  },
  {
   "cell_type": "markdown",
   "id": "9c95ea34",
   "metadata": {},
   "source": [
    "# Feature Expansion"
   ]
  },
  {
   "cell_type": "code",
   "execution_count": 7,
   "id": "8d28e5ba",
   "metadata": {},
   "outputs": [],
   "source": [
    "# Load trained fasttext model\n",
    "model_exp = FastText.load('fasttext_news_tweet.model').wv"
   ]
  },
  {
   "cell_type": "code",
   "execution_count": 8,
   "id": "4cd37514",
   "metadata": {},
   "outputs": [],
   "source": [
    "def feature_expansion(df,feature):\n",
    "    for col in tqdm(df.columns): #loop per kolom\n",
    "        try: \n",
    "            sim_word = model_exp.similar_by_word(col, topn = 20) #Mencari similarity berdasarkan nilai n\n",
    "        except:\n",
    "            sim_word = []\n",
    "        if sim_word != []: #jika similarity tidak kosong\n",
    "            for term in [sim_word[i][0] for i in range(len(sim_word))]: #loop per-word yang ada di Similarity\n",
    "                if term in feature:\n",
    "                    #untuk semua kolom yang mempunyai nilai 0 di kolom, tetapi mempunyai nilai yang bukan 0 pada kolom term\n",
    "                    #nilainya diganti dengan nilai kolom term yang mempunyai nilai bukan 0\n",
    "                    df[col][(df[col]==0) & (df[term]!=0)] = df[term][(df[col]==0) & (df[term]!=0)]\n",
    "    return df"
   ]
  },
  {
   "cell_type": "code",
   "execution_count": 9,
   "id": "b4d87430",
   "metadata": {},
   "outputs": [
    {
     "name": "stderr",
     "output_type": "stream",
     "text": [
      "100%|██████████████████████████████████████████████████████████████████████████████| 1000/1000 [00:13<00:00, 72.25it/s]\n",
      "100%|██████████████████████████████████████████████████████████████████████████████| 1000/1000 [00:13<00:00, 75.28it/s]\n"
     ]
    }
   ],
   "source": [
    "feature_ext = vectorizer.get_feature_names_out()\n",
    "\n",
    "df_x_train = pd.DataFrame(x_train_tfidf, columns= feature_ext)\n",
    "df_x_test = pd.DataFrame(x_test_tfidf, columns= feature_ext)\n",
    "\n",
    "df_exp_x_train = feature_expansion(df_x_train, feature_ext)\n",
    "df_exp_x_test = feature_expansion(df_x_test, feature_ext)\n",
    "\n",
    "x_train = np.expand_dims(df_exp_x_train, 1)\n",
    "x_test = np.expand_dims(df_exp_x_test, 1)"
   ]
  },
  {
   "cell_type": "markdown",
   "id": "0f45e08d",
   "metadata": {},
   "source": [
    "# Model RNN"
   ]
  },
  {
   "cell_type": "code",
   "execution_count": 10,
   "id": "4f1135a4",
   "metadata": {},
   "outputs": [],
   "source": [
    "def RNN(x_train_c, y_train_c, x_test_c, y_test_c):\n",
    "    rnn = Sequential()\n",
    "    rnn.add(SimpleRNN(units=256, activation='relu', recurrent_dropout=0.2, return_sequences=True))\n",
    "    rnn.add(Dropout(0.2))\n",
    "    rnn.add(SimpleRNN(units=128, activation='relu', return_sequences=True))\n",
    "    rnn.add(Dropout(0.2))\n",
    "    rnn.add(SimpleRNN(units=64, activation='relu'))\n",
    "    rnn.add(Dropout(0.2))\n",
    "    rnn.add(Dense(units=3, activation='softmax'))\n",
    "    \n",
    "    rnn.compile(loss='categorical_crossentropy', optimizer='adam', metrics=['accuracy'])\n",
    "    \n",
    "    rnn.build(x_train_c.shape)\n",
    "    \n",
    "    early_stopping = EarlyStopping(monitor='val_loss', mode = 'min', verbose = 1, patience=3, min_delta=0.0001)\n",
    "    model_checkpoint = ModelCheckpoint('rnn_tfidf_ft_direktor.h5', monitor = 'val_accuracy', mode = 'max', verbose = 1, save_best_only = True)\n",
    "    \n",
    "    history = rnn.fit(x_train_c, y_train_c, epochs= 10, batch_size=128, \n",
    "                      validation_data=(x_test_c, y_test_c), verbose = 1,\n",
    "                      callbacks=[early_stopping, model_checkpoint])\n",
    "    \n",
    "    model = load_model('rnn_tfidf_ft_direktor.h5')\n",
    "    y_pred = model.predict(x_test_c)\n",
    "    y_pred_cat = y_pred.argmax(axis=1)\n",
    "    y_test_cat = np.argmax(y_test_c, axis=1)\n",
    "   \n",
    "    cm = confusion_matrix(y_test_cat, y_pred_cat)\n",
    "    classreport = classification_report(y_test_cat, y_pred_cat)\n",
    "    f1 = f1_score(y_test_cat, y_pred_cat,  average=\"macro\")\n",
    "    recall = recall_score(y_test_cat, y_pred_cat, average=\"macro\")\n",
    "    precision = precision_score(y_test_cat, y_pred_cat, average=\"macro\")\n",
    "    accuracy = accuracy_score(y_test_cat, y_pred_cat)\n",
    "\n",
    "    print(classreport)\n",
    "    print(\"F1 Score : \", f1)\n",
    "    print(\"Precision : \", precision)\n",
    "    print(\"Recall : \", recall)\n",
    "    print(\"Accuracy : \", accuracy)\n",
    "\n",
    "    return [f1, precision, recall, accuracy, cm]"
   ]
  },
  {
   "cell_type": "markdown",
   "id": "e2d00b03",
   "metadata": {},
   "source": [
    "# Running"
   ]
  },
  {
   "cell_type": "code",
   "execution_count": 11,
   "id": "3e1c419c",
   "metadata": {},
   "outputs": [
    {
     "name": "stdout",
     "output_type": "stream",
     "text": [
      "Epoch 1/10\n",
      "103/108 [===========================>..] - ETA: 0s - loss: 0.5151 - accuracy: 0.8465\n",
      "Epoch 1: val_accuracy improved from -inf to 0.85536, saving model to rnn_tfidf_ft_direktor.h5\n",
      "108/108 [==============================] - 9s 22ms/step - loss: 0.5123 - accuracy: 0.8466 - val_loss: 0.4197 - val_accuracy: 0.8554\n",
      "Epoch 2/10\n",
      "107/108 [============================>.] - ETA: 0s - loss: 0.3858 - accuracy: 0.8667\n",
      "Epoch 2: val_accuracy improved from 0.85536 to 0.87217, saving model to rnn_tfidf_ft_direktor.h5\n",
      "108/108 [==============================] - 1s 12ms/step - loss: 0.3849 - accuracy: 0.8672 - val_loss: 0.3841 - val_accuracy: 0.8722\n",
      "Epoch 3/10\n",
      "103/108 [===========================>..] - ETA: 0s - loss: 0.3304 - accuracy: 0.8877\n",
      "Epoch 3: val_accuracy improved from 0.87217 to 0.87304, saving model to rnn_tfidf_ft_direktor.h5\n",
      "108/108 [==============================] - 1s 11ms/step - loss: 0.3315 - accuracy: 0.8868 - val_loss: 0.3800 - val_accuracy: 0.8730\n",
      "Epoch 4/10\n",
      "103/108 [===========================>..] - ETA: 0s - loss: 0.2844 - accuracy: 0.8990\n",
      "Epoch 4: val_accuracy improved from 0.87304 to 0.87420, saving model to rnn_tfidf_ft_direktor.h5\n",
      "108/108 [==============================] - 1s 11ms/step - loss: 0.2849 - accuracy: 0.8994 - val_loss: 0.3782 - val_accuracy: 0.8742\n",
      "Epoch 5/10\n",
      "103/108 [===========================>..] - ETA: 0s - loss: 0.2301 - accuracy: 0.9209\n",
      "Epoch 5: val_accuracy did not improve from 0.87420\n",
      "108/108 [==============================] - 1s 10ms/step - loss: 0.2296 - accuracy: 0.9209 - val_loss: 0.4169 - val_accuracy: 0.8710\n",
      "Epoch 6/10\n",
      "108/108 [==============================] - ETA: 0s - loss: 0.1745 - accuracy: 0.9408\n",
      "Epoch 6: val_accuracy did not improve from 0.87420\n",
      "108/108 [==============================] - 1s 10ms/step - loss: 0.1745 - accuracy: 0.9408 - val_loss: 0.4838 - val_accuracy: 0.8736\n",
      "Epoch 7/10\n",
      "103/108 [===========================>..] - ETA: 0s - loss: 0.1209 - accuracy: 0.9604\n",
      "Epoch 7: val_accuracy did not improve from 0.87420\n",
      "108/108 [==============================] - 1s 10ms/step - loss: 0.1208 - accuracy: 0.9607 - val_loss: 0.5382 - val_accuracy: 0.8603\n",
      "Epoch 7: early stopping\n",
      "108/108 [==============================] - 2s 9ms/step\n",
      "              precision    recall  f1-score   support\n",
      "\n",
      "           0       0.31      0.03      0.06       117\n",
      "           1       0.90      0.97      0.93      2951\n",
      "           2       0.61      0.39      0.48       382\n",
      "\n",
      "    accuracy                           0.87      3450\n",
      "   macro avg       0.61      0.46      0.49      3450\n",
      "weighted avg       0.84      0.87      0.85      3450\n",
      "\n",
      "F1 Score :  0.48949850502156095\n",
      "Precision :  0.6059734472324899\n",
      "Recall :  0.46404701915922714\n",
      "Accuracy :  0.8742028985507246\n",
      "Epoch 1/10\n",
      "105/108 [============================>.] - ETA: 0s - loss: 0.5033 - accuracy: 0.8501\n",
      "Epoch 1: val_accuracy improved from -inf to 0.85536, saving model to rnn_tfidf_ft_direktor.h5\n",
      "108/108 [==============================] - 16s 44ms/step - loss: 0.5017 - accuracy: 0.8500 - val_loss: 0.4161 - val_accuracy: 0.8554\n",
      "Epoch 2/10\n",
      "106/108 [============================>.] - ETA: 0s - loss: 0.3845 - accuracy: 0.8645\n",
      "Epoch 2: val_accuracy improved from 0.85536 to 0.87536, saving model to rnn_tfidf_ft_direktor.h5\n",
      "108/108 [==============================] - 2s 20ms/step - loss: 0.3834 - accuracy: 0.8650 - val_loss: 0.3787 - val_accuracy: 0.8754\n",
      "Epoch 3/10\n",
      "107/108 [============================>.] - ETA: 0s - loss: 0.3252 - accuracy: 0.8870\n",
      "Epoch 3: val_accuracy did not improve from 0.87536\n",
      "108/108 [==============================] - 1s 11ms/step - loss: 0.3258 - accuracy: 0.8865 - val_loss: 0.3716 - val_accuracy: 0.8736\n",
      "Epoch 4/10\n",
      "108/108 [==============================] - ETA: 0s - loss: 0.2772 - accuracy: 0.8996\n",
      "Epoch 4: val_accuracy did not improve from 0.87536\n",
      "108/108 [==============================] - 1s 11ms/step - loss: 0.2772 - accuracy: 0.8996 - val_loss: 0.3889 - val_accuracy: 0.8730\n",
      "Epoch 5/10\n",
      "107/108 [============================>.] - ETA: 0s - loss: 0.2204 - accuracy: 0.9230\n",
      "Epoch 5: val_accuracy did not improve from 0.87536\n",
      "108/108 [==============================] - 1s 12ms/step - loss: 0.2203 - accuracy: 0.9229 - val_loss: 0.4289 - val_accuracy: 0.8678\n",
      "Epoch 6/10\n",
      "108/108 [==============================] - ETA: 0s - loss: 0.1706 - accuracy: 0.9431\n",
      "Epoch 6: val_accuracy did not improve from 0.87536\n",
      "108/108 [==============================] - 1s 12ms/step - loss: 0.1706 - accuracy: 0.9431 - val_loss: 0.4723 - val_accuracy: 0.8687\n",
      "Epoch 6: early stopping\n",
      "108/108 [==============================] - 1s 5ms/step\n",
      "              precision    recall  f1-score   support\n",
      "\n",
      "           0       0.00      0.00      0.00       117\n",
      "           1       0.89      0.98      0.93      2951\n",
      "           2       0.67      0.31      0.42       382\n",
      "\n",
      "    accuracy                           0.88      3450\n",
      "   macro avg       0.52      0.43      0.45      3450\n",
      "weighted avg       0.83      0.88      0.84      3450\n",
      "\n",
      "F1 Score :  0.4524492474155017\n",
      "Precision :  0.518384339258079\n",
      "Recall :  0.43152497186447875\n",
      "Accuracy :  0.8753623188405797\n"
     ]
    },
    {
     "name": "stderr",
     "output_type": "stream",
     "text": [
      "C:\\Users\\Alienware 15R2\\anaconda3\\lib\\site-packages\\sklearn\\metrics\\_classification.py:1344: UndefinedMetricWarning: Precision and F-score are ill-defined and being set to 0.0 in labels with no predicted samples. Use `zero_division` parameter to control this behavior.\n",
      "  _warn_prf(average, modifier, msg_start, len(result))\n",
      "C:\\Users\\Alienware 15R2\\anaconda3\\lib\\site-packages\\sklearn\\metrics\\_classification.py:1344: UndefinedMetricWarning: Precision and F-score are ill-defined and being set to 0.0 in labels with no predicted samples. Use `zero_division` parameter to control this behavior.\n",
      "  _warn_prf(average, modifier, msg_start, len(result))\n",
      "C:\\Users\\Alienware 15R2\\anaconda3\\lib\\site-packages\\sklearn\\metrics\\_classification.py:1344: UndefinedMetricWarning: Precision and F-score are ill-defined and being set to 0.0 in labels with no predicted samples. Use `zero_division` parameter to control this behavior.\n",
      "  _warn_prf(average, modifier, msg_start, len(result))\n",
      "C:\\Users\\Alienware 15R2\\anaconda3\\lib\\site-packages\\sklearn\\metrics\\_classification.py:1344: UndefinedMetricWarning: Precision is ill-defined and being set to 0.0 in labels with no predicted samples. Use `zero_division` parameter to control this behavior.\n",
      "  _warn_prf(average, modifier, msg_start, len(result))\n"
     ]
    },
    {
     "name": "stdout",
     "output_type": "stream",
     "text": [
      "Epoch 1/10\n",
      "107/108 [============================>.] - ETA: 0s - loss: 0.4986 - accuracy: 0.8508\n",
      "Epoch 1: val_accuracy improved from -inf to 0.85536, saving model to rnn_tfidf_ft_direktor.h5\n",
      "108/108 [==============================] - 13s 36ms/step - loss: 0.4987 - accuracy: 0.8505 - val_loss: 0.4226 - val_accuracy: 0.8554\n",
      "Epoch 2/10\n",
      "108/108 [==============================] - ETA: 0s - loss: 0.3922 - accuracy: 0.8585\n",
      "Epoch 2: val_accuracy improved from 0.85536 to 0.86667, saving model to rnn_tfidf_ft_direktor.h5\n",
      "108/108 [==============================] - 3s 29ms/step - loss: 0.3922 - accuracy: 0.8585 - val_loss: 0.3938 - val_accuracy: 0.8667\n",
      "Epoch 3/10\n",
      "107/108 [============================>.] - ETA: 0s - loss: 0.3362 - accuracy: 0.8846\n",
      "Epoch 3: val_accuracy improved from 0.86667 to 0.87652, saving model to rnn_tfidf_ft_direktor.h5\n",
      "108/108 [==============================] - 4s 33ms/step - loss: 0.3359 - accuracy: 0.8848 - val_loss: 0.3754 - val_accuracy: 0.8765\n",
      "Epoch 4/10\n",
      "107/108 [============================>.] - ETA: 0s - loss: 0.2849 - accuracy: 0.8974\n",
      "Epoch 4: val_accuracy improved from 0.87652 to 0.87971, saving model to rnn_tfidf_ft_direktor.h5\n",
      "108/108 [==============================] - 3s 31ms/step - loss: 0.2847 - accuracy: 0.8974 - val_loss: 0.3825 - val_accuracy: 0.8797\n",
      "Epoch 5/10\n",
      "108/108 [==============================] - ETA: 0s - loss: 0.2325 - accuracy: 0.9176\n",
      "Epoch 5: val_accuracy did not improve from 0.87971\n",
      "108/108 [==============================] - 3s 29ms/step - loss: 0.2325 - accuracy: 0.9176 - val_loss: 0.4221 - val_accuracy: 0.8762\n",
      "Epoch 6/10\n",
      "107/108 [============================>.] - ETA: 0s - loss: 0.1664 - accuracy: 0.9439\n",
      "Epoch 6: val_accuracy did not improve from 0.87971\n",
      "108/108 [==============================] - 3s 31ms/step - loss: 0.1669 - accuracy: 0.9436 - val_loss: 0.4778 - val_accuracy: 0.8591\n",
      "Epoch 6: early stopping\n",
      "108/108 [==============================] - 2s 4ms/step\n",
      "              precision    recall  f1-score   support\n",
      "\n",
      "           0       0.71      0.04      0.08       117\n",
      "           1       0.89      0.98      0.94      2951\n",
      "           2       0.67      0.35      0.46       382\n",
      "\n",
      "    accuracy                           0.88      3450\n",
      "   macro avg       0.76      0.46      0.49      3450\n",
      "weighted avg       0.86      0.88      0.85      3450\n",
      "\n",
      "F1 Score :  0.49041993195701034\n",
      "Precision :  0.7580062122435004\n",
      "Recall :  0.45677492246673695\n",
      "Accuracy :  0.8797101449275362\n",
      "Epoch 1/10\n",
      "106/108 [============================>.] - ETA: 0s - loss: 0.5183 - accuracy: 0.8435\n",
      "Epoch 1: val_accuracy improved from -inf to 0.85536, saving model to rnn_tfidf_ft_direktor.h5\n",
      "108/108 [==============================] - 7s 24ms/step - loss: 0.5160 - accuracy: 0.8438 - val_loss: 0.4256 - val_accuracy: 0.8554\n",
      "Epoch 2/10\n",
      "103/108 [===========================>..] - ETA: 0s - loss: 0.3959 - accuracy: 0.8583\n",
      "Epoch 2: val_accuracy improved from 0.85536 to 0.86551, saving model to rnn_tfidf_ft_direktor.h5\n",
      "108/108 [==============================] - 1s 11ms/step - loss: 0.3940 - accuracy: 0.8594 - val_loss: 0.4021 - val_accuracy: 0.8655\n",
      "Epoch 3/10\n",
      "107/108 [============================>.] - ETA: 0s - loss: 0.3361 - accuracy: 0.8835\n",
      "Epoch 3: val_accuracy improved from 0.86551 to 0.88000, saving model to rnn_tfidf_ft_direktor.h5\n",
      "108/108 [==============================] - 1s 13ms/step - loss: 0.3357 - accuracy: 0.8836 - val_loss: 0.3764 - val_accuracy: 0.8800\n",
      "Epoch 4/10\n",
      "107/108 [============================>.] - ETA: 0s - loss: 0.2859 - accuracy: 0.8969\n",
      "Epoch 4: val_accuracy did not improve from 0.88000\n",
      "108/108 [==============================] - 1s 13ms/step - loss: 0.2866 - accuracy: 0.8964 - val_loss: 0.3806 - val_accuracy: 0.8716\n",
      "Epoch 5/10\n",
      "106/108 [============================>.] - ETA: 0s - loss: 0.2331 - accuracy: 0.9165\n",
      "Epoch 5: val_accuracy did not improve from 0.88000\n",
      "108/108 [==============================] - 1s 13ms/step - loss: 0.2335 - accuracy: 0.9164 - val_loss: 0.4278 - val_accuracy: 0.8771\n",
      "Epoch 6/10\n",
      "105/108 [============================>.] - ETA: 0s - loss: 0.1728 - accuracy: 0.9426\n",
      "Epoch 6: val_accuracy did not improve from 0.88000\n",
      "108/108 [==============================] - 1s 13ms/step - loss: 0.1731 - accuracy: 0.9425 - val_loss: 0.4699 - val_accuracy: 0.8661\n",
      "Epoch 6: early stopping\n",
      "108/108 [==============================] - 2s 5ms/step\n",
      "              precision    recall  f1-score   support\n",
      "\n",
      "           0       0.00      0.00      0.00       117\n",
      "           1       0.89      0.99      0.94      2951\n",
      "           2       0.76      0.29      0.42       382\n",
      "\n",
      "    accuracy                           0.88      3450\n",
      "   macro avg       0.55      0.43      0.45      3450\n",
      "weighted avg       0.84      0.88      0.85      3450\n",
      "\n",
      "F1 Score :  0.4519021146718989\n",
      "Precision :  0.5485215098344888\n",
      "Recall :  0.42725511451438064\n",
      "Accuracy :  0.88\n"
     ]
    },
    {
     "name": "stderr",
     "output_type": "stream",
     "text": [
      "C:\\Users\\Alienware 15R2\\anaconda3\\lib\\site-packages\\sklearn\\metrics\\_classification.py:1344: UndefinedMetricWarning: Precision and F-score are ill-defined and being set to 0.0 in labels with no predicted samples. Use `zero_division` parameter to control this behavior.\n",
      "  _warn_prf(average, modifier, msg_start, len(result))\n",
      "C:\\Users\\Alienware 15R2\\anaconda3\\lib\\site-packages\\sklearn\\metrics\\_classification.py:1344: UndefinedMetricWarning: Precision and F-score are ill-defined and being set to 0.0 in labels with no predicted samples. Use `zero_division` parameter to control this behavior.\n",
      "  _warn_prf(average, modifier, msg_start, len(result))\n",
      "C:\\Users\\Alienware 15R2\\anaconda3\\lib\\site-packages\\sklearn\\metrics\\_classification.py:1344: UndefinedMetricWarning: Precision and F-score are ill-defined and being set to 0.0 in labels with no predicted samples. Use `zero_division` parameter to control this behavior.\n",
      "  _warn_prf(average, modifier, msg_start, len(result))\n",
      "C:\\Users\\Alienware 15R2\\anaconda3\\lib\\site-packages\\sklearn\\metrics\\_classification.py:1344: UndefinedMetricWarning: Precision is ill-defined and being set to 0.0 in labels with no predicted samples. Use `zero_division` parameter to control this behavior.\n",
      "  _warn_prf(average, modifier, msg_start, len(result))\n"
     ]
    },
    {
     "name": "stdout",
     "output_type": "stream",
     "text": [
      "Epoch 1/10\n",
      "106/108 [============================>.] - ETA: 0s - loss: 0.5231 - accuracy: 0.8432\n",
      "Epoch 1: val_accuracy improved from -inf to 0.85536, saving model to rnn_tfidf_ft_direktor.h5\n",
      "108/108 [==============================] - 10s 45ms/step - loss: 0.5223 - accuracy: 0.8432 - val_loss: 0.4232 - val_accuracy: 0.8554\n",
      "Epoch 2/10\n",
      "108/108 [==============================] - ETA: 0s - loss: 0.3994 - accuracy: 0.8577\n",
      "Epoch 2: val_accuracy improved from 0.85536 to 0.86957, saving model to rnn_tfidf_ft_direktor.h5\n",
      "108/108 [==============================] - 4s 36ms/step - loss: 0.3994 - accuracy: 0.8577 - val_loss: 0.3912 - val_accuracy: 0.8696\n",
      "Epoch 3/10\n",
      "107/108 [============================>.] - ETA: 0s - loss: 0.3415 - accuracy: 0.8822\n",
      "Epoch 3: val_accuracy did not improve from 0.86957\n",
      "108/108 [==============================] - 3s 26ms/step - loss: 0.3409 - accuracy: 0.8824 - val_loss: 0.3788 - val_accuracy: 0.8696\n",
      "Epoch 4/10\n",
      "107/108 [============================>.] - ETA: 0s - loss: 0.2867 - accuracy: 0.8996\n",
      "Epoch 4: val_accuracy improved from 0.86957 to 0.87913, saving model to rnn_tfidf_ft_direktor.h5\n",
      "108/108 [==============================] - 3s 27ms/step - loss: 0.2872 - accuracy: 0.8995 - val_loss: 0.3801 - val_accuracy: 0.8791\n",
      "Epoch 5/10\n",
      "106/108 [============================>.] - ETA: 0s - loss: 0.2378 - accuracy: 0.9160\n",
      "Epoch 5: val_accuracy did not improve from 0.87913\n",
      "108/108 [==============================] - 3s 25ms/step - loss: 0.2394 - accuracy: 0.9154 - val_loss: 0.4132 - val_accuracy: 0.8629\n",
      "Epoch 6/10\n",
      "107/108 [============================>.] - ETA: 0s - loss: 0.1832 - accuracy: 0.9385\n",
      "Epoch 6: val_accuracy did not improve from 0.87913\n",
      "108/108 [==============================] - 3s 27ms/step - loss: 0.1833 - accuracy: 0.9385 - val_loss: 0.4487 - val_accuracy: 0.8675\n",
      "Epoch 6: early stopping\n",
      "108/108 [==============================] - 3s 10ms/step\n",
      "              precision    recall  f1-score   support\n",
      "\n",
      "           0       0.75      0.03      0.05       117\n",
      "           1       0.89      0.98      0.93      2951\n",
      "           2       0.68      0.34      0.45       382\n",
      "\n",
      "    accuracy                           0.88      3450\n",
      "   macro avg       0.77      0.45      0.48      3450\n",
      "weighted avg       0.86      0.88      0.85      3450\n",
      "\n",
      "F1 Score :  0.47804016049904297\n",
      "Precision :  0.7749830580227851\n",
      "Recall :  0.4480383396129411\n",
      "Accuracy :  0.8791304347826087\n"
     ]
    }
   ],
   "source": [
    "hasil = []\n",
    "\n",
    "for i in range(1, 6):\n",
    "    hasil.append([str(i)] + RNN(x_train, y_train, x_test, y_test))"
   ]
  },
  {
   "cell_type": "markdown",
   "id": "fca41e89",
   "metadata": {},
   "source": [
    "# Save Output"
   ]
  },
  {
   "cell_type": "code",
   "execution_count": 12,
   "id": "5bf3ea00",
   "metadata": {},
   "outputs": [
    {
     "data": {
      "text/html": [
       "<div>\n",
       "<style scoped>\n",
       "    .dataframe tbody tr th:only-of-type {\n",
       "        vertical-align: middle;\n",
       "    }\n",
       "\n",
       "    .dataframe tbody tr th {\n",
       "        vertical-align: top;\n",
       "    }\n",
       "\n",
       "    .dataframe thead th {\n",
       "        text-align: right;\n",
       "    }\n",
       "</style>\n",
       "<table border=\"1\" class=\"dataframe\">\n",
       "  <thead>\n",
       "    <tr style=\"text-align: right;\">\n",
       "      <th></th>\n",
       "      <th>iterasi</th>\n",
       "      <th>f1</th>\n",
       "      <th>precision</th>\n",
       "      <th>recall</th>\n",
       "      <th>accuracy</th>\n",
       "      <th>cm</th>\n",
       "    </tr>\n",
       "  </thead>\n",
       "  <tbody>\n",
       "    <tr>\n",
       "      <th>0</th>\n",
       "      <td>1</td>\n",
       "      <td>0.489499</td>\n",
       "      <td>0.605973</td>\n",
       "      <td>0.464047</td>\n",
       "      <td>0.874203</td>\n",
       "      <td>[[4, 101, 12], [6, 2864, 81], [3, 231, 148]]</td>\n",
       "    </tr>\n",
       "    <tr>\n",
       "      <th>1</th>\n",
       "      <td>2</td>\n",
       "      <td>0.452449</td>\n",
       "      <td>0.518384</td>\n",
       "      <td>0.431525</td>\n",
       "      <td>0.875362</td>\n",
       "      <td>[[0, 108, 9], [0, 2901, 50], [0, 263, 119]]</td>\n",
       "    </tr>\n",
       "    <tr>\n",
       "      <th>2</th>\n",
       "      <td>3</td>\n",
       "      <td>0.490420</td>\n",
       "      <td>0.758006</td>\n",
       "      <td>0.456775</td>\n",
       "      <td>0.879710</td>\n",
       "      <td>[[5, 98, 14], [1, 2898, 52], [1, 249, 132]]</td>\n",
       "    </tr>\n",
       "    <tr>\n",
       "      <th>3</th>\n",
       "      <td>4</td>\n",
       "      <td>0.451902</td>\n",
       "      <td>0.548522</td>\n",
       "      <td>0.427255</td>\n",
       "      <td>0.880000</td>\n",
       "      <td>[[0, 108, 9], [0, 2925, 26], [0, 271, 111]]</td>\n",
       "    </tr>\n",
       "    <tr>\n",
       "      <th>4</th>\n",
       "      <td>5</td>\n",
       "      <td>0.478040</td>\n",
       "      <td>0.774983</td>\n",
       "      <td>0.448038</td>\n",
       "      <td>0.879130</td>\n",
       "      <td>[[3, 103, 11], [1, 2902, 48], [0, 254, 128]]</td>\n",
       "    </tr>\n",
       "  </tbody>\n",
       "</table>\n",
       "</div>"
      ],
      "text/plain": [
       "  iterasi        f1  precision    recall  accuracy  \\\n",
       "0       1  0.489499   0.605973  0.464047  0.874203   \n",
       "1       2  0.452449   0.518384  0.431525  0.875362   \n",
       "2       3  0.490420   0.758006  0.456775  0.879710   \n",
       "3       4  0.451902   0.548522  0.427255  0.880000   \n",
       "4       5  0.478040   0.774983  0.448038  0.879130   \n",
       "\n",
       "                                             cm  \n",
       "0  [[4, 101, 12], [6, 2864, 81], [3, 231, 148]]  \n",
       "1   [[0, 108, 9], [0, 2901, 50], [0, 263, 119]]  \n",
       "2   [[5, 98, 14], [1, 2898, 52], [1, 249, 132]]  \n",
       "3   [[0, 108, 9], [0, 2925, 26], [0, 271, 111]]  \n",
       "4  [[3, 103, 11], [1, 2902, 48], [0, 254, 128]]  "
      ]
     },
     "execution_count": 12,
     "metadata": {},
     "output_type": "execute_result"
    }
   ],
   "source": [
    "df = pd.DataFrame(hasil, columns =['iterasi', 'f1', 'precision', 'recall', 'accuracy', 'cm'])\n",
    "#df.to_excel('rnn_tfidf_ft_direktor.xlsx')\n",
    "df.head()"
   ]
  },
  {
   "cell_type": "code",
   "execution_count": 13,
   "id": "4b79ef54",
   "metadata": {},
   "outputs": [
    {
     "name": "stdout",
     "output_type": "stream",
     "text": [
      "Accuracy : 87.77\n",
      "F1-Score : 47.25\n"
     ]
    }
   ],
   "source": [
    "print(\"Accuracy : %.2f\" % (df['accuracy'].mean()*100))\n",
    "print(\"F1-Score : %.2f\" % (df['f1'].mean()*100))"
   ]
  }
 ],
 "metadata": {
  "kernelspec": {
   "display_name": "Python 3 (ipykernel)",
   "language": "python",
   "name": "python3"
  },
  "language_info": {
   "codemirror_mode": {
    "name": "ipython",
    "version": 3
   },
   "file_extension": ".py",
   "mimetype": "text/x-python",
   "name": "python",
   "nbconvert_exporter": "python",
   "pygments_lexer": "ipython3",
   "version": "3.10.9"
  }
 },
 "nbformat": 4,
 "nbformat_minor": 5
}
